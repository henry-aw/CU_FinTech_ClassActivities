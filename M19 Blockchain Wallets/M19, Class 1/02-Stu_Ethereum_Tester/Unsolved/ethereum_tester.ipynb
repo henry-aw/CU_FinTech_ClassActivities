{
 "cells": [
  {
   "cell_type": "markdown",
   "metadata": {},
   "source": [
    "# Ethereum Tester\n",
    "In this activity you will utilize the Web3.py library as well as the `ethereum-tester` library and its `EthereumTesterProvider` to interact with a mock Ethereum blockchain.\n",
    "\n",
    "## Instructions\n",
    "\n",
    "Complete the following steps:\n",
    "\n",
    "1. From the Web3.py library, import `Web3` and the `EthereumTesterProvider`.\n",
    "\n",
    "2. Set the `EthereumTesterProvider` equal to a variable called `provider`.\n",
    "\n",
    "3. Create an instance of `Web3` passing the `provider` as a parameter. Set this equal to a variable called `w3`.\n",
    "\n",
    "4. Use the web3.eth API's `get_block` function to access the \"latest\" block in your mock blockchain.\n",
    "\n",
    "5. Use the web3.eth API's `accounts` function to access a list of account addresses that can be used to create a transaction.\n",
    "\n",
    "6. Use the web3.eth API's `get_balance` function to determine the wei balance in one of the accounts.\n",
    "\n",
    "7. Use Web3.py's `fromWei` function to calculate the number of ether in the account specified in step 6.\n",
    "\n",
    "8. Create and assign the following 4 variables:\n",
    "\n",
    "    * `sender` - assign it a value of one of the addresses from step 5.\n",
    "\n",
    "    * `receiver` - assign it a different address from step 5.\n",
    "\n",
    "    * `gas` - assign it a minium of 21000 units.\n",
    "\n",
    "    * `value` - the value should be the number of ether you want to send, but you will need to use the `toWei` function to convert it to the required wei.\n",
    "\n",
    "9. Use the web3.eth API's `send_transaction` function to send a transaction to the mock Ethereum blockchain.\n",
    "\n",
    "10. Use the web3.eth API's `get_transaction` function to find the details of the transaction, also known as the transaction object, sent in step 9.\n",
    "\n",
    "  > Hint:  You will need to use the transaction hash returned from the transaction to complete this step.\n",
    "\n",
    "11. Use the web3.eth API's `get_block` function to access the \"latest\" block in your mock blockchain. Has the block information changed from what was returned in step 4?\n",
    "\n",
    "12. Use the web3.eth API's `replace_transaction` function to update the units of `gas` in the original transaction. **NOTE:** This step will result in an ERROR - why do you think this occurs?"
   ]
  },
  {
   "cell_type": "markdown",
   "metadata": {},
   "source": [
    "## Step 1: From the Web3.py library, import `Web3` and the `EthereumTesterProvider`."
   ]
  },
  {
   "cell_type": "code",
   "execution_count": null,
   "metadata": {},
   "outputs": [],
   "source": [
    "# Import Web3 and EthereumTesterProvider \n",
    "# YOUR CODE HERE\n"
   ]
  },
  {
   "cell_type": "markdown",
   "metadata": {},
   "source": [
    "## Step 2: Set the `EthereumTesterProvider` equal to a variable called `provider`."
   ]
  },
  {
   "cell_type": "code",
   "execution_count": null,
   "metadata": {},
   "outputs": [],
   "source": [
    "# Set the EthereumTesterProvider as the provider\n",
    "# YOUR CODE HERE\n"
   ]
  },
  {
   "cell_type": "markdown",
   "metadata": {},
   "source": [
    "## Step 3: Create an instance of `Web3` passing the `provider` as a parameter. Set this equal to a variable called `w3`."
   ]
  },
  {
   "cell_type": "code",
   "execution_count": null,
   "metadata": {},
   "outputs": [],
   "source": [
    "# Pass the EthereumTesterProvider to the Web3 instance\n",
    "# YOUR CODE HERE\n"
   ]
  },
  {
   "cell_type": "markdown",
   "metadata": {},
   "source": [
    "## Step 4: Use the web3.eth API's `get_block` function to access the \"latest\" block in your mock blockchain."
   ]
  },
  {
   "cell_type": "code",
   "execution_count": null,
   "metadata": {},
   "outputs": [],
   "source": [
    "# Access the latest block in the chain\n",
    "# YOUR CODE HERE\n"
   ]
  },
  {
   "cell_type": "markdown",
   "metadata": {},
   "source": [
    "## Step 5: Use the web3.eth API's `accounts` function to access a list of account addresses that can be used to create a transaction."
   ]
  },
  {
   "cell_type": "code",
   "execution_count": null,
   "metadata": {},
   "outputs": [],
   "source": [
    "# List the accounts available for use with the mock blockchain\n",
    "# YOUR CODE HERE\n"
   ]
  },
  {
   "cell_type": "markdown",
   "metadata": {},
   "source": [
    "## Step 6: Use the web3.eth API's `get_balance` function to determine the wei balance in one of the accounts."
   ]
  },
  {
   "cell_type": "code",
   "execution_count": null,
   "metadata": {},
   "outputs": [],
   "source": [
    "# Access the balance of one of the test accounts\n",
    "wei_balance = # YOUR CODE HERE\n",
    "\n",
    "# Display the wei balance\n",
    "wei_balance"
   ]
  },
  {
   "cell_type": "markdown",
   "metadata": {},
   "source": [
    "## Step 7: Use Web3.py's `fromWei` function calculate the number of ether in the account specified in step 6."
   ]
  },
  {
   "cell_type": "code",
   "execution_count": null,
   "metadata": {},
   "outputs": [],
   "source": [
    "# Calculate the ether balance from the wei balance\n",
    "eth_balance = # YOUR CODE HERE\n",
    "\n",
    "# Display the ether balance\n",
    "eth_balance"
   ]
  },
  {
   "cell_type": "markdown",
   "metadata": {},
   "source": [
    "## Step 8: Create and assign the following 4 variables:\n",
    "\n",
    "  * `sender` - assing it a value of one of the addresses from step 5.\n",
    "\n",
    "  * `receiver` - assign it a different address from step 5.\n",
    "\n",
    "  * `gas` - assign it a minium of 21000 units.\n",
    "\n",
    "  * `value` - the value should be the number of ether you want to send, but you will need to use the `toWei` function to convert it to the required wei."
   ]
  },
  {
   "cell_type": "code",
   "execution_count": null,
   "metadata": {},
   "outputs": [],
   "source": [
    "# Set the sender address\n",
    "# YOUR CODE HERE\n",
    "\n",
    "# Set the receiver address\n",
    "# YOUR CODE HERE\n",
    "\n",
    "# Set units of gas\n",
    "# YOUR CODE HERE\n",
    "\n",
    "# Convert balance from ether to wei\n",
    "# YOUR CODE HERE\n"
   ]
  },
  {
   "cell_type": "markdown",
   "metadata": {},
   "source": [
    "## Step 9: Use the `ethereum-tester` library's `send_transaction` function send a transaction to the mock Ethereum blockchain."
   ]
  },
  {
   "cell_type": "code",
   "execution_count": null,
   "metadata": {},
   "outputs": [],
   "source": [
    "# Send the transaction to the ethereum-tester blockchain\n",
    "# YOUR CODE HERE\n"
   ]
  },
  {
   "cell_type": "markdown",
   "metadata": {},
   "source": [
    "## Step 10: Use the web3.eth API's `get_transaction` function to find the details of the transaction, also known as the transaction object, sent in step 9."
   ]
  },
  {
   "cell_type": "code",
   "execution_count": null,
   "metadata": {},
   "outputs": [],
   "source": [
    "# View the transaction object of the transaction sent in the prior step\n",
    "# YOUR CODE HERE\n"
   ]
  },
  {
   "cell_type": "markdown",
   "metadata": {},
   "source": [
    "## Step 11: Use the web3.eth API's `get_block` function to access the \"latest\" block in your mock blockchain. Has the block information changed from what was returned in step 4?"
   ]
  },
  {
   "cell_type": "code",
   "execution_count": null,
   "metadata": {},
   "outputs": [],
   "source": [
    "# Access the latest block in the chain\n",
    "# YOUR CODE HERE\n"
   ]
  },
  {
   "cell_type": "markdown",
   "metadata": {},
   "source": [
    "## Step 12. Use the web3.eth API's `replace_transaction` function to update the units of `gas` in the original transaction. **NOTE:** This step will result in an `ERROR` - why do you think this occurs?"
   ]
  },
  {
   "cell_type": "code",
   "execution_count": null,
   "metadata": {},
   "outputs": [],
   "source": [
    "# Update the gas units for the original transaction by hardcoding it into the transaction details\n",
    "updated_transaction = w3.eth.send_transaction({\n",
    "    'to': receiver, \n",
    "    'from': sender , \n",
    "    'gas': # YOUR CODE HERE \n",
    "    'value': value\n",
    "})\n",
    "\n",
    "# Replace the value and gas units of the original transaction\n",
    "# YOUR CODE HERE\n"
   ]
  }
 ],
 "metadata": {
  "kernelspec": {
   "display_name": "Python 3",
   "language": "python",
   "name": "python3"
  },
  "language_info": {
   "codemirror_mode": {
    "name": "ipython",
    "version": 3
   },
   "file_extension": ".py",
   "mimetype": "text/x-python",
   "name": "python",
   "nbconvert_exporter": "python",
   "pygments_lexer": "ipython3",
   "version": "3.7.3"
  }
 },
 "nbformat": 4,
 "nbformat_minor": 4
}
