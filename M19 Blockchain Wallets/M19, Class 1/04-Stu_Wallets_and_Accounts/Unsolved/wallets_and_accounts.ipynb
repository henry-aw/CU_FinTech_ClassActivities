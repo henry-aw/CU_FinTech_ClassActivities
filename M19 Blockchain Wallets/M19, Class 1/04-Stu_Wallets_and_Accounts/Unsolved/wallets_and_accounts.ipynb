{
 "cells": [
  {
   "cell_type": "markdown",
   "metadata": {},
   "source": [
    "# Wallets and Accounts\n",
    "\n",
    "\n",
    "This activity will give you the opportunity to solidify your understanding of the relationship between the mnemonic seed phrase you just created and how it is used in relationship to the HD wallet, the creation of a private key, and ultimately the Ethereum account and address.\n",
    "\n",
    "## Instructions\n",
    "\n",
    "1. In the Unsolved folder for this activity, create a `.env` file. Inside the `.env` file create a variable called `MNEMONIC` and set it equal to the mnemonic seed phrase that you created in the prior activity.\n",
    "\n",
    "2. Call the `os.getenv` function and pass it the mnemonic variable from the `.env` file. Set that equal to the variable `mnemonic`. Confirm the data type of the `mnemonic` variable to confirm it was imported from the `.env` file properly.\n",
    "\n",
    "3. Create your digital `wallet` by calling the `Wallet` module and passing it your mnemonic seed phrase.\n",
    "\n",
    "4. Create your public/private key pair by calling the `derive_account` function on your digital wallet and passing it the argument \"eth\" to confirm you are creating the keys for an Ethereum account. Display the byte strings for both your public and private keys.\n",
    "\n",
    "5. Create your Ethereum account by calling the `privateKeyToAccount` function on the `Account` module and passing it your private key. View the account object.\n",
    "\n",
    "6. Print the hash codes associated with the account's address and private keys.\n",
    "\n",
    "7. Create and encode a message to be included in a signed Ethereum transaction.\n",
    "\n",
    "8. Using the Web3 eth API's [`account.sign_message` function](https://web3py.readthedocs.io/en/stable/web3.eth.account.html#sign-a-message), create a signed message by passing in the encoded message and your private key.\n",
    "\n",
    "9. To verify the message was created and signed, call the [`account.recover_message` function](https://web3py.readthedocs.io/en/stable/web3.eth.account.html#verify-a-message) and pass it the encoded message and the message signature."
   ]
  },
  {
   "cell_type": "markdown",
   "metadata": {},
   "source": [
    "## Step 1: In the Unsolved folder for this activity, create a `.env` file. Inside the `.env` file create a variable called `MNEMONIC` and set it equal to the mnemonic seed phrase that you created in the prior activity."
   ]
  },
  {
   "cell_type": "markdown",
   "metadata": {},
   "source": [
    "## Step 2: Call the `os.getenv` function and pass it the mnemonic variable from the `.env` file. Set that equal to the variable `mnemonic`. Confirm the data type of the `mnemonic` variable to confirm it was imported from the `.env` file properly."
   ]
  },
  {
   "cell_type": "code",
   "execution_count": null,
   "metadata": {},
   "outputs": [],
   "source": [
    "# Load the .env file\n",
    "import os\n",
    "from dotenv import load_dotenv\n",
    "load_dotenv()\n",
    "\n",
    "# Access the MNEMONIC variable from the .env file\n",
    "# YOUR CODE HERE\n",
    "\n",
    "# Print the data type to confirm import\n",
    "# YOUR CODE HERE\n"
   ]
  },
  {
   "cell_type": "markdown",
   "metadata": {},
   "source": [
    "## Step 3: Create your digital `wallet` by calling the `Wallet` module and passing it your mnemonic seed phrase."
   ]
  },
  {
   "cell_type": "code",
   "execution_count": null,
   "metadata": {},
   "outputs": [],
   "source": [
    "# Import the Wallet module\n",
    "from bip44 import Wallet\n",
    "\n",
    "# Create the HD wallet instance\n",
    "# YOUR CODE HERE\n",
    "\n",
    "# View the wallet \n",
    "# YOUR CODE HERE\n"
   ]
  },
  {
   "cell_type": "markdown",
   "metadata": {},
   "source": [
    "## Step 4: Create your public/private key pair by calling the `derive_account` function on your digital wallet and passing it the argument \"eth\" to confirm you are creating the keys for an Ethereum account. Display the byte strings for both your public and private keys."
   ]
  },
  {
   "cell_type": "code",
   "execution_count": null,
   "metadata": {},
   "outputs": [],
   "source": [
    "# Create the public and private keys for a new Ethereum account\n",
    "# YOUR CODE HERE\n",
    "\n",
    "# Display the private and public keys\n",
    "# YOUR CODE HERE\n",
    "# YOUR CODE HERE\n"
   ]
  },
  {
   "cell_type": "markdown",
   "metadata": {},
   "source": [
    "## Step 5: Create your Ethereum account by calling the `privateKeyToAccount` function on the `Account` module and passing it your private key. View the account object."
   ]
  },
  {
   "cell_type": "code",
   "execution_count": null,
   "metadata": {},
   "outputs": [],
   "source": [
    "# Import the Account module from web3\n",
    "from web3 import Account\n",
    "\n",
    "# Create an Ethereum account by passing the private key \n",
    "# YOUR CODE HERE\n",
    "\n",
    "# View the account object\n",
    "# YOUR CODE HERE\n"
   ]
  },
  {
   "cell_type": "markdown",
   "metadata": {},
   "source": [
    "## Step 6: Print the hash codes associated with the account's address and private keys."
   ]
  },
  {
   "cell_type": "code",
   "execution_count": null,
   "metadata": {},
   "outputs": [],
   "source": [
    "# Print the hashed address for your Ethereum account\n",
    "# YOUR CODE HERE\n"
   ]
  },
  {
   "cell_type": "code",
   "execution_count": null,
   "metadata": {},
   "outputs": [],
   "source": [
    "# Print the hashed private key for your Ethereum account\n",
    "# YOUR CODE HERE\n"
   ]
  },
  {
   "cell_type": "markdown",
   "metadata": {},
   "source": [
    "## Step 7: Create and encode a message to be included in a signed Ethereum transaction."
   ]
  },
  {
   "cell_type": "code",
   "execution_count": null,
   "metadata": {},
   "outputs": [],
   "source": [
    "# Imports\n",
    "from eth_account.messages import encode_defunct\n",
    "\n",
    "# Create a message\n",
    "# YOUR CODE HERE\n",
    "\n",
    "# Encode the message\n",
    "# YOUR CODE HERE\n",
    "\n",
    "# View the encoded message\n",
    "# YOUR CODE HERE\n"
   ]
  },
  {
   "cell_type": "markdown",
   "metadata": {},
   "source": [
    "## Step 8: Using the Web3 eth API's [`account.sign_message` function](https://web3py.readthedocs.io/en/stable/web3.eth.account.html#sign-a-message), create a signed message by the encoded message and your private key."
   ]
  },
  {
   "cell_type": "code",
   "execution_count": null,
   "metadata": {},
   "outputs": [],
   "source": [
    "# Imports\n",
    "from web3.auto import w3\n",
    "\n",
    "# Sign the message with your Ethereum account private key\n",
    "# YOUR CODE HERE\n",
    "\n",
    "# Review the signed message\n",
    "# YOUR CODE HERE\n"
   ]
  },
  {
   "cell_type": "markdown",
   "metadata": {},
   "source": [
    "## Step 9. To verify the message was created and signed, call the [`account.recover_message` function](https://web3py.readthedocs.io/en/stable/web3.eth.account.html#verify-a-message) and pass it the encoded message and the message signature."
   ]
  },
  {
   "cell_type": "code",
   "execution_count": null,
   "metadata": {},
   "outputs": [],
   "source": [
    "# Verify the message using the encoded message and the message signature\n",
    "# YOUR CODE HERE\n"
   ]
  },
  {
   "cell_type": "code",
   "execution_count": null,
   "metadata": {},
   "outputs": [],
   "source": []
  }
 ],
 "metadata": {
  "kernelspec": {
   "display_name": "Python 3",
   "language": "python",
   "name": "python3"
  },
  "language_info": {
   "codemirror_mode": {
    "name": "ipython",
    "version": 3
   },
   "file_extension": ".py",
   "mimetype": "text/x-python",
   "name": "python",
   "nbconvert_exporter": "python",
   "pygments_lexer": "ipython3",
   "version": "3.7.3"
  }
 },
 "nbformat": 4,
 "nbformat_minor": 4
}
