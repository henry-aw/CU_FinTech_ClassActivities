{
 "cells": [
  {
   "cell_type": "markdown",
   "metadata": {},
   "source": [
    "# Creating, Chaining, & Hashing Blocks"
   ]
  },
  {
   "cell_type": "code",
   "execution_count": 1,
   "metadata": {},
   "outputs": [],
   "source": [
    "# Initial imports\n"
   ]
  },
  {
   "cell_type": "markdown",
   "metadata": {},
   "source": [
    "## Define the `Block` class"
   ]
  },
  {
   "cell_type": "code",
   "execution_count": 2,
   "metadata": {},
   "outputs": [],
   "source": [
    "# Define a new dataclass called Block\n"
   ]
  },
  {
   "cell_type": "markdown",
   "metadata": {},
   "source": [
    "## Modify the `shares` field"
   ]
  },
  {
   "cell_type": "code",
   "execution_count": 3,
   "metadata": {},
   "outputs": [],
   "source": [
    "# Required libraries\n"
   ]
  },
  {
   "cell_type": "code",
   "execution_count": 4,
   "metadata": {},
   "outputs": [],
   "source": [
    "# Change the shares field to hold anything\n"
   ]
  },
  {
   "cell_type": "markdown",
   "metadata": {},
   "source": [
    "## Create a new block to register a new trade"
   ]
  },
  {
   "cell_type": "code",
   "execution_count": 5,
   "metadata": {},
   "outputs": [],
   "source": [
    "# Create a new block object\n"
   ]
  },
  {
   "cell_type": "code",
   "execution_count": 6,
   "metadata": {},
   "outputs": [
    {
     "name": "stdout",
     "output_type": "stream",
     "text": [
      "Block(shares=1000, buyer_id=10, seller_id=15, trade_time='10:35:31')\n"
     ]
    }
   ],
   "source": [
    "# Display the new_trade object data\n"
   ]
  },
  {
   "cell_type": "markdown",
   "metadata": {},
   "source": [
    "## Hash and Python object"
   ]
  },
  {
   "cell_type": "code",
   "execution_count": 7,
   "metadata": {},
   "outputs": [],
   "source": [
    "# Required libraries\n"
   ]
  },
  {
   "cell_type": "code",
   "execution_count": 8,
   "metadata": {},
   "outputs": [],
   "source": [
    "# Set the hashing algorithm to use\n"
   ]
  },
  {
   "cell_type": "code",
   "execution_count": 9,
   "metadata": {},
   "outputs": [
    {
     "name": "stdout",
     "output_type": "stream",
     "text": [
      "10:35:31\n"
     ]
    }
   ],
   "source": [
    "# Create an attribute that registers the current time\n",
    "\n",
    "\n",
    "# Print the value of trade_time\n"
   ]
  },
  {
   "cell_type": "code",
   "execution_count": 10,
   "metadata": {},
   "outputs": [
    {
     "data": {
      "text/plain": [
       "b'10:35:31'"
      ]
     },
     "execution_count": 10,
     "metadata": {},
     "output_type": "execute_result"
    }
   ],
   "source": [
    "# Convert  the string date to a numeric representation\n",
    "\n",
    "\n",
    "# Print the numeric representation of the current time\n"
   ]
  },
  {
   "cell_type": "code",
   "execution_count": 11,
   "metadata": {},
   "outputs": [
    {
     "name": "stdout",
     "output_type": "stream",
     "text": [
      "881c0ecb07427aab91c4b8fa27de2e0ee08667ca94712d4b36a2e5a78860d893\n"
     ]
    }
   ],
   "source": [
    "# Hash the encoded trade date/time\n",
    "\n",
    "\n",
    "# Print the hashed time\n"
   ]
  },
  {
   "cell_type": "markdown",
   "metadata": {},
   "source": [
    "## Implement `self`-made hashes"
   ]
  },
  {
   "cell_type": "code",
   "execution_count": 12,
   "metadata": {},
   "outputs": [],
   "source": [
    "# Create a hashing function\n"
   ]
  },
  {
   "cell_type": "markdown",
   "metadata": {},
   "source": [
    "## Inserting the hash function into the `Block`"
   ]
  },
  {
   "cell_type": "code",
   "execution_count": 13,
   "metadata": {},
   "outputs": [],
   "source": [
    "@dataclass\n"
   ]
  },
  {
   "cell_type": "code",
   "execution_count": 14,
   "metadata": {},
   "outputs": [],
   "source": [
    "# Create and save a new block\n"
   ]
  },
  {
   "cell_type": "code",
   "execution_count": 15,
   "metadata": {},
   "outputs": [],
   "source": [
    "# Has the block using the newly created `hash_block` function\n"
   ]
  },
  {
   "cell_type": "code",
   "execution_count": 16,
   "metadata": {},
   "outputs": [
    {
     "name": "stdout",
     "output_type": "stream",
     "text": [
      "3f03503dfee56d6e70a613c26afe38de4b928689b2022fe7f9e16f4ab8105175\n"
     ]
    }
   ],
   "source": [
    "# Print the hashed block\n"
   ]
  },
  {
   "cell_type": "markdown",
   "metadata": {},
   "source": [
    "## The `Chain` class"
   ]
  },
  {
   "cell_type": "code",
   "execution_count": 17,
   "metadata": {},
   "outputs": [],
   "source": [
    "# Import a `List` function to hold a list of blocks\n"
   ]
  },
  {
   "cell_type": "code",
   "execution_count": 18,
   "metadata": {},
   "outputs": [],
   "source": [
    "# Create the StockChain dataclass\n"
   ]
  },
  {
   "cell_type": "code",
   "execution_count": 19,
   "metadata": {},
   "outputs": [
    {
     "name": "stdout",
     "output_type": "stream",
     "text": [
      "StockChain(chain=[Block(shares=100, buyer_id=10, seller_id=50, trade_time='10:35:31')])\n"
     ]
    }
   ],
   "source": [
    "# Create a new StockChain, containing a single new `Block` instance in a list\n",
    "\n",
    "\n",
    "# Print the stockchain data\n"
   ]
  },
  {
   "cell_type": "markdown",
   "metadata": {},
   "source": [
    "## Link blocks in a chain"
   ]
  },
  {
   "cell_type": "code",
   "execution_count": 20,
   "metadata": {},
   "outputs": [
    {
     "data": {
      "text/plain": [
       "Block(shares=100, buyer_id=10, seller_id=50, trade_time='10:35:31')"
      ]
     },
     "execution_count": 20,
     "metadata": {},
     "output_type": "execute_result"
    }
   ],
   "source": [
    "# Get the most recent block (since it's also the first block, it's the genesis block)\n",
    "\n",
    "\n",
    "# Print previous block\n"
   ]
  },
  {
   "cell_type": "code",
   "execution_count": 21,
   "metadata": {},
   "outputs": [
    {
     "name": "stdout",
     "output_type": "stream",
     "text": [
      "9651ffda4f85f8ff48c8055ff988570fb9e6608294ae54d696c130545e7c21c1\n"
     ]
    }
   ],
   "source": [
    "# Declare a hash method\n",
    "\n",
    "\n",
    "# Convert block data to string and encode it\n",
    "\n",
    "\n",
    "# Hash the encoded data\n",
    "\n",
    "\n",
    "# Print the hashed data\n",
    "\n",
    "\n",
    "# Save the hash of the previous block\n"
   ]
  },
  {
   "cell_type": "code",
   "execution_count": 23,
   "metadata": {},
   "outputs": [],
   "source": [
    "# Update the Block class to include all the hasing functions\n"
   ]
  },
  {
   "cell_type": "code",
   "execution_count": 24,
   "metadata": {},
   "outputs": [
    {
     "name": "stdout",
     "output_type": "stream",
     "text": [
      "Block(shares=500, buyer_id=13, seller_id=99, trade_time='10:35:31', prev_hash='9651ffda4f85f8ff48c8055ff988570fb9e6608294ae54d696c130545e7c21c1')\n"
     ]
    }
   ],
   "source": [
    "# Create a new block - previous hash gets added in as an attribute\n",
    "\n",
    "\n",
    "# Print new_block data\n"
   ]
  },
  {
   "cell_type": "code",
   "execution_count": 25,
   "metadata": {},
   "outputs": [
    {
     "name": "stdout",
     "output_type": "stream",
     "text": [
      "StockChain(chain=[Block(shares=100, buyer_id=10, seller_id=50, trade_time='10:35:31'), Block(shares=500, buyer_id=13, seller_id=99, trade_time='10:35:31', prev_hash='9651ffda4f85f8ff48c8055ff988570fb9e6608294ae54d696c130545e7c21c1')])\n"
     ]
    }
   ],
   "source": [
    "# Add the new block to the chain\n",
    "\n",
    "\n",
    "# Display stockchain data\n"
   ]
  }
 ],
 "metadata": {
  "kernelspec": {
   "display_name": "Python 3",
   "language": "python",
   "name": "python3"
  },
  "language_info": {
   "codemirror_mode": {
    "name": "ipython",
    "version": 3
   },
   "file_extension": ".py",
   "mimetype": "text/x-python",
   "name": "python",
   "nbconvert_exporter": "python",
   "pygments_lexer": "ipython3",
   "version": "3.7.7"
  }
 },
 "nbformat": 4,
 "nbformat_minor": 4
}
