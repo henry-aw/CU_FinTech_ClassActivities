{
  "cells": [
    {
      "cell_type": "markdown",
      "source": [
        "# NYSE DataFrames and Databases\n",
        "\n",
        "In this activity, you will read, clean and load data to a database table. \n",
        "\n",
        "## Instructions\n",
        "\n",
        "### Create the Pandas DataFrame\n",
        "\n",
        "1. Import the modules for Pandas, the Path, and SQLAlchemy.\n",
        "2. Read the `nyse_companylist.csv` file from the Resources folder into a Pandas DataFrame called `nyse_df`. Review the DataFrame.\n",
        "3. Check the data types (`dtypes`) of each column in the DataFrame.\n",
        "\n",
        "### Clean the Pandas DataFrame\n",
        "\n",
        "1. Apply the provided `clean_currency` function to the 'MarketCap' column of the `nyse_df` DataFrame.\n",
        "\n",
        "  * The `clean_currency` function performs the following actions:\n",
        "    -Removes non-numeric characters (ie '\\$', 'M', and 'B') from the data entry\n",
        "    -Converts the value to a float\n",
        "    -Scales the data according to the suffixes 'M' and 'B'\n",
        "    -Returns the cleaned and scaled data entry\n",
        "\n",
        "2. Review the contents of the 'MarketCap' column to confirm that data has been cleaned as expected.\n",
        "\n",
        "### Load the DataFrame into a SQLite Database\n",
        "\n",
        "1. Create a database connection string that loads the SQLite database called `nyse.db` into the Resources folder.\n",
        "2. Create a [database engine](https://docs.sqlalchemy.org/en/14/core/engines.html) called `nyse_engine`. Be sure to include the `echo=True` parameter.\n",
        "3. Using the Pandas [`to_sql`](https://pandas.pydata.org/pandas-docs/stable/reference/api/pandas.DataFrame.to_sql.html) function, write the `nyse_df` DataFrame to a table called `NYSE` in the `nyse.db`. Be sure to include the parameters for `index` and `if_exists`.\n",
        "4. Get the table name from the database to confirm it was created.\n",
        "\n",
        "### Query the SQL Database\n",
        "\n",
        "1. Write a SQL query to select all companies in the Technology sector AND in the Software industry AND that have a market cap greater than 30 billion USD.\n",
        "2. Using the Pandas [`read_sql_query`](https://pandas.pydata.org/pandas-docs/stable/reference/api/pandas.read_sql_query.html) execute the SQL query and assign the results to a new Pandas DataFrame called `nyse_tech_companies_df`.\n",
        "3. Review the DataFrame.\n",
        "\n"
      ],
      "metadata": {}
    },
    {
      "cell_type": "markdown",
      "source": [
        "## Create the Pandas DataFrame"
      ],
      "metadata": {}
    },
    {
      "cell_type": "markdown",
      "source": [
        "### 1. Import the modules for Pandas, the Path, and SQLAlchemy."
      ],
      "metadata": {}
    },
    {
      "cell_type": "code",
      "source": [
        "# Import modules\n",
        "# YOUR CODE HERE!\n"
      ],
      "outputs": [],
      "execution_count": null,
      "metadata": {}
    },
    {
      "cell_type": "markdown",
      "source": [
        "### 2. Read the `nyse_companylist.csv` file from the Resources folder into a Pandas DataFrame called `nyse_df`. Review the DataFrame."
      ],
      "metadata": {}
    },
    {
      "cell_type": "code",
      "source": [
        "# Read the `nyse_companylist.csv` file from the Resources folder into a Pandas DataFrame \n",
        "nyse_df = # YOUR CODE HERE!\n",
        "\n",
        "# Review the DataFrame\n",
        "# YOUR CODE HERE!\n"
      ],
      "outputs": [],
      "execution_count": null,
      "metadata": {}
    },
    {
      "cell_type": "markdown",
      "source": [
        "### 3. Review the data types (`dtypes`) of each column in the DataFrame."
      ],
      "metadata": {}
    },
    {
      "cell_type": "code",
      "source": [
        "# Check dtypes of dataframe\n",
        "# YOUR CODE HERE!\n"
      ],
      "outputs": [],
      "execution_count": null,
      "metadata": {}
    },
    {
      "cell_type": "markdown",
      "source": [
        "## Clean the Pandas DataFrame"
      ],
      "metadata": {}
    },
    {
      "cell_type": "markdown",
      "source": [
        "### 1. Apply the provided `clean_currency` function to the 'MarketCap' column of the `nyse_df` DataFrame. \n",
        "\n",
        "The `clean_currency` function performs the following actions:\n",
        "   - Removes non-numeric characters (ie '$', 'M', and 'B') from the data entry\n",
        "   - Converts the value to a float\n",
        "   - Scales the data according to the suffixes 'M' and 'B'\n",
        "   - Returns the cleaned and scaled data entry"
      ],
      "metadata": {}
    },
    {
      "cell_type": "code",
      "source": [
        "# This function converts the string values into a floating point number\n",
        "def clean_currency(price_string):\n",
        "    price = price_string\n",
        "    if type(price_string) == str:\n",
        "        if price_string[-1] == 'M':\n",
        "            million = 1000000\n",
        "            price_string = price_string.replace('$', '')\n",
        "            price_string = price_string.replace('M', '')\n",
        "            price = float(price_string)\n",
        "            price = price * million\n",
        "        else:\n",
        "            billion = 1000000000\n",
        "            price_string = price_string.replace('$', '')\n",
        "            price_string = price_string.replace('B', '')\n",
        "            price = float(price_string)\n",
        "            price = price * billion\n",
        "    return price\n",
        "\n"
      ],
      "outputs": [],
      "execution_count": null,
      "metadata": {}
    },
    {
      "cell_type": "code",
      "source": [
        "# Apply the clean_currency function to MarketCap column\n",
        "nyse_df['MarketCap'] = # YOUR CODE HERE!\n"
      ],
      "outputs": [],
      "execution_count": null,
      "metadata": {}
    },
    {
      "cell_type": "markdown",
      "source": [
        "### 2. Review the contents of the 'MarketCap' column."
      ],
      "metadata": {}
    },
    {
      "cell_type": "code",
      "source": [
        "# Review the contents for the MarketCap column\n",
        "# YOUR CODE HERE!\n"
      ],
      "outputs": [],
      "execution_count": null,
      "metadata": {}
    },
    {
      "cell_type": "markdown",
      "source": [
        "## Load the DataFrame into a SQLite Database"
      ],
      "metadata": {}
    },
    {
      "cell_type": "markdown",
      "source": [
        "### 1. Create a database connection string that loads the SQLite database called `nyse.db` into the Resources folder."
      ],
      "metadata": {}
    },
    {
      "cell_type": "code",
      "source": [
        "# Create a database connection string\n",
        "nyse_connection_string = # YOUR CODE HERE!\n"
      ],
      "outputs": [],
      "execution_count": null,
      "metadata": {}
    },
    {
      "cell_type": "markdown",
      "source": [
        "### 2. Create a [database engine](https://docs.sqlalchemy.org/en/14/core/engines.html) called `nyse_engine`. Be sure to include the `echo=True` parameter."
      ],
      "metadata": {}
    },
    {
      "cell_type": "code",
      "source": [
        "# Create a database engine\n",
        "nyse_engine = # YOUR CODE HERE!\n"
      ],
      "outputs": [],
      "execution_count": null,
      "metadata": {}
    },
    {
      "cell_type": "markdown",
      "source": [
        "### 3. Using the Pandas [`to_sql`](https://pandas.pydata.org/pandas-docs/stable/reference/api/pandas.DataFrame.to_sql.html) function, write the `nyse_df` DataFrame to a table called `NYSE` in the `nyse.db`."
      ],
      "metadata": {}
    },
    {
      "cell_type": "code",
      "source": [
        "# Add the cleaned data to a table named NYSE in the database.\n",
        "# YOUR CODE HERE!\n"
      ],
      "outputs": [],
      "execution_count": null,
      "metadata": {}
    },
    {
      "cell_type": "markdown",
      "source": [
        "### 4. Get the table name from the database to confirm it was created."
      ],
      "metadata": {}
    },
    {
      "cell_type": "code",
      "source": [
        "# Get the table name from the database\n",
        "# YOUR CODE HERE!\n"
      ],
      "outputs": [],
      "execution_count": null,
      "metadata": {}
    },
    {
      "cell_type": "markdown",
      "source": [
        "## Query the SQL Database"
      ],
      "metadata": {}
    },
    {
      "cell_type": "markdown",
      "source": [
        "### 1. Write a SQL query to select all companies in the Technology sector AND in the Software industry AND that have a market cap greater than 30 billion USD."
      ],
      "metadata": {}
    },
    {
      "cell_type": "code",
      "source": [
        "# Select all stocks where the industry is related to Software in the Technology sector having a market cap greater than 30,000,000,000.\n",
        "sql_query = \"\"\"\n",
        "YOUR CODE HERE!\n",
        "\"\"\""
      ],
      "outputs": [],
      "execution_count": null,
      "metadata": {}
    },
    {
      "cell_type": "markdown",
      "source": [
        "### 2. Using the Pandas [`read_sql_query`](https://pandas.pydata.org/pandas-docs/stable/reference/api/pandas.read_sql_query.html) execute the SQL query and assign the results to a new Pandas DataFrame called `nyse_tech_companies_df`."
      ],
      "metadata": {}
    },
    {
      "cell_type": "code",
      "source": [
        "# Execute the SQL query and read the data into a Pandas DataFrame\n",
        "nyse_tech_companies_df = # YOUR CODE HERE!\n"
      ],
      "outputs": [],
      "execution_count": null,
      "metadata": {}
    },
    {
      "cell_type": "markdown",
      "source": [
        "### 3. Review the DataFrame."
      ],
      "metadata": {}
    },
    {
      "cell_type": "code",
      "source": [
        "# Review the DataFrame\n",
        "# YOUR CODE HERE!\n"
      ],
      "outputs": [],
      "execution_count": null,
      "metadata": {}
    },
    {
      "cell_type": "code",
      "source": [],
      "outputs": [],
      "execution_count": null,
      "metadata": {}
    }
  ],
  "metadata": {
    "kernelspec": {
      "display_name": "Python (dev)",
      "language": "python",
      "name": "dev"
    },
    "language_info": {
      "codemirror_mode": {
        "name": "ipython",
        "version": 3
      },
      "file_extension": ".py",
      "mimetype": "text/x-python",
      "name": "python",
      "nbconvert_exporter": "python",
      "pygments_lexer": "ipython3",
      "version": "3.7.7"
    },
    "nteract": {
      "version": "0.28.0"
    }
  },
  "nbformat": 4,
  "nbformat_minor": 4
}