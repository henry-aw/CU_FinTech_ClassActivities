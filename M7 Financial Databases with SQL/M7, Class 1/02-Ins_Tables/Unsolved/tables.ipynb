{
  "cells": [
    {
      "cell_type": "code",
      "source": [
        "# Import modules\n"
      ],
      "outputs": [],
      "execution_count": null,
      "metadata": {}
    },
    {
      "cell_type": "code",
      "source": [
        "# Create a temporary sqlite database\n"
      ],
      "outputs": [],
      "execution_count": null,
      "metadata": {}
    },
    {
      "cell_type": "code",
      "source": [
        "# Database connection object\n"
      ],
      "outputs": [],
      "execution_count": null,
      "metadata": {}
    },
    {
      "cell_type": "markdown",
      "source": [
        "## Create a SQL Table"
      ],
      "metadata": {}
    },
    {
      "cell_type": "code",
      "source": [
        "# Create a table with SQL syntax\n",
        "#   CREATE TABLE <table_name> (\n",
        "#     <column_name> <data_type>,\n",
        "#     <column_name> <data_type>,\n",
        "#     ...,\n",
        "#     <column_name> <data_type>\n",
        "#   )"
      ],
      "outputs": [],
      "execution_count": null,
      "metadata": {}
    },
    {
      "cell_type": "code",
      "source": [
        "# Create a table with SQL syntax\n"
      ],
      "outputs": [],
      "execution_count": null,
      "metadata": {}
    },
    {
      "cell_type": "code",
      "source": [
        "# Execute the SQL statement\n"
      ],
      "outputs": [],
      "execution_count": null,
      "metadata": {}
    },
    {
      "cell_type": "code",
      "source": [
        "# Get table names from the database\n"
      ],
      "outputs": [],
      "execution_count": null,
      "metadata": {}
    },
    {
      "cell_type": "markdown",
      "source": [
        "## Insert Data into the Table"
      ],
      "metadata": {}
    },
    {
      "cell_type": "code",
      "source": [
        "# Syntax for SQL INSERT  statement\n",
        "# INSERT INTO table_name(colum1, column2, ...) VALUES (val, val, ...), (val, val, ...)"
      ],
      "outputs": [],
      "execution_count": null,
      "metadata": {}
    },
    {
      "cell_type": "code",
      "source": [
        "# Write the INSERT SQL query\n"
      ],
      "outputs": [],
      "execution_count": null,
      "metadata": {}
    },
    {
      "cell_type": "code",
      "source": [
        "# Execute the INSERT SQL statement\n"
      ],
      "outputs": [],
      "execution_count": null,
      "metadata": {}
    },
    {
      "cell_type": "markdown",
      "source": [
        "## Read a SQL Table"
      ],
      "metadata": {}
    },
    {
      "cell_type": "code",
      "source": [
        "# The SQL syntax to read a database table\n",
        "# SELECT <columns> FROM <table_name>"
      ],
      "outputs": [],
      "execution_count": null,
      "metadata": {}
    },
    {
      "cell_type": "code",
      "source": [
        "# Select all rows from the payments table\n"
      ],
      "outputs": [],
      "execution_count": null,
      "metadata": {}
    },
    {
      "cell_type": "code",
      "source": [
        "# Execute the SQL statement\n"
      ],
      "outputs": [],
      "execution_count": null,
      "metadata": {}
    },
    {
      "cell_type": "code",
      "source": [
        "# Review the result object\n"
      ],
      "outputs": [],
      "execution_count": null,
      "metadata": {}
    },
    {
      "cell_type": "code",
      "source": [
        "# Print the results in the result object\n",
        "\n"
      ],
      "outputs": [],
      "execution_count": null,
      "metadata": {}
    },
    {
      "cell_type": "code",
      "source": [
        "# Alternative method using fetchall. The result object is cleared after it is read.\n",
        "# You will need to re-execute the sql statement again.\n",
        "\n",
        "# Execute sql statement\n",
        "\n",
        "\n",
        "# Review the data with the fetchall method\n"
      ],
      "outputs": [],
      "execution_count": null,
      "metadata": {}
    },
    {
      "cell_type": "code",
      "source": [],
      "outputs": [],
      "execution_count": null,
      "metadata": {}
    }
  ],
  "metadata": {
    "kernelspec": {
      "display_name": "Python (dev)",
      "language": "python",
      "name": "dev"
    },
    "language_info": {
      "codemirror_mode": {
        "name": "ipython",
        "version": 3
      },
      "file_extension": ".py",
      "mimetype": "text/x-python",
      "name": "python",
      "nbconvert_exporter": "python",
      "pygments_lexer": "ipython3",
      "version": "3.7.7"
    },
    "nteract": {
      "version": "0.28.0"
    }
  },
  "nbformat": 4,
  "nbformat_minor": 4
}