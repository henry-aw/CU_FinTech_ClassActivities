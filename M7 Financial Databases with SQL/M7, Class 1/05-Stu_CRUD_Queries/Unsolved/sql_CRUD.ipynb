{
 "cells": [
  {
   "cell_type": "markdown",
   "metadata": {},
   "source": [
    "# SQL CRUD \n",
    "\n",
    "In this activity, you will apply `SQL` CRUD operations to a database of account payments. You will need to SELECT and filter data using SQL then INSERT, UPDATE, and DELETE records from the tables.\n",
    "\n",
    "## Instructions\n",
    "\n",
    "Complete the following steps:\n",
    "\n",
    "1. Import the SQLAlchemy module.\n",
    "\n",
    "2. Create a database connection string that imports the `bank_payments.db` from the Resources folder.\n",
    "\n",
    "3. Create a [database engine object](https://docs.sqlalchemy.org/en/14/core/engines.html) that utilizes the database connection string.\n",
    "\n",
    "4. Get a list of the tables included in the in the database.\n",
    "\n",
    "5. Run a query that `SELECT`s all of the data from the `banks` table.\n",
    "\n",
    "6. Using a SQL `SELECT` statement, find the bank routing number of the bank where the bank name equals 'TD Bank'. List the bank routing number to confirm.\n",
    "\n",
    "7. Insert a new bank into the `banks` table. Once the query has been executed, confirm that the bank has been added to the list.\n",
    "   * Use a '10' for the `bank_id`.\n",
    "   * The bank name will be 'Royal Bank of Canada'.\n",
    "   * The bank routing number will be '000300002'.\n",
    "   \n",
    "   \n",
    "8. `WHERE` the bank id equals 10, `UPDATE` the bank name to 'RBC'. Confirm that the bank name has been updated.\n",
    "\n",
    "9. `DELETE` the bank where the bank id equals to 3 from `banks` table. Confirm that the bank has been deleted.\n"
   ]
  },
  {
   "cell_type": "markdown",
   "metadata": {},
   "source": [
    "## 1. Import the SQLAlchemy module."
   ]
  },
  {
   "cell_type": "code",
   "execution_count": null,
   "metadata": {},
   "outputs": [],
   "source": [
    "# Import modules\n",
    "# YOUR CODE HERE!"
   ]
  },
  {
   "cell_type": "markdown",
   "metadata": {},
   "source": [
    "## 2. Create a database connection string that imports the `bank_payments.db` from the Resources folder."
   ]
  },
  {
   "cell_type": "code",
   "execution_count": null,
   "metadata": {},
   "outputs": [],
   "source": [
    "# Database connection string\n",
    "database_connection_string = # YOUR CODE HERE!\n"
   ]
  },
  {
   "cell_type": "markdown",
   "metadata": {},
   "source": [
    "## 3. Create a [database engine object](https://docs.sqlalchemy.org/en/14/core/engines.html) that utilizes the database connection string."
   ]
  },
  {
   "cell_type": "code",
   "execution_count": null,
   "metadata": {},
   "outputs": [],
   "source": [
    "# Database engine\n",
    "engine = # YOUR CODE HERE!\n"
   ]
  },
  {
   "cell_type": "markdown",
   "metadata": {},
   "source": [
    "## 4. Get a list of the tables included in the in the database."
   ]
  },
  {
   "cell_type": "code",
   "execution_count": null,
   "metadata": {},
   "outputs": [],
   "source": [
    "# Get table names from the database\n",
    "# YOUR CODE HERE!\n"
   ]
  },
  {
   "cell_type": "markdown",
   "metadata": {},
   "source": [
    "## 5. Run a query that `SELECT`s all of the data from the `banks` table."
   ]
  },
  {
   "cell_type": "code",
   "execution_count": null,
   "metadata": {},
   "outputs": [],
   "source": [
    "# Select all of the data from the banks table\n",
    "sql_select = # YOUR CODE HERE!\n",
    "\n",
    "# Execute the sql statement\n",
    "results = # YOUR CODE HERE!\n",
    "\n",
    "# List the query results\n",
    "# YOUR CODE HERE!\n"
   ]
  },
  {
   "cell_type": "markdown",
   "metadata": {},
   "source": [
    "## 6. Using a SQL `SELECT` statement, find the bank routing number where the bank name equals 'TD Bank'."
   ]
  },
  {
   "cell_type": "code",
   "execution_count": null,
   "metadata": {},
   "outputs": [],
   "source": [
    "# Select TD Bank's routing number\n",
    "sql_select = \"\"\"\n",
    "YOUR CODE HERE!\n",
    "\"\"\""
   ]
  },
  {
   "cell_type": "code",
   "execution_count": null,
   "metadata": {},
   "outputs": [],
   "source": [
    "# Execute the sql statement\n",
    "td_routing = # YOUR CODE HERE!\n"
   ]
  },
  {
   "cell_type": "code",
   "execution_count": null,
   "metadata": {},
   "outputs": [],
   "source": [
    "# List the TD routing number\n",
    "# YOUR CODE HERE!\n"
   ]
  },
  {
   "cell_type": "markdown",
   "metadata": {},
   "source": [
    "## 7. Insert a new bank into the `banks` table. Once the query has been executed, confirm that the bank has been added to the list.\n",
    "\n",
    "   * Use a '10' for the `bank_id`.\n",
    "   * The bank name will be 'Royal Bank of Canada'.\n",
    "   * The bank routing number will be '345826917'."
   ]
  },
  {
   "cell_type": "code",
   "execution_count": null,
   "metadata": {},
   "outputs": [],
   "source": [
    "# Insert a new bank, Royal Bank of Canada with a bank id of 10 and a routing number of 345826917\n",
    "sql_insert = \"\"\"\n",
    "YOUR CODE HERE!\n",
    "\"\"\""
   ]
  },
  {
   "cell_type": "code",
   "execution_count": null,
   "metadata": {},
   "outputs": [],
   "source": [
    "# Execute the sql statement\n",
    "# YOUR CODE HERE!\n"
   ]
  },
  {
   "cell_type": "code",
   "execution_count": null,
   "metadata": {},
   "outputs": [],
   "source": [
    "# List the banks to confirm the new bank was added\n",
    "# YOUR CODE HERE!\n"
   ]
  },
  {
   "cell_type": "markdown",
   "metadata": {},
   "source": [
    "## 8. `WHERE` the bank id equals 10, `UPDATE` the bank name to 'RBC'. Confirm that the bank name has been updated."
   ]
  },
  {
   "cell_type": "code",
   "execution_count": null,
   "metadata": {},
   "outputs": [],
   "source": [
    "# For the bank with and id of 10, update the bank name to 'RBC'\n",
    "sql_update = \"\"\"\n",
    "YOUR CODE HERE!\n",
    "\"\"\""
   ]
  },
  {
   "cell_type": "code",
   "execution_count": null,
   "metadata": {},
   "outputs": [],
   "source": [
    "# Execute the sql statement\n",
    "# YOUR CODE HERE!"
   ]
  },
  {
   "cell_type": "code",
   "execution_count": null,
   "metadata": {},
   "outputs": [],
   "source": [
    "# List the banks to confirm that the bank was updated\n",
    "# YOUR CODE HERE!\n",
    "    "
   ]
  },
  {
   "cell_type": "markdown",
   "metadata": {},
   "source": [
    "## 9. `DELETE` the bank where the bank id equals to 3 from `banks` table. Confirm that the bank has been deleted."
   ]
  },
  {
   "cell_type": "code",
   "execution_count": null,
   "metadata": {},
   "outputs": [],
   "source": [
    "# Delete bank_id = 3 from the banks table\n",
    "sql_delete = \"\"\"\n",
    "YOUR CODE HERE!\n",
    "\"\"\"\n"
   ]
  },
  {
   "cell_type": "code",
   "execution_count": null,
   "metadata": {},
   "outputs": [],
   "source": [
    "# Execute the sql statement\n",
    "# YOUR CODE HERE!\n"
   ]
  },
  {
   "cell_type": "code",
   "execution_count": null,
   "metadata": {},
   "outputs": [],
   "source": [
    "# List the banks to confirm the bank was deleted\n",
    "# YOUR CODE HERE!\n"
   ]
  }
 ],
 "metadata": {
  "kernelspec": {
   "display_name": "Python 3.7.7 64-bit ('dev': conda)",
   "language": "python",
   "name": "python37764bitdevconda30c4027b071341ef863ddfcdef37d5e3"
  },
  "language_info": {
   "codemirror_mode": {
    "name": "ipython",
    "version": 3
   },
   "file_extension": ".py",
   "mimetype": "text/x-python",
   "name": "python",
   "nbconvert_exporter": "python",
   "pygments_lexer": "ipython3",
   "version": "3.7.1"
  },
  "nteract": {
   "version": "0.28.0"
  }
 },
 "nbformat": 4,
 "nbformat_minor": 4
}
