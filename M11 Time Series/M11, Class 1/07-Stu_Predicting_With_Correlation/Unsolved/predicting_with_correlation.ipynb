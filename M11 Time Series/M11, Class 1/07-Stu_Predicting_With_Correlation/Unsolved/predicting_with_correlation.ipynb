{
 "cells": [
  {
   "cell_type": "markdown",
   "source": [
    "# Predicting Data Using Time-Series Correlation\n",
    "\n",
    "In this activity, you will get practice with the creating an hvPlot dual axis plot to juxtapose time-series data. You'll then use this and other data to analyze lead-lag relationships using time-series correlation."
   ],
   "metadata": {}
  },
  {
   "cell_type": "markdown",
   "source": [
    "### Import Libraries and Dependencies"
   ],
   "metadata": {}
  },
  {
   "cell_type": "code",
   "execution_count": null,
   "source": [
    "# Import necessary libraries and dependencies\n",
    "import warnings\n",
    "warnings.filterwarnings('ignore')\n",
    "import pandas as pd\n",
    "from pathlib import Path\n",
    "import hvplot.pandas\n",
    "%matplotlib inline"
   ],
   "outputs": [],
   "metadata": {}
  },
  {
   "cell_type": "markdown",
   "source": [
    "## 1. Read in the S&P 500 stock volume and price data."
   ],
   "metadata": {}
  },
  {
   "cell_type": "markdown",
   "source": [
    "### Read in Files"
   ],
   "metadata": {}
  },
  {
   "cell_type": "code",
   "execution_count": null,
   "source": [
    "# Import data\n",
    "spy_path = Path('../Resources/spy_stock_volume.csv')\n",
    "\n",
    "# Read in data and index by date\n",
    "spy_data = # YOUR CODE HERE!"
   ],
   "outputs": [],
   "metadata": {}
  },
  {
   "cell_type": "markdown",
   "source": [
    "## 2. Plot S&P 500's performance over time using an hvPlot line plot."
   ],
   "metadata": {}
  },
  {
   "cell_type": "code",
   "execution_count": null,
   "source": [
    "# Use hvPlot to visualize the closing price of the S&P500 over time.\n",
    "# YOUR CODE HERE!"
   ],
   "outputs": [],
   "metadata": {}
  },
  {
   "cell_type": "markdown",
   "source": [
    "## 3. Based on this plot, slice to just a few months to where the market seems to have suffered a big decline. \n",
    "\n",
    "* This is meant to be a little subjective; pick the time you think is most volatile/downward."
   ],
   "metadata": {}
  },
  {
   "cell_type": "code",
   "execution_count": null,
   "source": [
    "# Slice to a volatile/downward trend period\n",
    "# YOUR CODE HERE!\n",
    "\n",
    "# Preview the result (your results may vary depending on period selected)\n",
    "# YOUR CODE HERE!"
   ],
   "outputs": [],
   "metadata": {}
  },
  {
   "cell_type": "markdown",
   "source": [
    "## 4. Using this downward sub-period, use hvPlot's ability to create two graphs, stacked one on top of each other. \n",
    "\n",
    "* Specifically, plot the hourly close price and hourly volume of shares traded. \n",
    "* Looking at this visual, does it apper there is any relationship between volume and close?"
   ],
   "metadata": {}
  },
  {
   "cell_type": "code",
   "execution_count": null,
   "source": [
    "# Use hvPlot to visualize the close and volume data\n",
    "# Plot each column on a separate axes using the following syntax\n",
    "\n",
    "# YOUR CODE HERE!"
   ],
   "outputs": [],
   "metadata": {}
  },
  {
   "cell_type": "markdown",
   "source": [
    "## 5. Create a column called Lagged Volume, which is the volume column, but shifted back in time by one hour."
   ],
   "metadata": {}
  },
  {
   "cell_type": "code",
   "execution_count": null,
   "source": [
    "# Create a new volume column \n",
    "# This column should shift the volume back by one hour\n",
    "\n",
    "# YOUR CODE HERE!"
   ],
   "outputs": [],
   "metadata": {}
  },
  {
   "cell_type": "markdown",
   "source": [
    "## 6. Create another column called Stock Volatility, which is the rolling standard deviation of SPY's stock price returns. \n",
    "\n",
    "* Consider using a 4-hour moving average, or experiment with your own horizon to see if it impacts predictability."
   ],
   "metadata": {}
  },
  {
   "cell_type": "code",
   "execution_count": null,
   "source": [
    "# Create a new variable called Stock Volatility\n",
    "# This column should calculate the standard deviation of the closing stock price return data over a 4 period rolling window\n",
    "\n",
    "# YOUR CODE HERE!"
   ],
   "outputs": [],
   "metadata": {}
  },
  {
   "cell_type": "code",
   "execution_count": null,
   "source": [
    "# Use hvPlot to visualize the stock volatility\n",
    "\n",
    "# YOUR CODE HERE!"
   ],
   "outputs": [],
   "metadata": {}
  },
  {
   "cell_type": "markdown",
   "source": [
    "## 7. Construct a column called Hourly Stock Return, which is the percentage return on the S&P at each hour."
   ],
   "metadata": {}
  },
  {
   "cell_type": "code",
   "execution_count": null,
   "source": [
    "# Create a new column called Hourly Stock Return.\n",
    "# This column should calculate hourly return percentage of the closing price\n",
    "\n",
    "# YOUR CODE HERE!"
   ],
   "outputs": [],
   "metadata": {}
  },
  {
   "cell_type": "markdown",
   "source": [
    "## 8. Using these three columns, construct a correlation table, and answer the following questions:\n",
    "\n",
    "* Does this hours trading volume predict the next hour's market volatility?\n",
    "* Does this hours trading volume predict the next hour's market return?\n",
    "\n"
   ],
   "metadata": {}
  },
  {
   "cell_type": "code",
   "execution_count": null,
   "source": [
    "# Construct correlation table of Stock Volatility, Lagged Volume, and Hourly Stock Return\n",
    "\n",
    "# YOUR CODE HERE!"
   ],
   "outputs": [],
   "metadata": {}
  }
 ],
 "metadata": {
  "kernelspec": {
   "display_name": "Python 3",
   "language": "python",
   "name": "python3"
  },
  "language_info": {
   "codemirror_mode": {
    "name": "ipython",
    "version": 3
   },
   "file_extension": ".py",
   "mimetype": "text/x-python",
   "name": "python",
   "nbconvert_exporter": "python",
   "pygments_lexer": "ipython3",
   "version": "3.7.9"
  }
 },
 "nbformat": 4,
 "nbformat_minor": 4
}