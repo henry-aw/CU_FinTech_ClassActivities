{
 "cells": [
  {
   "cell_type": "markdown",
   "metadata": {},
   "source": [
    "# DateTime Groupby\n",
    "\n",
    "In this exercise you will get the opportunity to practice grouping by DateTime indices and analyzing the results."
   ]
  },
  {
   "cell_type": "markdown",
   "metadata": {},
   "source": [
    "#### Import Libraries and Dependencies"
   ]
  },
  {
   "cell_type": "code",
   "execution_count": 1,
   "metadata": {},
   "outputs": [],
   "source": [
    "import pandas as pd\n",
    "from pathlib import Path"
   ]
  },
  {
   "cell_type": "markdown",
   "metadata": {},
   "source": [
    "## 1. Import the data, taking care to declare the `datetime` index.\n"
   ]
  },
  {
   "cell_type": "code",
   "execution_count": 2,
   "metadata": {},
   "outputs": [
    {
     "data": {
      "text/html": [
       "<div>\n",
       "<style scoped>\n",
       "    .dataframe tbody tr th:only-of-type {\n",
       "        vertical-align: middle;\n",
       "    }\n",
       "\n",
       "    .dataframe tbody tr th {\n",
       "        vertical-align: top;\n",
       "    }\n",
       "\n",
       "    .dataframe thead th {\n",
       "        text-align: right;\n",
       "    }\n",
       "</style>\n",
       "<table border=\"1\" class=\"dataframe\">\n",
       "  <thead>\n",
       "    <tr style=\"text-align: right;\">\n",
       "      <th></th>\n",
       "      <th>close</th>\n",
       "      <th>volume</th>\n",
       "    </tr>\n",
       "    <tr>\n",
       "      <th>Date</th>\n",
       "      <th></th>\n",
       "      <th></th>\n",
       "    </tr>\n",
       "  </thead>\n",
       "  <tbody>\n",
       "    <tr>\n",
       "      <th>2020-03-12 08:00:00</th>\n",
       "      <td>258.60</td>\n",
       "      <td>229683</td>\n",
       "    </tr>\n",
       "    <tr>\n",
       "      <th>2020-03-12 09:00:00</th>\n",
       "      <td>257.76</td>\n",
       "      <td>457488</td>\n",
       "    </tr>\n",
       "    <tr>\n",
       "      <th>2020-03-12 10:00:00</th>\n",
       "      <td>252.81</td>\n",
       "      <td>291881</td>\n",
       "    </tr>\n",
       "    <tr>\n",
       "      <th>2020-03-12 11:00:00</th>\n",
       "      <td>259.99</td>\n",
       "      <td>353484</td>\n",
       "    </tr>\n",
       "    <tr>\n",
       "      <th>2020-03-12 12:00:00</th>\n",
       "      <td>257.12</td>\n",
       "      <td>520699</td>\n",
       "    </tr>\n",
       "    <tr>\n",
       "      <th>...</th>\n",
       "      <td>...</td>\n",
       "      <td>...</td>\n",
       "    </tr>\n",
       "    <tr>\n",
       "      <th>2021-02-08 10:00:00</th>\n",
       "      <td>388.89</td>\n",
       "      <td>39322</td>\n",
       "    </tr>\n",
       "    <tr>\n",
       "      <th>2021-02-08 11:00:00</th>\n",
       "      <td>389.03</td>\n",
       "      <td>22696</td>\n",
       "    </tr>\n",
       "    <tr>\n",
       "      <th>2021-02-08 12:00:00</th>\n",
       "      <td>388.80</td>\n",
       "      <td>29164</td>\n",
       "    </tr>\n",
       "    <tr>\n",
       "      <th>2021-02-08 13:00:00</th>\n",
       "      <td>389.33</td>\n",
       "      <td>21826</td>\n",
       "    </tr>\n",
       "    <tr>\n",
       "      <th>2021-02-08 14:00:00</th>\n",
       "      <td>390.53</td>\n",
       "      <td>63519</td>\n",
       "    </tr>\n",
       "  </tbody>\n",
       "</table>\n",
       "<p>1604 rows × 2 columns</p>\n",
       "</div>"
      ],
      "text/plain": [
       "                      close  volume\n",
       "Date                               \n",
       "2020-03-12 08:00:00  258.60  229683\n",
       "2020-03-12 09:00:00  257.76  457488\n",
       "2020-03-12 10:00:00  252.81  291881\n",
       "2020-03-12 11:00:00  259.99  353484\n",
       "2020-03-12 12:00:00  257.12  520699\n",
       "...                     ...     ...\n",
       "2021-02-08 10:00:00  388.89   39322\n",
       "2021-02-08 11:00:00  389.03   22696\n",
       "2021-02-08 12:00:00  388.80   29164\n",
       "2021-02-08 13:00:00  389.33   21826\n",
       "2021-02-08 14:00:00  390.53   63519\n",
       "\n",
       "[1604 rows x 2 columns]"
      ]
     },
     "execution_count": 2,
     "metadata": {},
     "output_type": "execute_result"
    }
   ],
   "source": [
    "# Import data\n",
    "spy_path = Path('../Resources/spy_stock_volume.csv')\n",
    "\n",
    "# Read in data and index by date\n",
    "spy_data = pd.read_csv(\n",
    "    spy_path, \n",
    "    index_col='Date',     \n",
    "    parse_dates=True, \n",
    "    infer_datetime_format=True\n",
    ")\n",
    "spy_data"
   ]
  },
  {
   "cell_type": "markdown",
   "metadata": {},
   "source": [
    "## 2. Slice the DateTimeIndex Data into one month"
   ]
  },
  {
   "cell_type": "code",
   "execution_count": 3,
   "metadata": {},
   "outputs": [
    {
     "data": {
      "text/html": [
       "<div>\n",
       "<style scoped>\n",
       "    .dataframe tbody tr th:only-of-type {\n",
       "        vertical-align: middle;\n",
       "    }\n",
       "\n",
       "    .dataframe tbody tr th {\n",
       "        vertical-align: top;\n",
       "    }\n",
       "\n",
       "    .dataframe thead th {\n",
       "        text-align: right;\n",
       "    }\n",
       "</style>\n",
       "<table border=\"1\" class=\"dataframe\">\n",
       "  <thead>\n",
       "    <tr style=\"text-align: right;\">\n",
       "      <th></th>\n",
       "      <th>close</th>\n",
       "      <th>volume</th>\n",
       "    </tr>\n",
       "    <tr>\n",
       "      <th>Date</th>\n",
       "      <th></th>\n",
       "      <th></th>\n",
       "    </tr>\n",
       "  </thead>\n",
       "  <tbody>\n",
       "    <tr>\n",
       "      <th>2021-01-04 08:00:00</th>\n",
       "      <td>373.51</td>\n",
       "      <td>57311</td>\n",
       "    </tr>\n",
       "    <tr>\n",
       "      <th>2021-01-04 09:00:00</th>\n",
       "      <td>369.98</td>\n",
       "      <td>100077</td>\n",
       "    </tr>\n",
       "    <tr>\n",
       "      <th>2021-01-04 10:00:00</th>\n",
       "      <td>366.96</td>\n",
       "      <td>114323</td>\n",
       "    </tr>\n",
       "    <tr>\n",
       "      <th>2021-01-04 11:00:00</th>\n",
       "      <td>366.27</td>\n",
       "      <td>109650</td>\n",
       "    </tr>\n",
       "    <tr>\n",
       "      <th>2021-01-04 12:00:00</th>\n",
       "      <td>368.60</td>\n",
       "      <td>68479</td>\n",
       "    </tr>\n",
       "    <tr>\n",
       "      <th>...</th>\n",
       "      <td>...</td>\n",
       "      <td>...</td>\n",
       "    </tr>\n",
       "    <tr>\n",
       "      <th>2021-01-29 10:00:00</th>\n",
       "      <td>373.02</td>\n",
       "      <td>102301</td>\n",
       "    </tr>\n",
       "    <tr>\n",
       "      <th>2021-01-29 11:00:00</th>\n",
       "      <td>369.26</td>\n",
       "      <td>145045</td>\n",
       "    </tr>\n",
       "    <tr>\n",
       "      <th>2021-01-29 12:00:00</th>\n",
       "      <td>369.79</td>\n",
       "      <td>114704</td>\n",
       "    </tr>\n",
       "    <tr>\n",
       "      <th>2021-01-29 13:00:00</th>\n",
       "      <td>370.79</td>\n",
       "      <td>102156</td>\n",
       "    </tr>\n",
       "    <tr>\n",
       "      <th>2021-01-29 14:00:00</th>\n",
       "      <td>370.08</td>\n",
       "      <td>256100</td>\n",
       "    </tr>\n",
       "  </tbody>\n",
       "</table>\n",
       "<p>133 rows × 2 columns</p>\n",
       "</div>"
      ],
      "text/plain": [
       "                      close  volume\n",
       "Date                               \n",
       "2021-01-04 08:00:00  373.51   57311\n",
       "2021-01-04 09:00:00  369.98  100077\n",
       "2021-01-04 10:00:00  366.96  114323\n",
       "2021-01-04 11:00:00  366.27  109650\n",
       "2021-01-04 12:00:00  368.60   68479\n",
       "...                     ...     ...\n",
       "2021-01-29 10:00:00  373.02  102301\n",
       "2021-01-29 11:00:00  369.26  145045\n",
       "2021-01-29 12:00:00  369.79  114704\n",
       "2021-01-29 13:00:00  370.79  102156\n",
       "2021-01-29 14:00:00  370.08  256100\n",
       "\n",
       "[133 rows x 2 columns]"
      ]
     },
     "execution_count": 3,
     "metadata": {},
     "output_type": "execute_result"
    }
   ],
   "source": [
    "# Slice the Data to One Specific Month\n",
    "volume_jan_2021 = spy_data.loc['2021-01-01':'2021-01-31']\n",
    "volume_jan_2021"
   ]
  },
  {
   "cell_type": "markdown",
   "metadata": {},
   "source": [
    "## 3. Save the total volume of shares traded for that month into a new variable."
   ]
  },
  {
   "cell_type": "code",
   "execution_count": 4,
   "metadata": {},
   "outputs": [
    {
     "data": {
      "text/plain": [
       "9004793"
      ]
     },
     "execution_count": 4,
     "metadata": {},
     "output_type": "execute_result"
    }
   ],
   "source": [
    "# Calculate the total number of shares traded for the month of January, 2021\n",
    "# YOUR CODE HERE!"
   ]
  },
  {
   "cell_type": "markdown",
   "metadata": {},
   "source": [
    "## 4. Group the bigger dataset on share volume into `year` and `month` using the `datetime` index. Use this grouping to create a DataFrame of total monthly SPY shares traded each month."
   ]
  },
  {
   "cell_type": "code",
   "execution_count": 5,
   "metadata": {},
   "outputs": [
    {
     "data": {
      "text/plain": [
       "Date\n",
       "2020-03-12 08:00:00    229683\n",
       "2020-03-12 09:00:00    457488\n",
       "2020-03-12 10:00:00    291881\n",
       "2020-03-12 11:00:00    353484\n",
       "2020-03-12 12:00:00    520699\n",
       "Name: volume, dtype: int64"
      ]
     },
     "execution_count": 5,
     "metadata": {},
     "output_type": "execute_result"
    }
   ],
   "source": [
    "spy_volume = spy_data['volume']\n",
    "spy_volume.head()"
   ]
  },
  {
   "cell_type": "code",
   "execution_count": 6,
   "metadata": {},
   "outputs": [
    {
     "data": {
      "text/plain": [
       "Date  Date\n",
       "2020  3       25896997\n",
       "      4       19886634\n",
       "      5       13629627\n",
       "      6       16840144\n",
       "      7       10681540\n",
       "      8        7050740\n",
       "      9       12578450\n",
       "      10      11122869\n",
       "      11       9930549\n",
       "      12       7874859\n",
       "2021  1        9004793\n",
       "      2        2075300\n",
       "Name: volume, dtype: int64"
      ]
     },
     "execution_count": 6,
     "metadata": {},
     "output_type": "execute_result"
    }
   ],
   "source": [
    "# Specify the way you want to group things\n",
    "groupby_levels = # YOUR CODE HERE!\n",
    "\n",
    "# Then Groupby that, choosing an aggregation function\n",
    "# YOUR CODE HERE!"
   ]
  },
  {
   "cell_type": "markdown",
   "metadata": {},
   "source": [
    "## 5. Using the DataFrame constructed in step (4), Calculate the `median` monthly total volume of shares traded in the S&P 500."
   ]
  },
  {
   "cell_type": "code",
   "execution_count": 7,
   "metadata": {},
   "outputs": [
    {
     "data": {
      "text/plain": [
       "10902204.5"
      ]
     },
     "execution_count": 7,
     "metadata": {},
     "output_type": "execute_result"
    }
   ],
   "source": [
    "# We can do summary statistics on the aggregated data we just created\n",
    "# For Example: View the median amount of monthly shares traded\n",
    "median_monthly_volume = # YOUR CODE HERE!"
   ]
  },
  {
   "cell_type": "markdown",
   "metadata": {},
   "source": [
    "## 6. Compare this `median` number to the number you calculated in step (3). How does that month compare in terms of trading activity?"
   ]
  },
  {
   "cell_type": "code",
   "execution_count": 8,
   "metadata": {
    "scrolled": true
   },
   "outputs": [
    {
     "data": {
      "text/plain": [
       "0.8259607494979571"
      ]
     },
     "execution_count": 8,
     "metadata": {},
     "output_type": "execute_result"
    }
   ],
   "source": [
    "# Compare the shares traded in January 2021 to the median amount that get traded each month\n",
    "# YOUR CODE HERE!"
   ]
  },
  {
   "cell_type": "markdown",
   "metadata": {},
   "source": [
    "**Question** : Compare this `median` number to the number you calculated in step (3). How does that month compare in terms of trading activity?\n",
    "\n",
    "> **Answer:** YOUR ANSWER HERE\n"
   ]
  },
  {
   "cell_type": "code",
   "execution_count": null,
   "metadata": {},
   "outputs": [],
   "source": []
  }
 ],
 "metadata": {
  "kernelspec": {
   "display_name": "Python 3",
   "language": "python",
   "name": "python3"
  },
  "language_info": {
   "codemirror_mode": {
    "name": "ipython",
    "version": 3
   },
   "file_extension": ".py",
   "mimetype": "text/x-python",
   "name": "python",
   "nbconvert_exporter": "python",
   "pygments_lexer": "ipython3",
   "version": "3.7.9"
  }
 },
 "nbformat": 4,
 "nbformat_minor": 4
}
