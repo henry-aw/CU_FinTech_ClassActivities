{
 "cells": [
  {
   "cell_type": "markdown",
   "metadata": {},
   "source": [
    "# Using Exceptions to Handle Bad Data\n",
    "\n",
    "In this activity you are given a list of cryptocurrencies, of which only some are valid. Your goal is to make a request for each coin and if it was a valid coin, append the `json` data to a list of valid coins. If it was not a valid coin then append the name of the coin to another list of invalid coins.\n",
    "\n",
    ">**Hint**: You may need to check the json to see where the error is being handled."
   ]
  },
  {
   "cell_type": "markdown",
   "metadata": {},
   "source": [
    "## 1. Import Modules"
   ]
  },
  {
   "cell_type": "code",
   "execution_count": 1,
   "metadata": {},
   "outputs": [],
   "source": [
    "# Import Modules\n",
    "import requests\n",
    "import json\n"
   ]
  },
  {
   "cell_type": "markdown",
   "metadata": {},
   "source": [
    "## 2. Use the [Free Crypto API](https://alternative.me/crypto/api/) ticker endpoint"
   ]
  },
  {
   "cell_type": "code",
   "execution_count": 2,
   "metadata": {},
   "outputs": [],
   "source": [
    "# The end point requires either the currency name or the id after the last slash.\n",
    "# YOUR CODE HERE!\n"
   ]
  },
  {
   "cell_type": "markdown",
   "metadata": {},
   "source": [
    "## 3. Use `coin_list` for a List of Currency Names\n",
    "  - There are too many coins to manually sort through.\n",
    "  - You will iterate over each coin name in the list passing in the coin_name for each API call."
   ]
  },
  {
   "cell_type": "code",
   "execution_count": 3,
   "metadata": {},
   "outputs": [],
   "source": [
    "coin_list = [\n",
    "    \"vere\",\n",
    "    \"nushares\",\n",
    "    \"monetaryunit\",\n",
    "    \"blocknet\",\n",
    "    \"gapcoin\",\n",
    "    \"crown\",\n",
    "    \"bitbay\",\n",
    "    \"gcn-coin\",\n",
    "    \"quotient\",\n",
    "    \"bitcoin-fast\",\n",
    "    \"okcash\",\n",
    "    \"unitus\",\n",
    "    \"goldpieces\",\n",
    "    \"circuits-of-value\",\n",
    "    \"nexus\",\n",
    "    \"inakoin\",\n",
    "    \"gxchain\",\n",
    "    \"bitradio\",\n",
    "    \"flash\",\n",
    "    \"funfair\",\n",
    "    \"tenx\",\n",
    "    \"status\",\n",
    "    \"chancoin\",\n",
    "    \"ergo\",\n",
    "    \"eos\",\n",
    "    \"adex\",\n",
    "    \"denarius\",\n",
    "    \"storj\",\n",
    "    \"adtoken\",\n",
    "    \"cryptoping\",\n",
    "    \"wagerrr\",\n",
    "    \"ecobit\",\n",
    "    \"universalroyalcoin\",\n",
    "    \"polybus\",\n",
    "    \"gas\",\n",
    "    \"freebie\",\n",
    "    \"suncontract\",\n",
    "    \"jetcoin\",\n",
    "    \"metal\",\n",
    "    \"populous\",\n",
    "    \"womencoin\",\n",
    "    \"rupee\",\n",
    "    \"peepcoin\",\n",
    "    \"santiment-network-token\",\n",
    "    \"omisego\",\n",
    "]"
   ]
  },
  {
   "cell_type": "markdown",
   "metadata": {},
   "source": []
  },
  {
   "cell_type": "markdown",
   "metadata": {},
   "source": [
    "## 4. Loop Over Coin List\n",
    "  - Check each coin in `coin_list`.\n",
    "  - Using `url` and the coin name, make a get request to the api using [`request.get`](https://requests.readthedocs.io/en/master/user/quickstart/#response-content).\n",
    "  - Check if the response is valid.\n",
    "  - Catch any server errors and print the trace.\n",
    "  - Append valid coins' `json` data to the `valid_coins` list.\n",
    "  - Append invalid coin names to the `invalid_coins` list.\n",
    "\n",
    "\n",
    "\n",
    ">**Hint**: Are there any errors in the `response` metadata?"
   ]
  },
  {
   "cell_type": "code",
   "execution_count": 5,
   "metadata": {},
   "outputs": [
    {
     "name": "stdout",
     "output_type": "stream",
     "text": [
      "Processed the following coin: vere\n",
      "\n",
      "Processed the following coin: nushares\n",
      "\n",
      "Processed the following coin: monetaryunit\n",
      "\n",
      "Processed the following coin: blocknet\n",
      "\n",
      "Processed the following coin: gapcoin\n",
      "\n",
      "Processed the following coin: crown\n",
      "\n",
      "Processed the following coin: bitbay\n",
      "\n",
      "Processed the following coin: gcn-coin\n",
      "\n",
      "Processed the following coin: quotient\n",
      "\n",
      "Processed the following coin: bitcoin-fast\n",
      "\n",
      "Processed the following coin: okcash\n",
      "\n",
      "Processed the following coin: unitus\n",
      "\n",
      "Processed the following coin: goldpieces\n",
      "\n",
      "Processed the following coin: circuits-of-value\n",
      "\n",
      "Processed the following coin: nexus\n",
      "\n",
      "Processed the following coin: inakoin\n",
      "\n",
      "Processed the following coin: gxchain\n",
      "\n",
      "Processed the following coin: bitradio\n",
      "\n",
      "Processed the following coin: flash\n",
      "\n",
      "Processed the following coin: funfair\n",
      "\n",
      "Processed the following coin: tenx\n",
      "\n",
      "Processed the following coin: status\n",
      "\n",
      "Processed the following coin: chancoin\n",
      "\n",
      "Processed the following coin: ergo\n",
      "\n",
      "Processed the following coin: eos\n",
      "\n",
      "Processed the following coin: adex\n",
      "\n",
      "Processed the following coin: denarius\n",
      "\n",
      "Processed the following coin: storj\n",
      "\n",
      "Processed the following coin: adtoken\n",
      "\n",
      "Processed the following coin: cryptoping\n",
      "\n",
      "Processed the following coin: wagerrr\n",
      "\n",
      "Processed the following coin: ecobit\n",
      "\n",
      "Processed the following coin: universalroyalcoin\n",
      "\n",
      "Processed the following coin: polybus\n",
      "\n",
      "Processed the following coin: gas\n",
      "\n",
      "Processed the following coin: freebie\n",
      "\n",
      "Processed the following coin: suncontract\n",
      "\n",
      "Processed the following coin: jetcoin\n",
      "\n",
      "Processed the following coin: metal\n",
      "\n",
      "Processed the following coin: populous\n",
      "\n",
      "Processed the following coin: womencoin\n",
      "\n",
      "Processed the following coin: rupee\n",
      "\n",
      "Processed the following coin: peepcoin\n",
      "\n",
      "Processed the following coin: santiment-network-token\n",
      "\n",
      "Processed the following coin: omisego\n",
      "\n"
     ]
    }
   ],
   "source": [
    "# Populate these lists.\n",
    "# Put the json data in valid_coins\n",
    "# Put invalid coin names in invalid_coins\n",
    "# YOUR CODE HERE!\n",
    "\n",
    "# Loop over each coin in the coin list\n",
    "# YOUR CODE HERE!\n"
   ]
  },
  {
   "cell_type": "markdown",
   "metadata": {},
   "source": [
    "## 5. Print the Results"
   ]
  },
  {
   "cell_type": "code",
   "execution_count": 6,
   "metadata": {},
   "outputs": [
    {
     "name": "stdout",
     "output_type": "stream",
     "text": [
      "[{'699': {'id': 699, 'name': 'NuShares', 'symbol': 'NSR', 'website_slug': 'nushares', 'rank': 5749, 'circulating_supply': 0, 'total_supply': 0, 'max_supply': 1000000000, 'quotes': {'USD': {'price': 0.000255, 'volume_24h': 1347, 'market_cap': 0, 'percentage_change_1h': None, 'percentage_change_24h': 7.01335159137067, 'percentage_change_7d': 0.0295335097062056, 'percent_change_1h': None, 'percent_change_24h': 7.01335159137067, 'percent_change_7d': 0.0295335097062056}}, 'last_updated': 1609773497}}, {'706': {'id': 706, 'name': 'MonetaryUnit', 'symbol': 'MUE', 'website_slug': 'monetaryunit', 'rank': 1229, 'circulating_supply': 210504691, 'total_supply': 210504691, 'max_supply': 1000000000000000, 'quotes': {'USD': {'price': 0.00318974, 'volume_24h': 2895, 'market_cap': 671455, 'percentage_change_1h': 0.417593107738364, 'percentage_change_24h': -17.32981791201, 'percentage_change_7d': -14.1262031337066, 'percent_change_1h': 0.417593107738364, 'percent_change_24h': -17.32981791201, 'percent_change_7d': -14.1262031337066}}, 'last_updated': 1609773388}}, {'707': {'id': 707, 'name': 'Blocknet', 'symbol': 'BLOCK', 'website_slug': 'blocknet', 'rank': 389, 'circulating_supply': 7406203, 'total_supply': 7406203, 'max_supply': 0, 'quotes': {'USD': {'price': 1.8, 'volume_24h': 20531, 'market_cap': 13319495, 'percentage_change_1h': -2.58380075820502, 'percentage_change_24h': -9.44395416941924, 'percentage_change_7d': 0.6949955254317, 'percent_change_1h': -2.58380075820502, 'percent_change_24h': -9.44395416941924, 'percent_change_7d': 0.6949955254317}}, 'last_updated': 1609777539}}, {'708': {'id': 708, 'name': 'Gapcoin', 'symbol': 'GAP', 'website_slug': 'gapcoin', 'rank': 1532, 'circulating_supply': 16383969, 'total_supply': 16383969, 'max_supply': 0, 'quotes': {'USD': {'price': 0.01518189, 'volume_24h': 5, 'market_cap': 248740, 'percentage_change_1h': -0.111845250892918, 'percentage_change_24h': 23.7839064019194, 'percentage_change_7d': 49.7146959445715, 'percent_change_1h': -0.111845250892918, 'percent_change_24h': 23.7839064019194, 'percent_change_7d': 49.7146959445715}}, 'last_updated': 1609778210}}, {'720': {'id': 720, 'name': 'Crown', 'symbol': 'CRW', 'website_slug': 'crown', 'rank': 892, 'circulating_supply': 26261103, 'total_supply': 26261103, 'max_supply': 42000000, 'quotes': {'USD': {'price': 0.07472, 'volume_24h': 12154, 'market_cap': 1962218, 'percentage_change_1h': 0.844414083295104, 'percentage_change_24h': -15.0500269123095, 'percentage_change_7d': 4.75611065594012, 'percent_change_1h': 0.844414083295104, 'percent_change_24h': -15.0500269123095, 'percent_change_7d': 4.75611065594012}}, 'last_updated': 1609777915}}, {'723': {'id': 723, 'name': 'BitBay', 'symbol': 'BAY', 'website_slug': 'bitbay', 'rank': 8777, 'circulating_supply': 0, 'total_supply': 0, 'max_supply': 1029153366, 'quotes': {'USD': {'price': 0.346643, 'volume_24h': 229, 'market_cap': 0, 'percentage_change_1h': None, 'percentage_change_24h': 3.6889006359012, 'percentage_change_7d': -60.2933658879008, 'percent_change_1h': None, 'percent_change_24h': 3.6889006359012, 'percent_change_7d': -60.2933658879008}}, 'last_updated': 1609777589}}, {'730': {'id': 730, 'name': 'GCN Coin', 'symbol': 'GCN', 'website_slug': 'gcn-coin', 'rank': 1960, 'circulating_supply': 149381200000, 'total_supply': 149381200000, 'max_supply': 200000000000, 'quotes': {'USD': {'price': 3.7e-07, 'volume_24h': 3, 'market_cap': 54573, 'percentage_change_1h': 1.29458896881478, 'percentage_change_24h': -13.919111866509, 'percentage_change_7d': 139.853268719903, 'percent_change_1h': 1.29458896881478, 'percent_change_24h': -13.919111866509, 'percent_change_7d': 139.853268719903}}, 'last_updated': 1609777736}}, {'733': {'id': 733, 'name': 'Quotient', 'symbol': 'XQN', 'website_slug': 'quotient', 'rank': 7662, 'circulating_supply': 0, 'total_supply': 0, 'max_supply': 0, 'quotes': {'USD': {'price': 0.00011784, 'volume_24h': 0, 'market_cap': 0, 'percentage_change_1h': -2.04553363542876, 'percentage_change_24h': -3.73004377673878, 'percentage_change_7d': 0.160900537657014, 'percent_change_1h': -2.04553363542876, 'percent_change_24h': -3.73004377673878, 'percent_change_7d': 0.160900537657014}}, 'last_updated': 1609778026}}, {'747': {'id': 747, 'name': 'Bitcoin Fast', 'symbol': 'BCF', 'website_slug': 'bitcoin-fast', 'rank': 1950, 'circulating_supply': 26107960, 'total_supply': 26107960, 'max_supply': 21000000, 'quotes': {'USD': {'price': 0.00102384, 'volume_24h': 0, 'market_cap': 57011, 'percentage_change_1h': None, 'percentage_change_24h': -83.7316516011016, 'percentage_change_7d': -57.6013558174679, 'percent_change_1h': None, 'percent_change_24h': -83.7316516011016, 'percent_change_7d': -57.6013558174679}}, 'last_updated': 1609778838}}, {'760': {'id': 760, 'name': 'OKCash', 'symbol': 'OK', 'website_slug': 'okcash', 'rank': 834, 'circulating_supply': 78420268, 'total_supply': 78420268, 'max_supply': 105000000, 'quotes': {'USD': {'price': 0.03008722, 'volume_24h': 14984, 'market_cap': 2367047, 'percentage_change_1h': -4.93369766618406, 'percentage_change_24h': -10.9932284847024, 'percentage_change_7d': -14.1194214310001, 'percent_change_1h': -4.93369766618406, 'percent_change_24h': -10.9932284847024, 'percent_change_7d': -14.1194214310001}}, 'last_updated': 1609778582}}, {'781': {'id': 781, 'name': 'Unitus', 'symbol': 'UIS', 'website_slug': 'unitus', 'rank': 6266, 'circulating_supply': 0, 'total_supply': 0, 'max_supply': 0, 'quotes': {'USD': {'price': 0.00509162, 'volume_24h': 5, 'market_cap': 0, 'percentage_change_1h': 0.179292288539584, 'percentage_change_24h': -18.7039379368397, 'percentage_change_7d': 542.795779543007, 'percent_change_1h': 0.179292288539584, 'percent_change_24h': -18.7039379368397, 'percent_change_7d': 542.795779543007}}, 'last_updated': 1609775565}}, {'785': {'id': 785, 'name': 'GoldPieces', 'symbol': 'GP', 'website_slug': 'goldpieces', 'rank': 6572, 'circulating_supply': 0, 'total_supply': 0, 'max_supply': 0, 'quotes': {'USD': {'price': 0.00884103, 'volume_24h': 13, 'market_cap': 0, 'percentage_change_1h': None, 'percentage_change_24h': -15.6467125912331, 'percentage_change_7d': 63.0234092978573, 'percent_change_1h': None, 'percent_change_24h': -15.6467125912331, 'percent_change_7d': 63.0234092978573}}, 'last_updated': 1609761435}}, {'788': {'id': 788, 'name': 'Circuits of Value', 'symbol': 'COVAL', 'website_slug': 'circuits-of-value', 'rank': 910, 'circulating_supply': 1452305163, 'total_supply': 1452305163, 'max_supply': 1752185121, 'quotes': {'USD': {'price': 0.00128031, 'volume_24h': 4859, 'market_cap': 1869345, 'percentage_change_1h': -2.74361226229837, 'percentage_change_24h': 37.7374276107553, 'percentage_change_7d': -7.13123848812975, 'percent_change_1h': -2.74361226229837, 'percent_change_24h': 37.7374276107553, 'percent_change_7d': -7.13123848812975}}, 'last_updated': 1609778615}}, {'789': {'id': 789, 'name': 'Nexus', 'symbol': 'NXS', 'website_slug': 'nexus', 'rank': 370, 'circulating_supply': 67651812, 'total_supply': 67651812, 'max_supply': 78000000, 'quotes': {'USD': {'price': 0.224467, 'volume_24h': 672186, 'market_cap': 14954355, 'percentage_change_1h': -0.190156493637945, 'percentage_change_24h': -16.8139418487351, 'percentage_change_7d': 0.241929310325359, 'percent_change_1h': -0.190156493637945, 'percent_change_24h': -16.8139418487351, 'percent_change_7d': 0.241929310325359}}, 'last_updated': 1609778889}}, {'1750': {'id': 1750, 'name': 'GXChain', 'symbol': 'GXC', 'website_slug': 'gxchain', 'rank': 333, 'circulating_supply': 70000000, 'total_supply': 70000000, 'max_supply': 100000000, 'quotes': {'USD': {'price': 0.282715, 'volume_24h': 8909746, 'market_cap': 19621213, 'percentage_change_1h': -0.361292567939343, 'percentage_change_24h': 0.0185138113796385, 'percentage_change_7d': -8.55171923730956, 'percent_change_1h': -0.361292567939343, 'percent_change_24h': 0.0185138113796385, 'percent_change_7d': -8.55171923730956}}, 'last_updated': 1609778974}}, {'1754': {'id': 1754, 'name': 'Bitradio', 'symbol': 'BRO', 'website_slug': 'bitradio', 'rank': 1715, 'circulating_supply': 14552850, 'total_supply': 14552850, 'max_supply': 10834666, 'quotes': {'USD': {'price': 0.00934597, 'volume_24h': 515, 'market_cap': 136010, 'percentage_change_1h': -2.39296330494394, 'percentage_change_24h': -22.7478622161514, 'percentage_change_7d': -5.00018650239854, 'percent_change_1h': -2.39296330494394, 'percent_change_24h': -22.7478622161514, 'percent_change_7d': -5.00018650239854}}, 'last_updated': 1609777358}}, {'1755': {'id': 1755, 'name': 'Flash', 'symbol': 'FLASH', 'website_slug': 'flash', 'rank': 5381, 'circulating_supply': 0, 'total_supply': 0, 'max_supply': 900000000, 'quotes': {'USD': {'price': 0.00529605, 'volume_24h': 2471, 'market_cap': 0, 'percentage_change_1h': -1.39910864763428, 'percentage_change_24h': -17.0555994320784, 'percentage_change_7d': -0.408528850014474, 'percent_change_1h': -1.39910864763428, 'percent_change_24h': -17.0555994320784, 'percent_change_7d': -0.408528850014474}}, 'last_updated': 1609777364}}, {'1757': {'id': 1757, 'name': 'FunFair', 'symbol': 'FUN', 'website_slug': 'funfair', 'rank': 181, 'circulating_supply': 6014092389, 'total_supply': 6014092389, 'max_supply': 10999873621, 'quotes': {'USD': {'price': 0.00830552, 'volume_24h': 35137388, 'market_cap': 49720006, 'percentage_change_1h': -1.85466458202013, 'percentage_change_24h': 28.4243740148443, 'percentage_change_7d': 126.638145416974, 'percent_change_1h': -1.85466458202013, 'percent_change_24h': 28.4243740148443, 'percent_change_7d': 126.638145416974}}, 'last_updated': 1609778981}}, {'1758': {'id': 1758, 'name': 'TenX', 'symbol': 'PAY', 'website_slug': 'tenx', 'rank': 581, 'circulating_supply': 118141601, 'total_supply': 118141601, 'max_supply': 205218256, 'quotes': {'USD': {'price': 0.04876859, 'volume_24h': 40588701, 'market_cap': 5694764, 'percentage_change_1h': 0.805389251954341, 'percentage_change_24h': -2.91599366602902, 'percentage_change_7d': -17.0261963327757, 'percent_change_1h': 0.805389251954341, 'percent_change_24h': -2.91599366602902, 'percent_change_7d': -17.0261963327757}}, 'last_updated': 1609778910}}, {'1759': {'id': 1759, 'name': 'Status', 'symbol': 'SNT', 'website_slug': 'status', 'rank': 98, 'circulating_supply': 3880483788, 'total_supply': 3880483788, 'max_supply': 6804870174, 'quotes': {'USD': {'price': 0.03615666, 'volume_24h': 37850084, 'market_cap': 141851503, 'percentage_change_1h': -0.198616806453053, 'percentage_change_24h': 5.64871334317909, 'percentage_change_7d': 17.8210169226894, 'percent_change_1h': -0.198616806453053, 'percent_change_24h': 5.64871334317909, 'percent_change_7d': 17.8210169226894}}, 'last_updated': 1609778843}}, {'1760': {'id': 1760, 'name': 'ChanCoin', 'symbol': 'CHAN', 'website_slug': 'chancoin', 'rank': 2232, 'circulating_supply': 22462330, 'total_supply': 22462330, 'max_supply': 0, 'quotes': {'USD': {'price': 0.00064115, 'volume_24h': 0, 'market_cap': 14402, 'percentage_change_1h': None, 'percentage_change_24h': 89.6213061358415, 'percentage_change_7d': 21.5702211518072, 'percent_change_1h': None, 'percent_change_24h': 89.6213061358415, 'percent_change_7d': 21.5702211518072}}, 'last_updated': 1609746584}}, {'1762': {'id': 1762, 'name': 'Ergo', 'symbol': 'ERG', 'website_slug': 'ergo', 'rank': 404, 'circulating_supply': 29832525, 'total_supply': 29832525, 'max_supply': 97739924, 'quotes': {'USD': {'price': 0.413044, 'volume_24h': 377544, 'market_cap': 12236123, 'percentage_change_1h': -2.6072198647805, 'percentage_change_24h': -1.60607510935297, 'percentage_change_7d': 8.70244457696321, 'percent_change_1h': -2.6072198647805, 'percent_change_24h': -1.60607510935297, 'percent_change_7d': 8.70244457696321}}, 'last_updated': 1609778895}}, {'1765': {'id': 1765, 'name': 'EOS', 'symbol': 'EOS', 'website_slug': 'eos', 'rank': 15, 'circulating_supply': 949991176, 'total_supply': 949991176, 'max_supply': 0, 'quotes': {'USD': {'price': 2.73, 'volume_24h': 3938483622, 'market_cap': 2570811723, 'percentage_change_1h': -1.06115982306622, 'percentage_change_24h': -1.27656613480547, 'percentage_change_7d': 0.170487121388056, 'percent_change_1h': -1.06115982306622, 'percent_change_24h': -1.27656613480547, 'percent_change_7d': 0.170487121388056}}, 'last_updated': 1609778969}}, {'1768': {'id': 1768, 'name': 'AdEx', 'symbol': 'ADX', 'website_slug': 'adex', 'rank': 219, 'circulating_supply': 113005016, 'total_supply': 113005016, 'max_supply': 120147492, 'quotes': {'USD': {'price': 0.335146, 'volume_24h': 6330799, 'market_cap': 37828661, 'percentage_change_1h': -1.63159278541599, 'percentage_change_24h': -5.53441978420261, 'percentage_change_7d': 7.52183515186779, 'percent_change_1h': -1.63159278541599, 'percent_change_24h': -5.53441978420261, 'percent_change_7d': 7.52183515186779}}, 'last_updated': 1609778798}}, {'1769': {'id': 1769, 'name': 'Denarius', 'symbol': 'D', 'website_slug': 'denarius', 'rank': 911, 'circulating_supply': 7464334, 'total_supply': 7464334, 'max_supply': 10000000, 'quotes': {'USD': {'price': 1.17, 'volume_24h': 8, 'market_cap': 1859962, 'percentage_change_1h': None, 'percentage_change_24h': 402.305622847157, 'percentage_change_7d': 464.432430735577, 'percent_change_1h': None, 'percent_change_24h': 402.305622847157, 'percent_change_7d': 464.432430735577}}, 'last_updated': 1609778538}}, {'1772': {'id': 1772, 'name': 'Storj', 'symbol': 'STORJ', 'website_slug': 'storj', 'rank': 206, 'circulating_supply': 143787439, 'total_supply': 143787439, 'max_supply': 424999998, 'quotes': {'USD': {'price': 0.295337, 'volume_24h': 25199540, 'market_cap': 42109315, 'percentage_change_1h': -1.27847451112508, 'percentage_change_24h': -4.72022019893616, 'percentage_change_7d': -1.65048535209868, 'percent_change_1h': -1.27847451112508, 'percent_change_24h': -4.72022019893616, 'percent_change_7d': -1.65048535209868}}, 'last_updated': 1609778897}}, {'1775': {'id': 1775, 'name': 'adToken', 'symbol': 'ADT', 'website_slug': 'adtoken', 'rank': 1305, 'circulating_supply': 824000000, 'total_supply': 824000000, 'max_supply': 1000000000, 'quotes': {'USD': {'price': 0.00063191, 'volume_24h': 2870, 'market_cap': 520690, 'percentage_change_1h': -0.822267369208843, 'percentage_change_24h': -6.2191962377159, 'percentage_change_7d': 14.833042894598, 'percent_change_1h': -0.822267369208843, 'percent_change_24h': -6.2191962377159, 'percent_change_7d': 14.833042894598}}, 'last_updated': 1609776569}}, {'1777': {'id': 1777, 'name': 'CryptoPing', 'symbol': 'PING', 'website_slug': 'cryptoping', 'rank': 656, 'circulating_supply': 8999636, 'total_supply': 8999636, 'max_supply': 10000000, 'quotes': {'USD': {'price': 0.461002, 'volume_24h': 91995, 'market_cap': 4168553, 'percentage_change_1h': -5.91983595476343, 'percentage_change_24h': -7.13028587484033, 'percentage_change_7d': -2.2811061105547, 'percent_change_1h': -5.91983595476343, 'percent_change_24h': -7.13028587484033, 'percent_change_7d': -2.2811061105547}}, 'last_updated': 1609778562}}, {'1782': {'id': 1782, 'name': 'Ecobit', 'symbol': 'ECOB', 'website_slug': 'ecobit', 'rank': 5471, 'circulating_supply': 0, 'total_supply': 0, 'max_supply': 8888888888, 'quotes': {'USD': {'price': 0.00157846, 'volume_24h': 2, 'market_cap': 0, 'percentage_change_1h': -2.70046414671351, 'percentage_change_24h': 11.9887279777785, 'percentage_change_7d': 16.6894125111322, 'percent_change_1h': -2.70046414671351, 'percent_change_24h': 11.9887279777785, 'percent_change_7d': 16.6894125111322}}, 'last_updated': 1609753445}}, {'1783': {'id': 1783, 'name': 'UniversalRoyalCoin', 'symbol': 'UNRC', 'website_slug': 'universalroyalcoin', 'rank': 6583, 'circulating_supply': 0, 'total_supply': 0, 'max_supply': 0, 'quotes': {'USD': {'price': 6.021e-05, 'volume_24h': 48, 'market_cap': 0, 'percentage_change_1h': None, 'percentage_change_24h': None, 'percentage_change_7d': None, 'percent_change_1h': None, 'percent_change_24h': None, 'percent_change_7d': None}}, 'last_updated': 1608838455}}, {'1785': {'id': 1785, 'name': 'Gas', 'symbol': 'GAS', 'website_slug': 'gas', 'rank': 327, 'circulating_supply': 13935116, 'total_supply': 13935116, 'max_supply': 100000000, 'quotes': {'USD': {'price': 1.49, 'volume_24h': 4950431, 'market_cap': 20630283, 'percentage_change_1h': 0.569800398556632, 'percentage_change_24h': -3.0096028128473, 'percentage_change_7d': -3.14393477784968, 'percent_change_1h': 0.569800398556632, 'percent_change_24h': -3.0096028128473, 'percent_change_7d': -3.14393477784968}}, 'last_updated': 1609778849}}, {'1786': {'id': 1786, 'name': 'SunContract', 'symbol': 'SNC', 'website_slug': 'suncontract', 'rank': 509, 'circulating_supply': 122707503, 'total_supply': 122707503, 'max_supply': 122707503, 'quotes': {'USD': {'price': 0.060136, 'volume_24h': 791826, 'market_cap': 7388944, 'percentage_change_1h': -4.71414172283119, 'percentage_change_24h': -9.81355511869881, 'percentage_change_7d': 63.4096816107316, 'percent_change_1h': -4.71414172283119, 'percent_change_24h': -9.81355511869881, 'percent_change_7d': 63.4096816107316}}, 'last_updated': 1609778910}}, {'1787': {'id': 1787, 'name': 'Jetcoin', 'symbol': 'JET', 'website_slug': 'jetcoin', 'rank': 1506, 'circulating_supply': 9768025, 'total_supply': 9768025, 'max_supply': 80000000, 'quotes': {'USD': {'price': 0.02784386, 'volume_24h': 800989, 'market_cap': 271980, 'percentage_change_1h': -5.30004789009845, 'percentage_change_24h': 1.59339480195526, 'percentage_change_7d': 71.8543674654806, 'percent_change_1h': -5.30004789009845, 'percent_change_24h': 1.59339480195526, 'percent_change_7d': 71.8543674654806}}, 'last_updated': 1609777746}}, {'1788': {'id': 1788, 'name': 'Metal', 'symbol': 'MTL', 'website_slug': 'metal', 'rank': 295, 'circulating_supply': 64633864, 'total_supply': 64633864, 'max_supply': 66588888, 'quotes': {'USD': {'price': 0.372539, 'volume_24h': 7315812, 'market_cap': 23543517, 'percentage_change_1h': 1.03870862295959, 'percentage_change_24h': -3.30245954269641, 'percentage_change_7d': -0.827865860213014, 'percent_change_1h': 1.03870862295959, 'percent_change_24h': -3.30245954269641, 'percent_change_7d': -0.827865860213014}}, 'last_updated': 1609778941}}, {'1789': {'id': 1789, 'name': 'Populous', 'symbol': 'PPT', 'website_slug': 'populous', 'rank': 328, 'circulating_supply': 36226899, 'total_supply': 36226899, 'max_supply': 53252246, 'quotes': {'USD': {'price': 0.568898, 'volume_24h': 5646815, 'market_cap': 20483977, 'percentage_change_1h': -3.52847841830224, 'percentage_change_24h': -19.2064915786102, 'percentage_change_7d': 24.3599010635875, 'percent_change_1h': -3.52847841830224, 'percent_change_24h': -19.2064915786102, 'percent_change_7d': 24.3599010635875}}, 'last_updated': 1609778947}}, {'1790': {'id': 1790, 'name': 'WomenCoin', 'symbol': 'WOMEN', 'website_slug': 'womencoin', 'rank': 1865, 'circulating_supply': 55208792986, 'total_supply': 55208792986, 'max_supply': 90000000000, 'quotes': {'USD': {'price': 1.46e-06, 'volume_24h': 0, 'market_cap': 80349, 'percentage_change_1h': None, 'percentage_change_24h': -51.3814782632779, 'percentage_change_7d': -3.22094231561652, 'percent_change_1h': None, 'percent_change_24h': -51.3814782632779, 'percent_change_7d': -3.22094231561652}}, 'last_updated': 1609769137}}, {'1799': {'id': 1799, 'name': 'Rupee', 'symbol': 'RUP', 'website_slug': 'rupee', 'rank': 6262, 'circulating_supply': 0, 'total_supply': 0, 'max_supply': 84000000, 'quotes': {'USD': {'price': 0.00125224, 'volume_24h': 0, 'market_cap': 0, 'percentage_change_1h': -1.77433426311044, 'percentage_change_24h': -60.6787643903783, 'percentage_change_7d': -24.0824791432788, 'percent_change_1h': -1.77433426311044, 'percent_change_24h': -60.6787643903783, 'percent_change_7d': -24.0824791432788}}, 'last_updated': 1609776980}}, {'1803': {'id': 1803, 'name': 'Peepcoin', 'symbol': 'PCN', 'website_slug': 'peepcoin', 'rank': 5750, 'circulating_supply': 1815, 'total_supply': 1815, 'max_supply': 57819073831, 'quotes': {'USD': {'price': 3.12e-06, 'volume_24h': 675, 'market_cap': 0, 'percentage_change_1h': None, 'percentage_change_24h': -1.10332082890535, 'percentage_change_7d': 19.5247798982074, 'percent_change_1h': None, 'percent_change_24h': -1.10332082890535, 'percent_change_7d': 19.5247798982074}}, 'last_updated': 1609770902}}, {'1807': {'id': 1807, 'name': 'Santiment Network Token', 'symbol': 'SAN', 'website_slug': 'santiment-network-token', 'rank': 592, 'circulating_supply': 64048080, 'total_supply': 64048080, 'max_supply': 83337000, 'quotes': {'USD': {'price': 0.087167, 'volume_24h': 28726, 'market_cap': 5582904, 'percentage_change_1h': -2.04720503182733, 'percentage_change_24h': -4.53626617593452, 'percentage_change_7d': -0.813884710531596, 'percent_change_1h': -2.04720503182733, 'percent_change_24h': -4.53626617593452, 'percent_change_7d': -0.813884710531596}}, 'last_updated': 1609778295}}, {'1808': {'id': 1808, 'name': 'OMG Network', 'symbol': 'OMG', 'website_slug': 'omisego', 'rank': 53, 'circulating_supply': 140245398, 'total_supply': 140245398, 'max_supply': 140245398, 'quotes': {'USD': {'price': 3.18, 'volume_24h': 779737838, 'market_cap': 452598979, 'percentage_change_1h': -0.782983798580363, 'percentage_change_24h': 17.8730154035609, 'percentage_change_7d': 21.8483838223049, 'percent_change_1h': -0.782983798580363, 'percent_change_24h': 17.8730154035609, 'percent_change_7d': 21.8483838223049}}, 'last_updated': 1609778890}}]\n"
     ]
    }
   ],
   "source": [
    "# YOUR CODE HERE!"
   ]
  },
  {
   "cell_type": "code",
   "execution_count": 7,
   "metadata": {},
   "outputs": [
    {
     "name": "stdout",
     "output_type": "stream",
     "text": [
      "['vere', 'inakoin', 'wagerrr', 'polybus', 'freebie']\n"
     ]
    }
   ],
   "source": [
    "# YOUR CODE HERE!\n"
   ]
  }
 ],
 "metadata": {
  "kernelspec": {
   "display_name": "Python 3",
   "language": "python",
   "name": "python3"
  },
  "language_info": {
   "codemirror_mode": {
    "name": "ipython",
    "version": 3
   },
   "file_extension": ".py",
   "mimetype": "text/x-python",
   "name": "python",
   "nbconvert_exporter": "python",
   "pygments_lexer": "ipython3",
   "version": "3.7.3"
  }
 },
 "nbformat": 4,
 "nbformat_minor": 4
}
