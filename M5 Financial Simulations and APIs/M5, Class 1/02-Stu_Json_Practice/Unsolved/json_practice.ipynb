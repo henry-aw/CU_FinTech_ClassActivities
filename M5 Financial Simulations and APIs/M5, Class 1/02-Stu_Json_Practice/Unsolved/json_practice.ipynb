{
 "cells": [
  {
   "cell_type": "markdown",
   "metadata": {},
   "source": [
    "# JSON Practice\n",
    "\n",
    "This short activity will give you the opportunity to practice converting a `json` to a `Pandas` `DataFrame`. You will read a `json` file containing housing data from Alberta Canada and then convert that json object to a `DataFrame`.\n",
    "\n",
    ">**Hint**: You can create `DataFrame` objects from a list of `Series`.\n"
   ]
  },
  {
   "cell_type": "markdown",
   "metadata": {},
   "source": [
    "## 1. Import Modules"
   ]
  },
  {
   "cell_type": "code",
   "execution_count": 1,
   "metadata": {},
   "outputs": [],
   "source": [
    "# Import modules\n",
    "from pathlib import Path\n",
    "import pandas as pd\n",
    "import json\n"
   ]
  },
  {
   "cell_type": "markdown",
   "metadata": {},
   "source": [
    "## 2. Set paths to `json` Files\n",
    "  - The file contains a json object that was returned from a request to the financial API, Quandl."
   ]
  },
  {
   "cell_type": "code",
   "execution_count": 2,
   "metadata": {},
   "outputs": [],
   "source": [
    "saved_response_path = Path(\"../Resources/alberta_housing_data.json\")"
   ]
  },
  {
   "cell_type": "markdown",
   "metadata": {},
   "source": [
    "## 3. Create an empty dictionary to read the `json` object into"
   ]
  },
  {
   "cell_type": "code",
   "execution_count": 3,
   "metadata": {},
   "outputs": [],
   "source": [
    "# YOUR CODE HERE!\n",
    "\n"
   ]
  },
  {
   "cell_type": "markdown",
   "metadata": {},
   "source": [
    "## 4. Using `json.load` read the `json` object into the `response` dictionary\n",
    "  - You can use [open](https://docs.python.org/3/tutorial/inputoutput.html#reading-and-writing-files) to create a file handle to pass to `json.load`."
   ]
  },
  {
   "cell_type": "code",
   "execution_count": 4,
   "metadata": {},
   "outputs": [],
   "source": [
    "# Read in file\n",
    "# YOUR CODE HERE!\n"
   ]
  },
  {
   "cell_type": "markdown",
   "metadata": {},
   "source": [
    "## 5. Retrieve the column_names\n",
    "  - Look closely at the structure of `response`. There is a list named `column_names` that contain the names for the data columns held in the json object.\n",
    "  - Retrieve this list and store it in a variable named `column_names`."
   ]
  },
  {
   "cell_type": "code",
   "execution_count": 5,
   "metadata": {},
   "outputs": [],
   "source": [
    "# Get list of column names\n",
    "# YOUR CODE HERE!"
   ]
  },
  {
   "cell_type": "markdown",
   "metadata": {},
   "source": [
    "## 6. Create a `DataFrame` from `response`\n",
    "  - `pandas.DataFrame.from_dict` will not return a `DataFrame` with only the data values and column names.\n",
    "  - Create an empty list named `list_series`.\n",
    "  - Create a for loop that iterates over each row in `data`.\n",
    "  - Append a new `Series` for each row into `list_series`.\n",
    "  - Create a new `DataFrame` for the list of `Series` after the list is fully populated."
   ]
  },
  {
   "cell_type": "code",
   "execution_count": 6,
   "metadata": {},
   "outputs": [],
   "source": [
    "# Empty list for storing the Series\n",
    "# YOUR CODE HERE!\n",
    "\n",
    "\n",
    "# Loop over each row in `data`\n",
    "# YOUR CODE HERE!\n",
    "\n",
    "\n",
    "# Create a DataFrame from the list of series\n",
    "# YOUR CODE HERE!\n",
    "\n"
   ]
  },
  {
   "cell_type": "markdown",
   "metadata": {},
   "source": [
    "## 7. Set `DataFrame` column names\n",
    "  - Using the column names found previously, set the dataframe column names using the `column` attribute."
   ]
  },
  {
   "cell_type": "code",
   "execution_count": 7,
   "metadata": {},
   "outputs": [],
   "source": [
    "# Assign column names\n",
    "# YOUR CODE HERE!"
   ]
  },
  {
   "cell_type": "code",
   "execution_count": 8,
   "metadata": {},
   "outputs": [
    {
     "data": {
      "text/html": [
       "<div>\n",
       "<style scoped>\n",
       "    .dataframe tbody tr th:only-of-type {\n",
       "        vertical-align: middle;\n",
       "    }\n",
       "\n",
       "    .dataframe tbody tr th {\n",
       "        vertical-align: top;\n",
       "    }\n",
       "\n",
       "    .dataframe thead th {\n",
       "        text-align: right;\n",
       "    }\n",
       "</style>\n",
       "<table border=\"1\" class=\"dataframe\">\n",
       "  <thead>\n",
       "    <tr style=\"text-align: right;\">\n",
       "      <th></th>\n",
       "      <th>Date</th>\n",
       "      <th>1st 20%</th>\n",
       "      <th>2nd 40%</th>\n",
       "      <th>3rd 60%</th>\n",
       "      <th>4th 80%</th>\n",
       "      <th>Median</th>\n",
       "      <th>Average</th>\n",
       "      <th>Units</th>\n",
       "    </tr>\n",
       "  </thead>\n",
       "  <tbody>\n",
       "    <tr>\n",
       "      <th>0</th>\n",
       "      <td>2020-11-30</td>\n",
       "      <td>395000.0</td>\n",
       "      <td>480000.0</td>\n",
       "      <td>570000.0</td>\n",
       "      <td>730000.0</td>\n",
       "      <td>525000.0</td>\n",
       "      <td>604967.0</td>\n",
       "      <td>2003.0</td>\n",
       "    </tr>\n",
       "    <tr>\n",
       "      <th>1</th>\n",
       "      <td>2020-10-31</td>\n",
       "      <td>390000.0</td>\n",
       "      <td>475000.0</td>\n",
       "      <td>565000.0</td>\n",
       "      <td>718000.0</td>\n",
       "      <td>520000.0</td>\n",
       "      <td>599735.0</td>\n",
       "      <td>2111.0</td>\n",
       "    </tr>\n",
       "    <tr>\n",
       "      <th>2</th>\n",
       "      <td>2020-09-30</td>\n",
       "      <td>390000.0</td>\n",
       "      <td>470000.0</td>\n",
       "      <td>560000.0</td>\n",
       "      <td>720000.0</td>\n",
       "      <td>510000.0</td>\n",
       "      <td>601300.0</td>\n",
       "      <td>2206.0</td>\n",
       "    </tr>\n",
       "    <tr>\n",
       "      <th>3</th>\n",
       "      <td>2020-08-31</td>\n",
       "      <td>385000.0</td>\n",
       "      <td>465000.0</td>\n",
       "      <td>555000.0</td>\n",
       "      <td>735000.0</td>\n",
       "      <td>505000.0</td>\n",
       "      <td>600865.0</td>\n",
       "      <td>2314.0</td>\n",
       "    </tr>\n",
       "    <tr>\n",
       "      <th>4</th>\n",
       "      <td>2020-07-31</td>\n",
       "      <td>380000.0</td>\n",
       "      <td>460000.0</td>\n",
       "      <td>555000.0</td>\n",
       "      <td>725000.0</td>\n",
       "      <td>505000.0</td>\n",
       "      <td>596708.0</td>\n",
       "      <td>2506.0</td>\n",
       "    </tr>\n",
       "    <tr>\n",
       "      <th>...</th>\n",
       "      <td>...</td>\n",
       "      <td>...</td>\n",
       "      <td>...</td>\n",
       "      <td>...</td>\n",
       "      <td>...</td>\n",
       "      <td>...</td>\n",
       "      <td>...</td>\n",
       "      <td>...</td>\n",
       "    </tr>\n",
       "    <tr>\n",
       "      <th>127</th>\n",
       "      <td>2010-03-31</td>\n",
       "      <td>330000.0</td>\n",
       "      <td>390000.0</td>\n",
       "      <td>470000.0</td>\n",
       "      <td>580000.0</td>\n",
       "      <td>430000.0</td>\n",
       "      <td>486648.0</td>\n",
       "      <td>1342.0</td>\n",
       "    </tr>\n",
       "    <tr>\n",
       "      <th>128</th>\n",
       "      <td>2010-02-28</td>\n",
       "      <td>325000.0</td>\n",
       "      <td>385000.0</td>\n",
       "      <td>465000.0</td>\n",
       "      <td>578000.0</td>\n",
       "      <td>420000.0</td>\n",
       "      <td>481374.0</td>\n",
       "      <td>1376.0</td>\n",
       "    </tr>\n",
       "    <tr>\n",
       "      <th>129</th>\n",
       "      <td>2010-01-31</td>\n",
       "      <td>320000.0</td>\n",
       "      <td>380000.0</td>\n",
       "      <td>453000.0</td>\n",
       "      <td>559000.0</td>\n",
       "      <td>415000.0</td>\n",
       "      <td>474082.0</td>\n",
       "      <td>1405.0</td>\n",
       "    </tr>\n",
       "    <tr>\n",
       "      <th>130</th>\n",
       "      <td>2009-12-31</td>\n",
       "      <td>320000.0</td>\n",
       "      <td>380000.0</td>\n",
       "      <td>460000.0</td>\n",
       "      <td>570000.0</td>\n",
       "      <td>415000.0</td>\n",
       "      <td>481583.0</td>\n",
       "      <td>1432.0</td>\n",
       "    </tr>\n",
       "    <tr>\n",
       "      <th>131</th>\n",
       "      <td>2009-11-30</td>\n",
       "      <td>325000.0</td>\n",
       "      <td>385000.0</td>\n",
       "      <td>460000.0</td>\n",
       "      <td>573000.0</td>\n",
       "      <td>420000.0</td>\n",
       "      <td>479962.0</td>\n",
       "      <td>1496.0</td>\n",
       "    </tr>\n",
       "  </tbody>\n",
       "</table>\n",
       "<p>132 rows × 8 columns</p>\n",
       "</div>"
      ],
      "text/plain": [
       "           Date   1st 20%   2nd 40%   3rd 60%   4th 80%    Median   Average  \\\n",
       "0    2020-11-30  395000.0  480000.0  570000.0  730000.0  525000.0  604967.0   \n",
       "1    2020-10-31  390000.0  475000.0  565000.0  718000.0  520000.0  599735.0   \n",
       "2    2020-09-30  390000.0  470000.0  560000.0  720000.0  510000.0  601300.0   \n",
       "3    2020-08-31  385000.0  465000.0  555000.0  735000.0  505000.0  600865.0   \n",
       "4    2020-07-31  380000.0  460000.0  555000.0  725000.0  505000.0  596708.0   \n",
       "..          ...       ...       ...       ...       ...       ...       ...   \n",
       "127  2010-03-31  330000.0  390000.0  470000.0  580000.0  430000.0  486648.0   \n",
       "128  2010-02-28  325000.0  385000.0  465000.0  578000.0  420000.0  481374.0   \n",
       "129  2010-01-31  320000.0  380000.0  453000.0  559000.0  415000.0  474082.0   \n",
       "130  2009-12-31  320000.0  380000.0  460000.0  570000.0  415000.0  481583.0   \n",
       "131  2009-11-30  325000.0  385000.0  460000.0  573000.0  420000.0  479962.0   \n",
       "\n",
       "      Units  \n",
       "0    2003.0  \n",
       "1    2111.0  \n",
       "2    2206.0  \n",
       "3    2314.0  \n",
       "4    2506.0  \n",
       "..      ...  \n",
       "127  1342.0  \n",
       "128  1376.0  \n",
       "129  1405.0  \n",
       "130  1432.0  \n",
       "131  1496.0  \n",
       "\n",
       "[132 rows x 8 columns]"
      ]
     },
     "execution_count": 8,
     "metadata": {},
     "output_type": "execute_result"
    }
   ],
   "source": [
    "\n"
   ]
  }
 ],
 "metadata": {
  "kernelspec": {
   "display_name": "Python 3",
   "language": "python",
   "name": "python3"
  },
  "language_info": {
   "codemirror_mode": {
    "name": "ipython",
    "version": 3
   },
   "file_extension": ".py",
   "mimetype": "text/x-python",
   "name": "python",
   "nbconvert_exporter": "python",
   "pygments_lexer": "ipython3",
   "version": "3.7.3"
  }
 },
 "nbformat": 4,
 "nbformat_minor": 4
}
