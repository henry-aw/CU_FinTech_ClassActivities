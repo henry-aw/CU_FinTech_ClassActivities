{
 "cells": [
  {
   "cell_type": "markdown",
   "metadata": {},
   "source": [
    "# Manipulating DataFrames\n",
    "\n",
    "\n",
    "This is an exercise in which you will learn to manipulate the structure of a Pandas DataFrame, namely its columns. Often times, it is necessary to alter the structure of a Pandas DataFrame to fit the needs of the user.\n",
    "\n",
    "Instructions:\n",
    "\n",
    "1. Import the `pandas`, `pathlib` and `numpy` libraries.\n",
    "\n",
    "2. Create a variable `csvpath` that represents the path to the [people.csv](../Resources/people.csv) using the Path module from the pathlib library.\n",
    "\n",
    "3. Read the CSV into a Pandas DataFrame using the Pandas `read_csv` function and the `csvpath` variable and view the first five rows of the DataFrame.\n",
    "\n",
    "4. View the column names of the Pandas DataFrame.\n",
    "\n",
    "5. View the column data types of the Pandas DataFrame.\n",
    "\n",
    "6. Rename the columns of the Pandas DataFrame to \"Person_ID\", \"First_Name\", \"Last_Name\", \"Email\", \"Gender\", \"University\", \"Occupation\", \"Salary\".\n",
    "\n",
    "7. Alternatively, rename the columns of the Pandas DataFrame using a Dictionary.\n",
    "\n",
    "8. Re-order the columns of the Pandas DataFrame to \"Person_ID\", \"Last_Name\", \"First_Name\", \"Gender\", \"University\", \"Occupation\", \"Salary\", \"Email\".\n",
    "\n",
    "\n",
    "    **Bonus:** Tackle the bonus activity if you finish early.\n",
    "\n",
    "9. Create two additional columns: `Age` and `Age_Copy`. Use the `randint` function from the `numpy` library with the `low`, `high`, and `size` parameters set to `22`, `65`, and `1000`, respectively, to randomly generate an integer from 22 to 65 for 1000 rows.\n",
    "\n",
    "    The numpy code to generate the randome values is as follows:\n",
    "\n",
    "    ```python\n",
    "    np.random.randint(low=22, high=65, size=1000)\n",
    "    ```\n",
    "\n",
    "10. Delete the newly created `Age_Copy` column.\n",
    "\n",
    "11. Using the Pandas `to_csv` function, write the modified DataFrame to a new CSV, and put the file in the `Resources` folder."
   ]
  },
  {
   "cell_type": "markdown",
   "metadata": {},
   "source": [
    "## Import the `pandas`, `pathlib` and `numpy` libraries."
   ]
  },
  {
   "cell_type": "code",
   "execution_count": null,
   "metadata": {},
   "outputs": [],
   "source": [
    "# Import pandas, pathlib, and numpy libraries\n",
    "# YOUR CODE HERE\n",
    "# YOUR CODE HERE\n",
    "# YOUR CODE HERE"
   ]
  },
  {
   "cell_type": "markdown",
   "metadata": {},
   "source": [
    "## Create a variable `csvpath` that represents the path to the people.csv file using the Path module from the pathlib library."
   ]
  },
  {
   "cell_type": "code",
   "execution_count": null,
   "metadata": {},
   "outputs": [],
   "source": [
    "# Use the Pathlib libary to set the path to the CSV\n",
    "# YOUR CODE HERE\n"
   ]
  },
  {
   "cell_type": "markdown",
   "metadata": {},
   "source": [
    "## Read the CSV into a Pandas DataFrame using the Pandas `read_csv` function and the `csvpath` variable and view the first five rows of the DataFrame."
   ]
  },
  {
   "cell_type": "code",
   "execution_count": null,
   "metadata": {},
   "outputs": [],
   "source": [
    "# Use the file path to read the CSV into a DataFrame \n",
    "# YOUR CODE HERE\n",
    "\n",
    "# View the first five rows of the DataFrame\n",
    "# YOUR CODE HERE\n"
   ]
  },
  {
   "cell_type": "markdown",
   "metadata": {},
   "source": [
    "## View the column names of the Pandas DataFrame."
   ]
  },
  {
   "cell_type": "code",
   "execution_count": null,
   "metadata": {},
   "outputs": [],
   "source": [
    "# Use the `columns` attribute to output the column names\n",
    "# YOUR CODE HERE\n"
   ]
  },
  {
   "cell_type": "markdown",
   "metadata": {},
   "source": [
    "## View the column data types of the Pandas DataFrame."
   ]
  },
  {
   "cell_type": "code",
   "execution_count": null,
   "metadata": {},
   "outputs": [],
   "source": [
    "# Use the `dtypes` attribute to output the column names and data types\n",
    "# YOUR CODE HERE\n"
   ]
  },
  {
   "cell_type": "markdown",
   "metadata": {},
   "source": [
    "## Rename the columns of the Pandas DataFrame to \"Person_ID\", \"First_Name\", \"Last_Name\", \"Email\", \"Gender\", \"University\", \"Occupation\", \"Salary\"."
   ]
  },
  {
   "cell_type": "code",
   "execution_count": null,
   "metadata": {},
   "outputs": [],
   "source": [
    "columns = [\"Person_ID\", \"First_Name\", \"Last_Name\", \"Email\", \"Gender\", \"University\", \"Occupation\", \"Salary\"]\n",
    "\n",
    "# Set the `columns` attribute to a new list of column names\n",
    "# YOUR CODE HERE\n",
    "\n",
    "# View the first five rows of the DataFrame\n",
    "# YOUR CODE HERE"
   ]
  },
  {
   "cell_type": "markdown",
   "metadata": {},
   "source": [
    "## Alternatively, rename the columns of the Pandas DataFrame using a Dictionary."
   ]
  },
  {
   "cell_type": "code",
   "execution_count": null,
   "metadata": {},
   "outputs": [],
   "source": [
    "# Use the `rename` function and set the `columns` parameter to a dictionary of new column names\n",
    "# YOUR CODE HERE\n",
    "\n",
    "# View the first five rows of the DataFrame\n",
    "# YOUR CODE HERE"
   ]
  },
  {
   "cell_type": "markdown",
   "metadata": {},
   "source": [
    "## Re-order the columns of the Pandas DataFrame to \"Person_ID\", \"Last_Name\", \"First_Name\", \"Gender\", \"University\", \"Occupation\", \"Salary\", \"Email\"."
   ]
  },
  {
   "cell_type": "code",
   "execution_count": null,
   "metadata": {},
   "outputs": [],
   "source": [
    "# Use a list of re-ordered column names to alter the column order of the original DataFrame\n",
    "# YOUR CODE HERE\n",
    "\n",
    "# View the first five rows of the DataFrame\n",
    "# YOUR CODE HERE"
   ]
  },
  {
   "cell_type": "markdown",
   "metadata": {},
   "source": [
    "## Bonus - If you complete the first part of this activity early, attempt this bonus section."
   ]
  },
  {
   "cell_type": "markdown",
   "metadata": {},
   "source": [
    "### Create two additional columns: `Age` and `Age_Copy`. Use the `randint` function from the `numpy` library with the `low`, `high`, and `size` parameters set to `22`, `65`, and `1000`, respectively, to randomly generate an integer from 22 to 65 for 1000 rows."
   ]
  },
  {
   "cell_type": "code",
   "execution_count": null,
   "metadata": {},
   "outputs": [],
   "source": [
    "# Use the `randint` function to randomly generate an `Age` from 22 to 65 for 1000 rows\n",
    "# YOUR CODE HERE\n",
    "# YOUR CODE HERE\n",
    "\n",
    "# View the first five rows of the DataFrame\n",
    "# YOUR CODE HERE\n"
   ]
  },
  {
   "cell_type": "markdown",
   "metadata": {},
   "source": [
    "### Delete the newly created `Age_Copy` column."
   ]
  },
  {
   "cell_type": "code",
   "execution_count": null,
   "metadata": {},
   "outputs": [],
   "source": [
    "# Use the `drop` function to delete the newly created `Age_Copy` column\n",
    "# YOUR CODE HERE\n",
    "\n",
    "# View the first five rows of the DataFrame\n",
    "# YOUR CODE HERE"
   ]
  },
  {
   "cell_type": "markdown",
   "metadata": {},
   "source": [
    "### Using the Pandas `to_csv` function, write the modified DataFrame to a new CSV, and put the file in the `Resources` folder."
   ]
  },
  {
   "cell_type": "code",
   "execution_count": null,
   "metadata": {},
   "outputs": [],
   "source": [
    "# Save the DataFrame to the `Resources` folder\n",
    "# YOUR CODE HERE\n"
   ]
  }
 ],
 "metadata": {
  "kernelspec": {
   "display_name": "Python 3",
   "language": "python",
   "name": "python3"
  },
  "language_info": {
   "codemirror_mode": {
    "name": "ipython",
    "version": 3
   },
   "file_extension": ".py",
   "mimetype": "text/x-python",
   "name": "python",
   "nbconvert_exporter": "python",
   "pygments_lexer": "ipython3",
   "version": "3.7.3"
  }
 },
 "nbformat": 4,
 "nbformat_minor": 4
}