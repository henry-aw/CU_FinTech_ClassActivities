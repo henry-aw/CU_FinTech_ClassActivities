{
 "cells": [
  {
   "cell_type": "markdown",
   "metadata": {},
   "source": [
    "# From CSV to DataFrame\n",
    "\n",
    "In this activity, you will import a CSV file and create a DataFrame with a Datetime Index.\n",
    "\n",
    "Instructions:\n",
    "\n",
    "1. Import the required libraries and dependecies.\n",
    "\n",
    "2. Using the Pandas `read_csv` function, create a Pandas Dataframe by importing the \"prices.csv\" file from the Resources folder.  The Pandas `read_csv` funtion will take in 4 parameters:\n",
    "    * Using the Path module, specify the relative path to the \"prices.csv\" file.\n",
    "    * Set the `index_col` parameter to specify the \"Date\" column as the index for the Pandas DataFrame.\n",
    "    * Set the `parse_dates` parameter to True.\n",
    "    * Set the `infer_datetime_format` parameter to True. \n",
    "\n",
    "3. Review the first five rows of the DataFrame using the Pandas `head` function.\n",
    "\n",
    "4. Review the last five rows of the DataFrame using the Pandas `tail` function.\n",
    "\n",
    "5. Review both the first and last seven rows of the DataFrame from one cell by calling the Pandas `display` function in conjunction with the `head` and `tail` functions. \n",
    "\n",
    "6. Review basic information of the DataFrame by calling the Pandas `info` function.\n",
    "\n",
    "7. Generate the summary statistics for the DataFrame by calling the Pandas `describe` function. \n"
   ]
  },
  {
   "cell_type": "markdown",
   "metadata": {},
   "source": [
    "## Import the required libraries and dependencies.\n"
   ]
  },
  {
   "cell_type": "code",
   "execution_count": null,
   "metadata": {},
   "outputs": [],
   "source": [
    "# Import the Pandas library\n",
    "# YOUR CODE HERE\n",
    "\n",
    "# Import the Path module from the pathlib library\n",
    "# YOUR CODE HERE\n"
   ]
  },
  {
   "cell_type": "markdown",
   "metadata": {},
   "source": [
    "## Using the Pandas `read_csv` function, create a Pandas Dataframe by importing the \"prices.csv\" file from the Resources folder.\n",
    "\n",
    "The `read_csv` function should take in 4 parameters:\n",
    "\n",
    "1. Using the Path module, specify the relative path to the \"prices.csv\" file.\n",
    "2. Set the `index_col` parameter to specify the \"Date\" column as the index for the Pandas DataFrame.\n",
    "3. Set the `parse_dates` parameter to True.\n",
    "4. Set the `infer_datetime_format` parameter to True. "
   ]
  },
  {
   "cell_type": "code",
   "execution_count": null,
   "metadata": {},
   "outputs": [],
   "source": [
    "# Use the `read_csv` function to create the Pandas DataFrame\n",
    "# YOUR CODE HERE"
   ]
  },
  {
   "cell_type": "markdown",
   "metadata": {},
   "source": [
    "## Review the first five rows of the DataFrame using the Pandas `head` function."
   ]
  },
  {
   "cell_type": "code",
   "execution_count": null,
   "metadata": {},
   "outputs": [],
   "source": [
    "# Review the first five rows of the DataFrame\n",
    "# YOUR CODE HERE"
   ]
  },
  {
   "cell_type": "markdown",
   "metadata": {},
   "source": [
    "## Review the last five rows of the DataFrame using the Pandas `tail` function."
   ]
  },
  {
   "cell_type": "code",
   "execution_count": null,
   "metadata": {},
   "outputs": [],
   "source": [
    "# Review the last five rows of the DataFrame\n",
    "# YOUR CODE HERE"
   ]
  },
  {
   "cell_type": "markdown",
   "metadata": {},
   "source": [
    "## Review both the first and last seven rows of the DataFrame from one cell by calling the Pandas `display` function in conjunction with the `head` and `tail` functions. "
   ]
  },
  {
   "cell_type": "code",
   "execution_count": null,
   "metadata": {},
   "outputs": [],
   "source": [
    "# Review the first and last seven rows of the DataFrame from the same cell\n",
    "# YOUR CODE HERE\n",
    "# YOUR CODE HERE\n"
   ]
  },
  {
   "cell_type": "markdown",
   "metadata": {},
   "source": [
    "## Review basic information of the DataFrame by calling the Pandas `info` function."
   ]
  },
  {
   "cell_type": "code",
   "execution_count": null,
   "metadata": {},
   "outputs": [],
   "source": [
    "# Review basic information about the DataFrame\n",
    "# YOUR CODE HERE\n"
   ]
  },
  {
   "cell_type": "markdown",
   "metadata": {},
   "source": [
    "## Generate the summary statistics for the DataFrame by calling the Pandas `describe` function. "
   ]
  },
  {
   "cell_type": "code",
   "execution_count": null,
   "metadata": {},
   "outputs": [],
   "source": [
    "# Generate the summary statistics for the DataFrame\n",
    "# YOUR CODE HERE\n"
   ]
  }
 ],
 "metadata": {
  "kernelspec": {
   "display_name": "Python 3.7.7 64-bit ('dev': conda)",
   "language": "python",
   "name": "python37764bitdevconda30c4027b071341ef863ddfcdef37d5e3"
  },
  "language_info": {
   "codemirror_mode": {
    "name": "ipython",
    "version": 3
   },
   "file_extension": ".py",
   "mimetype": "text/x-python",
   "name": "python",
   "nbconvert_exporter": "python",
   "pygments_lexer": "ipython3",
   "version": "3.7.1"
  }
 },
 "nbformat": 4,
 "nbformat_minor": 4
}