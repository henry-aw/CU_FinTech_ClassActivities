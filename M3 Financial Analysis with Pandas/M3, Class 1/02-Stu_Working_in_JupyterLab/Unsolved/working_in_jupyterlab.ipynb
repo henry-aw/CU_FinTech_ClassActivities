{
 "cells": [
  {
   "cell_type": "markdown",
   "metadata": {},
   "source": [
    "# Working in JupyterLab\n",
    "\n",
    "In this activity, you will build familiarity working with a Jupyter notebook inside the JupyterLab environment.\n",
    "\n",
    "Instructions:\n",
    "\n",
    "1. On the desktop of your machine, create a folder called \"JupyterLab_Practice\".\n",
    "\n",
    "2. Open your terminal (Terminal for Mac users, Gitbash for Windows users) and navigate to the JupyterLab_Practice folder.'\n",
    "\n",
    "3. Activate your Conda `dev` environment.\n",
    "\n",
    "4. With the `dev` environment active, launch JupyterLab.\n",
    "\n",
    "5. Open the visible \"Launcher\" tab  as a Python 3 notebook.\n",
    "\n",
    "6. Right-clicking on the tab, select `Rename Notebook...` and name the notebook \"notebook_practice.ipynb\".\n",
    "\n",
    "7. Perform each of the following actions within the notebook_practice.ipynb notebook:\n",
    "\n",
    "    * Add a new cell that contains two variables. Assign the variables numeric values.\n",
    "    * Add a new cell and assign it as a \"Markdown\" cell. Include a header and some text.\n",
    "    * Add a new cell that includes both a comment and a variable that adds together the two numeric variables you created earlier. Write the code to print the value of this variable.\n",
    "    * Navigate back to the first cell and run each cell individually using the single-play arrow icon.\n",
    "    * Add a new cell that includes a variable that multiplies together the two numeric variables you created earlier. Write the code to print the value of this variable using the print function and an f-string.\n",
    "    * Using the double-play arrow icon, restart and run the notebook from the beginning.\n",
    "    * Cut the Markdown cell that was created above."
   ]
  },
  {
   "cell_type": "code",
   "execution_count": 1,
   "metadata": {},
   "outputs": [],
   "source": [
    "# Create 2 variables and give them numeric values.\n",
    "# YOUR CODE HERE!\n"
   ]
  },
  {
   "cell_type": "markdown",
   "metadata": {},
   "source": [
    "## Markdown Cell\n",
    "\n",
    "To create a Markdown cell, you add a **new** cell to the notebook, and the select Markdown from the dropdown menu associated with the tab. "
   ]
  },
  {
   "cell_type": "code",
   "execution_count": 2,
   "metadata": {},
   "outputs": [
    {
     "data": {
      "text/plain": [
       "743.7"
      ]
     },
     "execution_count": 2,
     "metadata": {},
     "output_type": "execute_result"
    }
   ],
   "source": [
    "# Add a new cell that includes both a comment and a variable that \n",
    "# adds together the two numberic variables you created earlier. \n",
    "# Write the code to print the value of this variable.\n",
    "\n",
    "# Write the code to print the value of this variable.\n",
    "# YOUR CODE HERE!\n"
   ]
  },
  {
   "cell_type": "code",
   "execution_count": 3,
   "metadata": {},
   "outputs": [
    {
     "name": "stdout",
     "output_type": "stream",
     "text": [
      "You can use f-strings to print the value of variables like 425.7 and 318, as well as the result 135372.6.\n"
     ]
    }
   ],
   "source": [
    "# Add a new cell that includes a variable that multiplies together \n",
    "# the two numeric variables you created earlier. \n",
    "\n",
    "\n",
    "# Write the code to print the value this variable using the print function and an f-string.\n",
    "# YOUR CODE HERE!\n"
   ]
  },
  {
   "cell_type": "code",
   "execution_count": null,
   "metadata": {},
   "outputs": [],
   "source": []
  }
 ],
 "metadata": {
  "kernelspec": {
   "display_name": "Python 3.7.7 64-bit ('dev': conda)",
   "language": "python",
   "name": "python37764bitdevconda30c4027b071341ef863ddfcdef37d5e3"
  },
  "language_info": {
   "codemirror_mode": {
    "name": "ipython",
    "version": 3
   },
   "file_extension": ".py",
   "mimetype": "text/x-python",
   "name": "python",
   "nbconvert_exporter": "python",
   "pygments_lexer": "ipython3",
   "version": "3.7.1"
  }
 },
 "nbformat": 4,
 "nbformat_minor": 4
}