{
 "cells": [
  {
   "cell_type": "markdown",
   "metadata": {},
   "source": [
    "# Markets and DateTime\n",
    "\n",
    "In this activity, you will be converting the date column from an object into a DateTime Index.\n",
    "\n",
    "## Instructions\n",
    "\n",
    "1. Using the Pandas `read_csv` function and the Path module, read in the [\"market_data.csv\"](../Resources/market_data.csv) file and examine the DataFrame. Review the first five rows of the Dataframe, then utilize the `info()` function to determine the columns and their respective data-types.\n",
    "\n",
    "2. Reimport the \"market_data.csv\" file using the Pandas read_csv function, but this time set the `index_col` to \"Timestamp\", and set the `parse_dates` and `infer_datetime_format` parameters. Display the first five rows of the Dataframe. Utilize the `info()` function to determine the columns and their respective data-types.\n",
    "\n",
    "3. Using the `.plot` function, plot the pricing information for the ticker of your choosing from the DataFrame. This will display the data for the full week's worth of information for the chosen stock.\n",
    "\n",
    "You will notice that the data is very choppy. This is because the data contains information for times when the markets were not open and the stock or index was not trading.\n",
    "\n",
    "4. Using the same stock from step 3, choose the day with the biggest pricing change and plot just that single day. You will need to utilize the `loc[]` function and reference your chosen date in the format displayed in the TimeStamp index. You will not reference the time in this step.\n",
    "\n",
    "5. For your chosen stock, plot the active trading period. To do this, utilize the `loc[]` function, reference the date used in step 6 and add the time component. The trading day for these stocks will be from approximately 09:30 to 16:00.\n",
    "\n",
    "In the following steps you are going to calculate the percent change in the stock/index for your chosen day of the week.\n",
    "\n",
    "6. Create a Pandas DataFrame that includes data for your chosen stocks trading day. To create the DataFrame, use the code from the previous step and remove the `plot()` function. This should display the exact times that the stock/index started and finished trading. Confirm the creation of your DataFrame by displaying the first and last five rows.\n",
    "\n",
    "7. Create a variable called `day_open` that holds the opening price for your stock or index. Set this variable equal to the opening price using the `loc[]` function and referene the date and exact time that trading began. View the value of this variable.\n",
    "\n",
    "8. Create a variable called `day_close` that holds the closing price for your stock or index. Set this variable equal to the closing price using the `loc[]` function and reference the date and exact time that trading ended. View the value of this variable.\n",
    "\n",
    "9.  Calculate and display the percent change (day_percent_change) variable using the formula: (day_close- day_open) / day_open\n",
    "\n",
    "In the following steps you are going to calculate the percent change in the stock/index for the week.\n",
    "\n",
    "10. Create a Pandas DataFrame that includes the weeks worth of trading data for your chosen stock. Use the `loc` function and specify the time from 09:30:00 on 2020-02-24 through 16:00:00 on 202-02-28. Confirm the creation of your DataFrame by displaying the first and last five rows of the DataFrame.\n",
    "\n",
    "11. Create a variable `week_open` that holds the week's opening price for your stock or index. Set this variable equal to the opening price using the `loc[]` function and reference the date and exact time that trading began on the first day of the week. Display this variable.\n",
    "\n",
    "12. Create a variable `week_close` that holds the week's closing price for your stock or index. Set this variable equal to the closing price using the `loc[]` function and referene the date and exact time that trading closed on the last day of the week. Display this variable.\n",
    "\n",
    "13.  Calculate and display the percent change (week_percent_change) variable using the formula: (week_close - week_open) / week_open."
   ]
  },
  {
   "cell_type": "code",
   "execution_count": null,
   "metadata": {},
   "outputs": [],
   "source": [
    "# Import required libraries\n",
    "import pandas as pd\n",
    "from pathlib import Path\n"
   ]
  },
  {
   "cell_type": "markdown",
   "metadata": {},
   "source": [
    "## Using the Pandas `read_csv` function and the Path module, read in the \"market_data.csv\" file and examine the DataFrame. Display the first five rows of the Dataframe. Utilize the `info()` function to determine the columns and their respective data-types."
   ]
  },
  {
   "cell_type": "code",
   "execution_count": null,
   "metadata": {},
   "outputs": [],
   "source": [
    "# Using the Pandas `read_csv` function and the Path module, read in the \"Market_Data.csv\" file and examine the DataFrame. \n",
    "# YOUR CODE HERE\n",
    "\n",
    "# Display the first five rows of the Dataframe\n",
    "# YOUR CODE HERE\n",
    "\n",
    "# Utilize the `info()` function to determine the columns and their respective data-types\n",
    "# YOUR CODE HERE\n",
    "\n"
   ]
  },
  {
   "cell_type": "markdown",
   "metadata": {},
   "source": [
    "## Reimport the \"market_data.csv\" file using the Pandas read_csv function, but this time set the `index_col` to \"Timestamp\", and set the `parse_dates` and `infer_datetime_format` parameters. Display the first five rows of the Dataframe. Utilize the `info()` function to determine the columns and their respective data-types."
   ]
  },
  {
   "cell_type": "code",
   "execution_count": null,
   "metadata": {},
   "outputs": [],
   "source": [
    "# Using the Pandas `read_csv` function and the Path module, read in the \"Market_Data.csv\" file and examine the DataFrame. \n",
    "# YOUR CODE HERE\n",
    "\n",
    "# Display the first five rows of the Dataframe\n",
    "# YOUR CODE HERE\n",
    "\n",
    "# Utilize the `info()` function to determine the columns and their respective data-types\n",
    "# YOUR CODE HERE\n",
    "\n"
   ]
  },
  {
   "cell_type": "markdown",
   "metadata": {},
   "source": [
    "### Plot the pricing information for your choosen stock or index"
   ]
  },
  {
   "cell_type": "code",
   "execution_count": null,
   "metadata": {},
   "outputs": [],
   "source": [
    "# Choose a stock or index and plot the data for the week's pricing information\n",
    "# YOUR CODE HERE\n"
   ]
  },
  {
   "cell_type": "markdown",
   "metadata": {},
   "source": [
    "## Using the same stock from step 3, choose the day with the biggest pricing change and plot just that single day. You will need to utilize the `loc[]` function and reference your chosen date in the format displayed in the TimeStamp index. You will not reference the time in this step.\n"
   ]
  },
  {
   "cell_type": "code",
   "execution_count": null,
   "metadata": {},
   "outputs": [],
   "source": [
    "# Using loc[], plot the stock or index for the day with the biggest pricing change\n",
    "# YOUR CODE HERE\n"
   ]
  },
  {
   "cell_type": "markdown",
   "metadata": {},
   "source": [
    "## For your chosen stock, plot the active trading period. To do this, utilize the `loc[]` function, reference the date used in step 6 and add the time component. The trading day for these stocks will be from approximately 09:30 to 16:00."
   ]
  },
  {
   "cell_type": "code",
   "execution_count": null,
   "metadata": {},
   "outputs": [],
   "source": [
    "# Using loc[], plot your stock or index for the active trading hours of your chosen day (ie: time 09:30 and 16:00)\n",
    "# YOUR CODE HERE\n"
   ]
  },
  {
   "cell_type": "markdown",
   "metadata": {},
   "source": [
    "## In the following steps you are going to calculate the percent change in the stock/index for your chosen day of the week."
   ]
  },
  {
   "cell_type": "markdown",
   "metadata": {},
   "source": [
    "## Create a Pandas DataFrame that includes data for your chosen stocks trading day. To create the DataFrame, use the code from the previous step and remove the `plot()` function. The should display the exact times that the stock/index started and finished trading. Confirm the creation of your DataFrame by displaying the first and last five rows."
   ]
  },
  {
   "cell_type": "code",
   "execution_count": null,
   "metadata": {},
   "outputs": [],
   "source": [
    "# View the DataFrame for your chosen day to determine the exact opening and closing times.\n",
    "# YOUR CODE HERE\n",
    "\n",
    "# Display the first and last five rows of the resulting DataFrame\n",
    "\n"
   ]
  },
  {
   "cell_type": "markdown",
   "metadata": {},
   "source": [
    "## Create a variable called `day_open` that holds the opening price for your stock or index. Set this variable equal to the opening price using the `loc[]` function and reference the date and exact time that trading began. View the value of this variable."
   ]
  },
  {
   "cell_type": "code",
   "execution_count": null,
   "metadata": {},
   "outputs": [],
   "source": [
    "# Crate a variable day_open to hold the opening price (approximately 09:30:00) for the week\n",
    "# YOUR CODE HERE\n",
    "\n",
    "# View the day_close value\n",
    "# YOUR CODE HERE"
   ]
  },
  {
   "cell_type": "markdown",
   "metadata": {},
   "source": [
    "## Create a variable called `day_close` that holds the closing price for your stock or index. Set this variable equal to the closing price using the `loc[]` function and reference the date and exact time that trading ended. View the value of this variable."
   ]
  },
  {
   "cell_type": "code",
   "execution_count": null,
   "metadata": {},
   "outputs": [],
   "source": [
    "# Crate a variable (ie day_close_spy) to hold the closing (approximately 16:00:00) price for the chosen day\n",
    "# YOUR CODE HERE\n",
    "\n",
    "# View the day_close value\n",
    "# YOUR CODE HERE\n"
   ]
  },
  {
   "cell_type": "markdown",
   "metadata": {},
   "source": [
    "## Calculate and display the percent change (day_percent_change) variable using the formula `(day_close- day_open) / day_open`"
   ]
  },
  {
   "cell_type": "code",
   "execution_count": null,
   "metadata": {},
   "outputs": [],
   "source": [
    "# Using the variables, calculate the percent change in the price for the trading day (close-open/open)\n",
    "# YOUR CODE HERE\n",
    "\n",
    "# View the percent change of your stock on the day chosen\n",
    "# YOUR CODE HERE\n"
   ]
  },
  {
   "cell_type": "markdown",
   "metadata": {},
   "source": [
    "## In the following steps you are going to calculate the percent change in the stock/index for the week."
   ]
  },
  {
   "cell_type": "markdown",
   "metadata": {},
   "source": [
    "## Create a Pandas DataFrame that includes the weeks worth of trading data for your chosen stock. Use the `loc` function and specify the time from 09:30:00 on 2020-02-24 through 16:00:00 on 202-02-28. Confirm the creation of your DataFrame by displaying the first and last five row of the DataFrame."
   ]
  },
  {
   "cell_type": "code",
   "execution_count": null,
   "metadata": {},
   "outputs": [],
   "source": [
    "# Create a Pandas DataFrame that includes the weeks worth of trading data for your chosen stock. \n",
    "# Use the `loc` function and specify the time from 2020-02-24 09:30:00 through 2020-02-28 16:00:00.\n",
    "# YOUR CODE HERE\n",
    "\n",
    "# Display the first and last five rows of your DataFrame\n"
   ]
  },
  {
   "cell_type": "markdown",
   "metadata": {},
   "source": [
    "## Create a variable `week_open` that holds the week's opening price for your stock or index. Set this variable equal to the opening price using the `loc[]` function and reference the date and exact time that trading began on the first day of the week. Display this variable."
   ]
  },
  {
   "cell_type": "code",
   "execution_count": null,
   "metadata": {},
   "outputs": [],
   "source": [
    "# Set the opening price for the week to a variable called week_open.\n",
    "# YOUR CODE HERE\n",
    "\n",
    "# View the value of week_open\n"
   ]
  },
  {
   "cell_type": "markdown",
   "metadata": {},
   "source": [
    "## Create a variable `week_close` that holds the week's closing price for your stock or index. Set this variable equal to the closing price using the `loc[]` function and reference the date and exact time that trading closed on the last day of the week. Display this variable."
   ]
  },
  {
   "cell_type": "code",
   "execution_count": null,
   "metadata": {},
   "outputs": [],
   "source": [
    "# Set the closing price for the week to a variable called week_close.\n",
    "# YOUR CODE HERE\n",
    "\n",
    "# View the value of week_close\n",
    "\n"
   ]
  },
  {
   "cell_type": "markdown",
   "metadata": {},
   "source": [
    "## Calculate and display the percent change (week_percent_change) variable using the formula `(week_close - week_open) / week_open`"
   ]
  },
  {
   "cell_type": "code",
   "execution_count": null,
   "metadata": {},
   "outputs": [],
   "source": [
    "# Using the variables, calculate the percent change in the price for the trading week (close-open/open)\n",
    "# YOUR CODE HERE\n",
    "\n",
    "# View the value of the week_percent_change\n",
    "# YOUR CODE HERE\n"
   ]
  },
  {
   "cell_type": "code",
   "execution_count": null,
   "metadata": {},
   "outputs": [],
   "source": []
  }
 ],
 "metadata": {
  "kernelspec": {
   "display_name": "Python 3.7.7 64-bit ('dev': conda)",
   "language": "python",
   "name": "python37764bitdevconda30c4027b071341ef863ddfcdef37d5e3"
  },
  "language_info": {
   "codemirror_mode": {
    "name": "ipython",
    "version": 3
   },
   "file_extension": ".py",
   "mimetype": "text/x-python",
   "name": "python",
   "nbconvert_exporter": "python",
   "pygments_lexer": "ipython3",
   "version": "3.7.1"
  }
 },
 "nbformat": 4,
 "nbformat_minor": 4
}
