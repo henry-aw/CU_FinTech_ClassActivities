{
 "cells": [
  {
   "cell_type": "markdown",
   "metadata": {},
   "source": [
    "# Arbitrage\n",
    "\n",
    "In this demonstration, we will be evaluating a statistical arbitrage opportunity for 2 correlated stocks, Coca-Cola (KO) and Pepsi (PEP)."
   ]
  },
  {
   "cell_type": "code",
   "execution_count": 1,
   "metadata": {},
   "outputs": [],
   "source": [
    "# Import required libraries\n",
    "\n",
    "import pandas as pd\n",
    "from pathlib import Path\n"
   ]
  },
  {
   "cell_type": "markdown",
   "metadata": {},
   "source": [
    "### Read in the CSV files and examine the DataFrames for both  Coca-Cola (KO) and Pepsi (PEP)"
   ]
  },
  {
   "cell_type": "code",
   "execution_count": 2,
   "metadata": {},
   "outputs": [
    {
     "name": "stdout",
     "output_type": "stream",
     "text": [
      "<class 'pandas.core.frame.DataFrame'>\n",
      "RangeIndex: 67028 entries, 0 to 67027\n",
      "Data columns (total 6 columns):\n",
      " #   Column    Non-Null Count  Dtype  \n",
      "---  ------    --------------  -----  \n",
      " 0   DateTime  67028 non-null  object \n",
      " 1   open      67028 non-null  float64\n",
      " 2   high      67028 non-null  float64\n",
      " 3   low       67028 non-null  float64\n",
      " 4   close     67028 non-null  float64\n",
      " 5   volume    67028 non-null  int64  \n",
      "dtypes: float64(4), int64(1), object(1)\n",
      "memory usage: 3.1+ MB\n"
     ]
    },
    {
     "data": {
      "text/html": [
       "<div>\n",
       "<style scoped>\n",
       "    .dataframe tbody tr th:only-of-type {\n",
       "        vertical-align: middle;\n",
       "    }\n",
       "\n",
       "    .dataframe tbody tr th {\n",
       "        vertical-align: top;\n",
       "    }\n",
       "\n",
       "    .dataframe thead th {\n",
       "        text-align: right;\n",
       "    }\n",
       "</style>\n",
       "<table border=\"1\" class=\"dataframe\">\n",
       "  <thead>\n",
       "    <tr style=\"text-align: right;\">\n",
       "      <th></th>\n",
       "      <th>DateTime</th>\n",
       "      <th>open</th>\n",
       "      <th>high</th>\n",
       "      <th>low</th>\n",
       "      <th>close</th>\n",
       "      <th>volume</th>\n",
       "    </tr>\n",
       "  </thead>\n",
       "  <tbody>\n",
       "    <tr>\n",
       "      <th>0</th>\n",
       "      <td>2017-01-03 09:30:00-05:00</td>\n",
       "      <td>41.495</td>\n",
       "      <td>41.600</td>\n",
       "      <td>41.475</td>\n",
       "      <td>41.540</td>\n",
       "      <td>15369</td>\n",
       "    </tr>\n",
       "    <tr>\n",
       "      <th>1</th>\n",
       "      <td>2017-01-03 09:35:00-05:00</td>\n",
       "      <td>41.530</td>\n",
       "      <td>41.530</td>\n",
       "      <td>41.370</td>\n",
       "      <td>41.380</td>\n",
       "      <td>4129</td>\n",
       "    </tr>\n",
       "    <tr>\n",
       "      <th>2</th>\n",
       "      <td>2017-01-03 09:40:00-05:00</td>\n",
       "      <td>41.370</td>\n",
       "      <td>41.390</td>\n",
       "      <td>41.310</td>\n",
       "      <td>41.320</td>\n",
       "      <td>7095</td>\n",
       "    </tr>\n",
       "    <tr>\n",
       "      <th>3</th>\n",
       "      <td>2017-01-03 09:45:00-05:00</td>\n",
       "      <td>41.320</td>\n",
       "      <td>41.400</td>\n",
       "      <td>41.320</td>\n",
       "      <td>41.330</td>\n",
       "      <td>8577</td>\n",
       "    </tr>\n",
       "    <tr>\n",
       "      <th>4</th>\n",
       "      <td>2017-01-03 09:50:00-05:00</td>\n",
       "      <td>41.340</td>\n",
       "      <td>41.370</td>\n",
       "      <td>41.285</td>\n",
       "      <td>41.370</td>\n",
       "      <td>6836</td>\n",
       "    </tr>\n",
       "    <tr>\n",
       "      <th>...</th>\n",
       "      <td>...</td>\n",
       "      <td>...</td>\n",
       "      <td>...</td>\n",
       "      <td>...</td>\n",
       "      <td>...</td>\n",
       "      <td>...</td>\n",
       "    </tr>\n",
       "    <tr>\n",
       "      <th>67023</th>\n",
       "      <td>2020-07-31 15:35:00-04:00</td>\n",
       "      <td>46.965</td>\n",
       "      <td>47.015</td>\n",
       "      <td>46.960</td>\n",
       "      <td>46.965</td>\n",
       "      <td>39912</td>\n",
       "    </tr>\n",
       "    <tr>\n",
       "      <th>67024</th>\n",
       "      <td>2020-07-31 15:40:00-04:00</td>\n",
       "      <td>46.965</td>\n",
       "      <td>47.005</td>\n",
       "      <td>46.945</td>\n",
       "      <td>46.990</td>\n",
       "      <td>29988</td>\n",
       "    </tr>\n",
       "    <tr>\n",
       "      <th>67025</th>\n",
       "      <td>2020-07-31 15:45:00-04:00</td>\n",
       "      <td>47.000</td>\n",
       "      <td>47.125</td>\n",
       "      <td>47.000</td>\n",
       "      <td>47.120</td>\n",
       "      <td>94006</td>\n",
       "    </tr>\n",
       "    <tr>\n",
       "      <th>67026</th>\n",
       "      <td>2020-07-31 15:50:00-04:00</td>\n",
       "      <td>47.120</td>\n",
       "      <td>47.140</td>\n",
       "      <td>47.045</td>\n",
       "      <td>47.090</td>\n",
       "      <td>86888</td>\n",
       "    </tr>\n",
       "    <tr>\n",
       "      <th>67027</th>\n",
       "      <td>2020-07-31 15:55:00-04:00</td>\n",
       "      <td>47.080</td>\n",
       "      <td>47.240</td>\n",
       "      <td>47.070</td>\n",
       "      <td>47.220</td>\n",
       "      <td>320580</td>\n",
       "    </tr>\n",
       "  </tbody>\n",
       "</table>\n",
       "<p>67028 rows × 6 columns</p>\n",
       "</div>"
      ],
      "text/plain": [
       "                        DateTime    open    high     low   close  volume\n",
       "0      2017-01-03 09:30:00-05:00  41.495  41.600  41.475  41.540   15369\n",
       "1      2017-01-03 09:35:00-05:00  41.530  41.530  41.370  41.380    4129\n",
       "2      2017-01-03 09:40:00-05:00  41.370  41.390  41.310  41.320    7095\n",
       "3      2017-01-03 09:45:00-05:00  41.320  41.400  41.320  41.330    8577\n",
       "4      2017-01-03 09:50:00-05:00  41.340  41.370  41.285  41.370    6836\n",
       "...                          ...     ...     ...     ...     ...     ...\n",
       "67023  2020-07-31 15:35:00-04:00  46.965  47.015  46.960  46.965   39912\n",
       "67024  2020-07-31 15:40:00-04:00  46.965  47.005  46.945  46.990   29988\n",
       "67025  2020-07-31 15:45:00-04:00  47.000  47.125  47.000  47.120   94006\n",
       "67026  2020-07-31 15:50:00-04:00  47.120  47.140  47.045  47.090   86888\n",
       "67027  2020-07-31 15:55:00-04:00  47.080  47.240  47.070  47.220  320580\n",
       "\n",
       "[67028 rows x 6 columns]"
      ]
     },
     "execution_count": 2,
     "metadata": {},
     "output_type": "execute_result"
    }
   ],
   "source": [
    "# For KO: Set the path, read in the CSV file using Pandas and review the DataFrame.\n",
    "file_path = Path('../Resources/KO.csv')\n",
    "\n",
    "# Read in the CSV as a DataFrame\n",
    "KO_csv = pd.read_csv(file_path)\n",
    "KO_csv.info()\n",
    "KO_csv"
   ]
  },
  {
   "cell_type": "code",
   "execution_count": 3,
   "metadata": {},
   "outputs": [
    {
     "name": "stdout",
     "output_type": "stream",
     "text": [
      "<class 'pandas.core.frame.DataFrame'>\n",
      "RangeIndex: 68802 entries, 0 to 68801\n",
      "Data columns (total 6 columns):\n",
      " #   Column    Non-Null Count  Dtype  \n",
      "---  ------    --------------  -----  \n",
      " 0   DateTime  68802 non-null  object \n",
      " 1   open      68802 non-null  float64\n",
      " 2   high      68802 non-null  float64\n",
      " 3   low       68802 non-null  float64\n",
      " 4   close     68802 non-null  float64\n",
      " 5   volume    68802 non-null  int64  \n",
      "dtypes: float64(4), int64(1), object(1)\n",
      "memory usage: 3.1+ MB\n"
     ]
    },
    {
     "data": {
      "text/html": [
       "<div>\n",
       "<style scoped>\n",
       "    .dataframe tbody tr th:only-of-type {\n",
       "        vertical-align: middle;\n",
       "    }\n",
       "\n",
       "    .dataframe tbody tr th {\n",
       "        vertical-align: top;\n",
       "    }\n",
       "\n",
       "    .dataframe thead th {\n",
       "        text-align: right;\n",
       "    }\n",
       "</style>\n",
       "<table border=\"1\" class=\"dataframe\">\n",
       "  <thead>\n",
       "    <tr style=\"text-align: right;\">\n",
       "      <th></th>\n",
       "      <th>DateTime</th>\n",
       "      <th>open</th>\n",
       "      <th>high</th>\n",
       "      <th>low</th>\n",
       "      <th>close</th>\n",
       "      <th>volume</th>\n",
       "    </tr>\n",
       "  </thead>\n",
       "  <tbody>\n",
       "    <tr>\n",
       "      <th>0</th>\n",
       "      <td>2017-01-03 09:30:00-05:00</td>\n",
       "      <td>104.94</td>\n",
       "      <td>104.95</td>\n",
       "      <td>104.73</td>\n",
       "      <td>104.84</td>\n",
       "      <td>2413</td>\n",
       "    </tr>\n",
       "    <tr>\n",
       "      <th>1</th>\n",
       "      <td>2017-01-03 09:35:00-05:00</td>\n",
       "      <td>104.71</td>\n",
       "      <td>104.86</td>\n",
       "      <td>104.60</td>\n",
       "      <td>104.60</td>\n",
       "      <td>500</td>\n",
       "    </tr>\n",
       "    <tr>\n",
       "      <th>2</th>\n",
       "      <td>2017-01-03 09:40:00-05:00</td>\n",
       "      <td>104.61</td>\n",
       "      <td>104.61</td>\n",
       "      <td>104.50</td>\n",
       "      <td>104.51</td>\n",
       "      <td>816</td>\n",
       "    </tr>\n",
       "    <tr>\n",
       "      <th>3</th>\n",
       "      <td>2017-01-03 09:45:00-05:00</td>\n",
       "      <td>104.56</td>\n",
       "      <td>104.56</td>\n",
       "      <td>104.48</td>\n",
       "      <td>104.48</td>\n",
       "      <td>300</td>\n",
       "    </tr>\n",
       "    <tr>\n",
       "      <th>4</th>\n",
       "      <td>2017-01-03 09:50:00-05:00</td>\n",
       "      <td>104.47</td>\n",
       "      <td>104.65</td>\n",
       "      <td>104.47</td>\n",
       "      <td>104.62</td>\n",
       "      <td>1321</td>\n",
       "    </tr>\n",
       "    <tr>\n",
       "      <th>...</th>\n",
       "      <td>...</td>\n",
       "      <td>...</td>\n",
       "      <td>...</td>\n",
       "      <td>...</td>\n",
       "      <td>...</td>\n",
       "      <td>...</td>\n",
       "    </tr>\n",
       "    <tr>\n",
       "      <th>68797</th>\n",
       "      <td>2020-07-31 15:35:00-04:00</td>\n",
       "      <td>136.77</td>\n",
       "      <td>136.87</td>\n",
       "      <td>136.77</td>\n",
       "      <td>136.85</td>\n",
       "      <td>2676</td>\n",
       "    </tr>\n",
       "    <tr>\n",
       "      <th>68798</th>\n",
       "      <td>2020-07-31 15:40:00-04:00</td>\n",
       "      <td>136.78</td>\n",
       "      <td>136.90</td>\n",
       "      <td>136.74</td>\n",
       "      <td>136.90</td>\n",
       "      <td>2956</td>\n",
       "    </tr>\n",
       "    <tr>\n",
       "      <th>68799</th>\n",
       "      <td>2020-07-31 15:45:00-04:00</td>\n",
       "      <td>137.12</td>\n",
       "      <td>137.16</td>\n",
       "      <td>136.96</td>\n",
       "      <td>137.16</td>\n",
       "      <td>2585</td>\n",
       "    </tr>\n",
       "    <tr>\n",
       "      <th>68800</th>\n",
       "      <td>2020-07-31 15:50:00-04:00</td>\n",
       "      <td>137.19</td>\n",
       "      <td>137.40</td>\n",
       "      <td>137.04</td>\n",
       "      <td>137.33</td>\n",
       "      <td>10280</td>\n",
       "    </tr>\n",
       "    <tr>\n",
       "      <th>68801</th>\n",
       "      <td>2020-07-31 15:55:00-04:00</td>\n",
       "      <td>137.26</td>\n",
       "      <td>137.67</td>\n",
       "      <td>137.26</td>\n",
       "      <td>137.67</td>\n",
       "      <td>6568</td>\n",
       "    </tr>\n",
       "  </tbody>\n",
       "</table>\n",
       "<p>68802 rows × 6 columns</p>\n",
       "</div>"
      ],
      "text/plain": [
       "                        DateTime    open    high     low   close  volume\n",
       "0      2017-01-03 09:30:00-05:00  104.94  104.95  104.73  104.84    2413\n",
       "1      2017-01-03 09:35:00-05:00  104.71  104.86  104.60  104.60     500\n",
       "2      2017-01-03 09:40:00-05:00  104.61  104.61  104.50  104.51     816\n",
       "3      2017-01-03 09:45:00-05:00  104.56  104.56  104.48  104.48     300\n",
       "4      2017-01-03 09:50:00-05:00  104.47  104.65  104.47  104.62    1321\n",
       "...                          ...     ...     ...     ...     ...     ...\n",
       "68797  2020-07-31 15:35:00-04:00  136.77  136.87  136.77  136.85    2676\n",
       "68798  2020-07-31 15:40:00-04:00  136.78  136.90  136.74  136.90    2956\n",
       "68799  2020-07-31 15:45:00-04:00  137.12  137.16  136.96  137.16    2585\n",
       "68800  2020-07-31 15:50:00-04:00  137.19  137.40  137.04  137.33   10280\n",
       "68801  2020-07-31 15:55:00-04:00  137.26  137.67  137.26  137.67    6568\n",
       "\n",
       "[68802 rows x 6 columns]"
      ]
     },
     "execution_count": 3,
     "metadata": {},
     "output_type": "execute_result"
    }
   ],
   "source": [
    "# For PEP: Set the path, read in the CSV file using Pandas and review the DataFrame.\n",
    "file_path = Path('../Resources/PEP.csv')\n",
    "\n",
    "# Read in the CSV as a DataFrame\n",
    "PEP_csv = pd.read_csv(file_path)\n",
    "PEP_csv.info()\n",
    "PEP_csv"
   ]
  },
  {
   "cell_type": "markdown",
   "metadata": {},
   "source": [
    "### Convert the DateTime column from Pandas object to DateTime series & set as the Index"
   ]
  },
  {
   "cell_type": "code",
   "execution_count": 4,
   "metadata": {},
   "outputs": [
    {
     "name": "stdout",
     "output_type": "stream",
     "text": [
      "<class 'pandas.core.frame.DataFrame'>\n",
      "RangeIndex: 67028 entries, 0 to 67027\n",
      "Data columns (total 6 columns):\n",
      " #   Column    Non-Null Count  Dtype                     \n",
      "---  ------    --------------  -----                     \n",
      " 0   DateTime  67028 non-null  datetime64[ns, US/Eastern]\n",
      " 1   open      67028 non-null  float64                   \n",
      " 2   high      67028 non-null  float64                   \n",
      " 3   low       67028 non-null  float64                   \n",
      " 4   close     67028 non-null  float64                   \n",
      " 5   volume    67028 non-null  int64                     \n",
      "dtypes: datetime64[ns, US/Eastern](1), float64(4), int64(1)\n",
      "memory usage: 3.1 MB\n"
     ]
    }
   ],
   "source": [
    "KO_csv['DateTime'] = pd.to_datetime(KO_csv['DateTime'], infer_datetime_format=True, utc=True)\n",
    "KO_csv['DateTime'] = KO_csv['DateTime'].dt.tz_convert('US/Eastern')\n",
    "KO_csv.info()\n"
   ]
  },
  {
   "cell_type": "code",
   "execution_count": 5,
   "metadata": {},
   "outputs": [
    {
     "data": {
      "text/html": [
       "<div>\n",
       "<style scoped>\n",
       "    .dataframe tbody tr th:only-of-type {\n",
       "        vertical-align: middle;\n",
       "    }\n",
       "\n",
       "    .dataframe tbody tr th {\n",
       "        vertical-align: top;\n",
       "    }\n",
       "\n",
       "    .dataframe thead th {\n",
       "        text-align: right;\n",
       "    }\n",
       "</style>\n",
       "<table border=\"1\" class=\"dataframe\">\n",
       "  <thead>\n",
       "    <tr style=\"text-align: right;\">\n",
       "      <th></th>\n",
       "      <th>open</th>\n",
       "      <th>high</th>\n",
       "      <th>low</th>\n",
       "      <th>close</th>\n",
       "      <th>volume</th>\n",
       "    </tr>\n",
       "    <tr>\n",
       "      <th>DateTime</th>\n",
       "      <th></th>\n",
       "      <th></th>\n",
       "      <th></th>\n",
       "      <th></th>\n",
       "      <th></th>\n",
       "    </tr>\n",
       "  </thead>\n",
       "  <tbody>\n",
       "    <tr>\n",
       "      <th>2017-01-03 09:30:00-05:00</th>\n",
       "      <td>41.495</td>\n",
       "      <td>41.600</td>\n",
       "      <td>41.475</td>\n",
       "      <td>41.540</td>\n",
       "      <td>15369</td>\n",
       "    </tr>\n",
       "    <tr>\n",
       "      <th>2017-01-03 09:35:00-05:00</th>\n",
       "      <td>41.530</td>\n",
       "      <td>41.530</td>\n",
       "      <td>41.370</td>\n",
       "      <td>41.380</td>\n",
       "      <td>4129</td>\n",
       "    </tr>\n",
       "    <tr>\n",
       "      <th>2017-01-03 09:40:00-05:00</th>\n",
       "      <td>41.370</td>\n",
       "      <td>41.390</td>\n",
       "      <td>41.310</td>\n",
       "      <td>41.320</td>\n",
       "      <td>7095</td>\n",
       "    </tr>\n",
       "    <tr>\n",
       "      <th>2017-01-03 09:45:00-05:00</th>\n",
       "      <td>41.320</td>\n",
       "      <td>41.400</td>\n",
       "      <td>41.320</td>\n",
       "      <td>41.330</td>\n",
       "      <td>8577</td>\n",
       "    </tr>\n",
       "    <tr>\n",
       "      <th>2017-01-03 09:50:00-05:00</th>\n",
       "      <td>41.340</td>\n",
       "      <td>41.370</td>\n",
       "      <td>41.285</td>\n",
       "      <td>41.370</td>\n",
       "      <td>6836</td>\n",
       "    </tr>\n",
       "    <tr>\n",
       "      <th>...</th>\n",
       "      <td>...</td>\n",
       "      <td>...</td>\n",
       "      <td>...</td>\n",
       "      <td>...</td>\n",
       "      <td>...</td>\n",
       "    </tr>\n",
       "    <tr>\n",
       "      <th>2020-07-31 15:35:00-04:00</th>\n",
       "      <td>46.965</td>\n",
       "      <td>47.015</td>\n",
       "      <td>46.960</td>\n",
       "      <td>46.965</td>\n",
       "      <td>39912</td>\n",
       "    </tr>\n",
       "    <tr>\n",
       "      <th>2020-07-31 15:40:00-04:00</th>\n",
       "      <td>46.965</td>\n",
       "      <td>47.005</td>\n",
       "      <td>46.945</td>\n",
       "      <td>46.990</td>\n",
       "      <td>29988</td>\n",
       "    </tr>\n",
       "    <tr>\n",
       "      <th>2020-07-31 15:45:00-04:00</th>\n",
       "      <td>47.000</td>\n",
       "      <td>47.125</td>\n",
       "      <td>47.000</td>\n",
       "      <td>47.120</td>\n",
       "      <td>94006</td>\n",
       "    </tr>\n",
       "    <tr>\n",
       "      <th>2020-07-31 15:50:00-04:00</th>\n",
       "      <td>47.120</td>\n",
       "      <td>47.140</td>\n",
       "      <td>47.045</td>\n",
       "      <td>47.090</td>\n",
       "      <td>86888</td>\n",
       "    </tr>\n",
       "    <tr>\n",
       "      <th>2020-07-31 15:55:00-04:00</th>\n",
       "      <td>47.080</td>\n",
       "      <td>47.240</td>\n",
       "      <td>47.070</td>\n",
       "      <td>47.220</td>\n",
       "      <td>320580</td>\n",
       "    </tr>\n",
       "  </tbody>\n",
       "</table>\n",
       "<p>67028 rows × 5 columns</p>\n",
       "</div>"
      ],
      "text/plain": [
       "                             open    high     low   close  volume\n",
       "DateTime                                                         \n",
       "2017-01-03 09:30:00-05:00  41.495  41.600  41.475  41.540   15369\n",
       "2017-01-03 09:35:00-05:00  41.530  41.530  41.370  41.380    4129\n",
       "2017-01-03 09:40:00-05:00  41.370  41.390  41.310  41.320    7095\n",
       "2017-01-03 09:45:00-05:00  41.320  41.400  41.320  41.330    8577\n",
       "2017-01-03 09:50:00-05:00  41.340  41.370  41.285  41.370    6836\n",
       "...                           ...     ...     ...     ...     ...\n",
       "2020-07-31 15:35:00-04:00  46.965  47.015  46.960  46.965   39912\n",
       "2020-07-31 15:40:00-04:00  46.965  47.005  46.945  46.990   29988\n",
       "2020-07-31 15:45:00-04:00  47.000  47.125  47.000  47.120   94006\n",
       "2020-07-31 15:50:00-04:00  47.120  47.140  47.045  47.090   86888\n",
       "2020-07-31 15:55:00-04:00  47.080  47.240  47.070  47.220  320580\n",
       "\n",
       "[67028 rows x 5 columns]"
      ]
     },
     "execution_count": 5,
     "metadata": {},
     "output_type": "execute_result"
    }
   ],
   "source": [
    "KO_csv = KO_csv.set_index(KO_csv['DateTime']).drop(columns=['DateTime'])\n",
    "KO_csv"
   ]
  },
  {
   "cell_type": "code",
   "execution_count": 6,
   "metadata": {},
   "outputs": [
    {
     "name": "stdout",
     "output_type": "stream",
     "text": [
      "<class 'pandas.core.frame.DataFrame'>\n",
      "RangeIndex: 68802 entries, 0 to 68801\n",
      "Data columns (total 6 columns):\n",
      " #   Column    Non-Null Count  Dtype                     \n",
      "---  ------    --------------  -----                     \n",
      " 0   DateTime  68802 non-null  datetime64[ns, US/Eastern]\n",
      " 1   open      68802 non-null  float64                   \n",
      " 2   high      68802 non-null  float64                   \n",
      " 3   low       68802 non-null  float64                   \n",
      " 4   close     68802 non-null  float64                   \n",
      " 5   volume    68802 non-null  int64                     \n",
      "dtypes: datetime64[ns, US/Eastern](1), float64(4), int64(1)\n",
      "memory usage: 3.1 MB\n"
     ]
    }
   ],
   "source": [
    "PEP_csv['DateTime'] = pd.to_datetime(PEP_csv['DateTime'], infer_datetime_format=True, utc=True)\n",
    "PEP_csv['DateTime'] = PEP_csv['DateTime'].dt.tz_convert('US/Eastern')\n",
    "PEP_csv.info()\n"
   ]
  },
  {
   "cell_type": "code",
   "execution_count": 7,
   "metadata": {},
   "outputs": [
    {
     "name": "stdout",
     "output_type": "stream",
     "text": [
      "<class 'pandas.core.frame.DataFrame'>\n",
      "DatetimeIndex: 68802 entries, 2017-01-03 09:30:00-05:00 to 2020-07-31 15:55:00-04:00\n",
      "Data columns (total 5 columns):\n",
      " #   Column  Non-Null Count  Dtype  \n",
      "---  ------  --------------  -----  \n",
      " 0   open    68802 non-null  float64\n",
      " 1   high    68802 non-null  float64\n",
      " 2   low     68802 non-null  float64\n",
      " 3   close   68802 non-null  float64\n",
      " 4   volume  68802 non-null  int64  \n",
      "dtypes: float64(4), int64(1)\n",
      "memory usage: 3.1 MB\n"
     ]
    },
    {
     "data": {
      "text/html": [
       "<div>\n",
       "<style scoped>\n",
       "    .dataframe tbody tr th:only-of-type {\n",
       "        vertical-align: middle;\n",
       "    }\n",
       "\n",
       "    .dataframe tbody tr th {\n",
       "        vertical-align: top;\n",
       "    }\n",
       "\n",
       "    .dataframe thead th {\n",
       "        text-align: right;\n",
       "    }\n",
       "</style>\n",
       "<table border=\"1\" class=\"dataframe\">\n",
       "  <thead>\n",
       "    <tr style=\"text-align: right;\">\n",
       "      <th></th>\n",
       "      <th>open</th>\n",
       "      <th>high</th>\n",
       "      <th>low</th>\n",
       "      <th>close</th>\n",
       "      <th>volume</th>\n",
       "    </tr>\n",
       "    <tr>\n",
       "      <th>DateTime</th>\n",
       "      <th></th>\n",
       "      <th></th>\n",
       "      <th></th>\n",
       "      <th></th>\n",
       "      <th></th>\n",
       "    </tr>\n",
       "  </thead>\n",
       "  <tbody>\n",
       "    <tr>\n",
       "      <th>2017-01-03 09:30:00-05:00</th>\n",
       "      <td>104.94</td>\n",
       "      <td>104.95</td>\n",
       "      <td>104.73</td>\n",
       "      <td>104.84</td>\n",
       "      <td>2413</td>\n",
       "    </tr>\n",
       "    <tr>\n",
       "      <th>2017-01-03 09:35:00-05:00</th>\n",
       "      <td>104.71</td>\n",
       "      <td>104.86</td>\n",
       "      <td>104.60</td>\n",
       "      <td>104.60</td>\n",
       "      <td>500</td>\n",
       "    </tr>\n",
       "    <tr>\n",
       "      <th>2017-01-03 09:40:00-05:00</th>\n",
       "      <td>104.61</td>\n",
       "      <td>104.61</td>\n",
       "      <td>104.50</td>\n",
       "      <td>104.51</td>\n",
       "      <td>816</td>\n",
       "    </tr>\n",
       "    <tr>\n",
       "      <th>2017-01-03 09:45:00-05:00</th>\n",
       "      <td>104.56</td>\n",
       "      <td>104.56</td>\n",
       "      <td>104.48</td>\n",
       "      <td>104.48</td>\n",
       "      <td>300</td>\n",
       "    </tr>\n",
       "    <tr>\n",
       "      <th>2017-01-03 09:50:00-05:00</th>\n",
       "      <td>104.47</td>\n",
       "      <td>104.65</td>\n",
       "      <td>104.47</td>\n",
       "      <td>104.62</td>\n",
       "      <td>1321</td>\n",
       "    </tr>\n",
       "    <tr>\n",
       "      <th>...</th>\n",
       "      <td>...</td>\n",
       "      <td>...</td>\n",
       "      <td>...</td>\n",
       "      <td>...</td>\n",
       "      <td>...</td>\n",
       "    </tr>\n",
       "    <tr>\n",
       "      <th>2020-07-31 15:35:00-04:00</th>\n",
       "      <td>136.77</td>\n",
       "      <td>136.87</td>\n",
       "      <td>136.77</td>\n",
       "      <td>136.85</td>\n",
       "      <td>2676</td>\n",
       "    </tr>\n",
       "    <tr>\n",
       "      <th>2020-07-31 15:40:00-04:00</th>\n",
       "      <td>136.78</td>\n",
       "      <td>136.90</td>\n",
       "      <td>136.74</td>\n",
       "      <td>136.90</td>\n",
       "      <td>2956</td>\n",
       "    </tr>\n",
       "    <tr>\n",
       "      <th>2020-07-31 15:45:00-04:00</th>\n",
       "      <td>137.12</td>\n",
       "      <td>137.16</td>\n",
       "      <td>136.96</td>\n",
       "      <td>137.16</td>\n",
       "      <td>2585</td>\n",
       "    </tr>\n",
       "    <tr>\n",
       "      <th>2020-07-31 15:50:00-04:00</th>\n",
       "      <td>137.19</td>\n",
       "      <td>137.40</td>\n",
       "      <td>137.04</td>\n",
       "      <td>137.33</td>\n",
       "      <td>10280</td>\n",
       "    </tr>\n",
       "    <tr>\n",
       "      <th>2020-07-31 15:55:00-04:00</th>\n",
       "      <td>137.26</td>\n",
       "      <td>137.67</td>\n",
       "      <td>137.26</td>\n",
       "      <td>137.67</td>\n",
       "      <td>6568</td>\n",
       "    </tr>\n",
       "  </tbody>\n",
       "</table>\n",
       "<p>68802 rows × 5 columns</p>\n",
       "</div>"
      ],
      "text/plain": [
       "                             open    high     low   close  volume\n",
       "DateTime                                                         \n",
       "2017-01-03 09:30:00-05:00  104.94  104.95  104.73  104.84    2413\n",
       "2017-01-03 09:35:00-05:00  104.71  104.86  104.60  104.60     500\n",
       "2017-01-03 09:40:00-05:00  104.61  104.61  104.50  104.51     816\n",
       "2017-01-03 09:45:00-05:00  104.56  104.56  104.48  104.48     300\n",
       "2017-01-03 09:50:00-05:00  104.47  104.65  104.47  104.62    1321\n",
       "...                           ...     ...     ...     ...     ...\n",
       "2020-07-31 15:35:00-04:00  136.77  136.87  136.77  136.85    2676\n",
       "2020-07-31 15:40:00-04:00  136.78  136.90  136.74  136.90    2956\n",
       "2020-07-31 15:45:00-04:00  137.12  137.16  136.96  137.16    2585\n",
       "2020-07-31 15:50:00-04:00  137.19  137.40  137.04  137.33   10280\n",
       "2020-07-31 15:55:00-04:00  137.26  137.67  137.26  137.67    6568\n",
       "\n",
       "[68802 rows x 5 columns]"
      ]
     },
     "execution_count": 7,
     "metadata": {},
     "output_type": "execute_result"
    }
   ],
   "source": [
    "PEP_csv = PEP_csv.set_index(PEP_csv['DateTime']).drop(columns=['DateTime'])\n",
    "PEP_csv.info()\n",
    "PEP_csv"
   ]
  },
  {
   "cell_type": "markdown",
   "metadata": {},
   "source": [
    "### Plotting KO and PEP"
   ]
  },
  {
   "cell_type": "code",
   "execution_count": 8,
   "metadata": {},
   "outputs": [
    {
     "data": {
      "text/plain": [
       "<AxesSubplot:xlabel='DateTime'>"
      ]
     },
     "execution_count": 8,
     "metadata": {},
     "output_type": "execute_result"
    },
    {
     "data": {
      "image/png": "[encoded data removed]",
      "text/plain": [
       "<Figure size 1008x504 with 1 Axes>"
      ]
     },
     "metadata": {
      "needs_background": "light"
     },
     "output_type": "display_data"
    }
   ],
   "source": [
    "# Normalizing both KO & PEP so the first date starts at a price of 1, plot both dataframes\n"
   ]
  },
  {
   "cell_type": "markdown",
   "metadata": {},
   "source": [
    "Per the graph, KO and PEP appear to, for the most part, move in tandem with a consistent spread. At the surface, it also appears that PEP is the more volatile of the 2 stocks. It appears that there are periods where PEP takes a big dip, but eventually works its way back into line.\n",
    "\n",
    "This illustrates the concept of **reversion to the mean**, and it underlies a possible statistical arbitrage opportunity. Buying PEP after a big down move might indicate a buying opportunity. The purchase of PEP is offset with a short-sale of KO to keep the position market-neutral with the intention of minimizing market risk. "
   ]
  },
  {
   "cell_type": "markdown",
   "metadata": {},
   "source": [
    "### KO vs PEP for 2018 - A closer look"
   ]
  },
  {
   "cell_type": "code",
   "execution_count": 9,
   "metadata": {},
   "outputs": [
    {
     "data": {
      "text/plain": [
       "<AxesSubplot:xlabel='DateTime'>"
      ]
     },
     "execution_count": 9,
     "metadata": {},
     "output_type": "execute_result"
    },
    {
     "data": {
      "image/png": "[encoded data removed]",
      "text/plain": [
       "<Figure size 1008x504 with 1 Axes>"
      ]
     },
     "metadata": {
      "needs_background": "light"
     },
     "output_type": "display_data"
    }
   ],
   "source": [
    "# Plotting 2018, again normaling both dataframes\n"
   ]
  },
  {
   "cell_type": "markdown",
   "metadata": {},
   "source": [
    "Honing in on just 2018, the trend seems to hold. When PEP dips and the realative spread between the two narrows, PEP seems to outperform.\n",
    "\n",
    "A firm that plays in statistical arbitrage would establish very quantative criteria around this trend and then execute their pairs trade, that is, buy Pepsi and sell short an equivalent dollar amount of KO. These positions would be held for a very short amount of time, a few hours to a few days. The unwind would likely be triggered by another quantatively-based signal. "
   ]
  },
  {
   "cell_type": "markdown",
   "metadata": {},
   "source": [
    "### Gain/Loss Calculation Example"
   ]
  },
  {
   "cell_type": "markdown",
   "metadata": {},
   "source": [
    "### PEP Purchase\n",
    "\n",
    "Below we will calculate the resulting gain or loss from purchasing 1 share of PEP at the open on 6/20 and selling it at the close on 6/22. The gain/loss is calculated by subtracting the money paid out on the purchase from the money received on the sale. "
   ]
  },
  {
   "cell_type": "code",
   "execution_count": 10,
   "metadata": {},
   "outputs": [
    {
     "data": {
      "text/plain": [
       "2.6799999999999926"
      ]
     },
     "execution_count": 10,
     "metadata": {},
     "output_type": "execute_result"
    }
   ],
   "source": [
    "# PEP purchase\n"
   ]
  },
  {
   "cell_type": "markdown",
   "metadata": {},
   "source": [
    "### KO Short-sale\n",
    "\n",
    "KO is being sold short to reduce market exposure. In our calculation, we will sell 2.5 shares of KO (the cost of 1 share of PEP is 2.5 times that of KO) to keep the dollar-exposure neutral as well. Calculating the gain loss will involve subtracting the money paid out on the purchase to cover our short sale from the money received from the short sale of KO."
   ]
  },
  {
   "cell_type": "code",
   "execution_count": 11,
   "metadata": {},
   "outputs": [
    {
     "data": {
      "text/plain": [
       "1.0125000000000028"
      ]
     },
     "execution_count": 11,
     "metadata": {},
     "output_type": "execute_result"
    }
   ],
   "source": [
    "# KO short sale - 2 shares sold short to keep it dollar-neutral\n"
   ]
  },
  {
   "cell_type": "markdown",
   "metadata": {},
   "source": [
    "In this case, the stat-arb trader would have gotten lucky. Money was made on both sides of the trade as the price of PEP increased, which made money on the long positon, while the price of KO decreased to yield a gain on the short position. \n",
    "\n",
    "In the real world, this trade would have been considerably larger, with much more quantative analysis coming into play. "
   ]
  },
  {
   "cell_type": "code",
   "execution_count": 12,
   "metadata": {},
   "outputs": [
    {
     "data": {
      "text/plain": [
       "3.6924999999999955"
      ]
     },
     "execution_count": 12,
     "metadata": {},
     "output_type": "execute_result"
    }
   ],
   "source": [
    "# Calculate net gain/loss\n"
   ]
  },
  {
   "cell_type": "markdown",
   "metadata": {},
   "source": [
    "## Conslusion\n",
    "\n",
    "Overall, arbitrage seeks to take advantage of a short-term price dislocation between identical or correlated assets. \n",
    "\n",
    "FinTech firms and their sophisticated algorithmic models now scour world-wide markets searching out arbitrage opportunities. These same computer programs are also largely responsible for the trade execution.  \n",
    "\n",
    "It is a dynamic and exciting area at the intersection of FinTech and trading. "
   ]
  },
  {
   "cell_type": "code",
   "execution_count": null,
   "metadata": {},
   "outputs": [],
   "source": []
  }
 ],
 "metadata": {
  "kernelspec": {
   "display_name": "Python 3.7.7 64-bit ('dev': conda)",
   "language": "python",
   "name": "python37764bitdevconda30c4027b071341ef863ddfcdef37d5e3"
  },
  "language_info": {
   "codemirror_mode": {
    "name": "ipython",
    "version": 3
   },
   "file_extension": ".py",
   "mimetype": "text/x-python",
   "name": "python",
   "nbconvert_exporter": "python",
   "pygments_lexer": "ipython3",
   "version": "3.7.1"
  }
 },
 "nbformat": 4,
 "nbformat_minor": 4
}
