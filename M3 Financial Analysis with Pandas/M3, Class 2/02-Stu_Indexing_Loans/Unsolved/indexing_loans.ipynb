{
 "cells": [
  {
   "cell_type": "markdown",
   "metadata": {},
   "source": [
    "# Indexing Loans\n",
    "\n",
    "Read the loan data in from the CSV file and utilize it to answer various questions about the individuls taking our 3 year loans. \n",
    "\n",
    "Instructions:\n",
    "\n",
    "1. Using the Pandas `read_csv` function and the Path module, read in the `loans.csv` file and create the Pandas DataFrame. Review the first five rows of the resulting DataFrame.\n",
    "\n",
    "2. Using `iloc[]`, show the first `10` records of the data.\n",
    "\n",
    "3. Generate the summary statistics for all of the `loans.csv` data.\n",
    "\n",
    "4. Using `iloc[]`, create a subset DataFrame `filtered_df` by selecting only the following columns:\n",
    "\n",
    "    * `loan_amnt`\n",
    "    * `term`\n",
    "    * `int_rate`\n",
    "    * `emp_title`\n",
    "    * `annual_inc`\n",
    "    * `purpose`\n",
    "\n",
    "5. Using `loc[]`, filter `filtered_df` by row values where `term` is equal to `36 months` in order to focus on only three-year loan records.\n",
    "\n",
    "6. Modify rows with `term` values equal to `36 months` to be `3 years`.\n",
    "\n",
    "7. Use the `isnull` and `sum` function to evaluate the number of missing values in the `term_df` DataFrame. Use the `fillna` function to replace the NaN values with 'Unknown'. Review the first five rows of the new DataFrame\n",
    "\n",
    "8. Generate the summary statistics for `term_df` after all modifications.\n",
    "\n",
    "9. Use the `value_counts()` function on the `emp_title` column of the `term_df` DataFrame to see the unique value counts for employee titles of three-year loan customers.\n",
    "\n",
    "10. Use the `value_counts()` function on the `purpose` column of the `term_df` DataFrame to see the unique value counts for loan purposes of three-year loan customers.\n",
    "\n",
    "11. Filter `term_df` by rows with `annual_inc` greater than `80000`. Use the `describe` function to see the mean `int_rate` of three-year loan customers with annual incomes greater than $80,000.\n",
    "\n",
    "12. Filter `term_df` by rows with `annual_inc` less than `80000`. Use the `describe` function to see the average `int_rate` of three-year loan customers with annual incomes less than $80,000.\n",
    "\n",
    "13. Answer the following questions about individuals taking out 3 year loans:\n",
    "\n",
    "    * What kind of customers (employee title) seem to ask for three-year loans most frequently?\n",
    "\n",
    "    * What are three-year loans generally used for?\n",
    "\n",
    "    * What is the difference between counts of three-year loan customers with annual incomes greater than 80,000, compared to those with annual incomes less than 80,000?\n",
    "\n",
    "    * What is the difference between interest rates for customers with annual incomes greater than 80,000 compared to those with annual incomes less than 80,000?"
   ]
  },
  {
   "cell_type": "code",
   "execution_count": null,
   "metadata": {},
   "outputs": [],
   "source": [
    "# Import libraries and dependencies\n",
    "import pandas as pd\n",
    "from pathlib import Path"
   ]
  },
  {
   "cell_type": "markdown",
   "metadata": {},
   "source": [
    "## Using the Pandas `read_csv` function and the Path module, read in in the `loans.csv` file and create the Pandas DataFrame. Review the first five rows of the resulting DataFrame."
   ]
  },
  {
   "cell_type": "code",
   "execution_count": null,
   "metadata": {},
   "outputs": [],
   "source": [
    "# Read in the CSV as a DataFrame\n",
    "# YOUR CODE HERE\n",
    "\n",
    "# Review the first five rows of the DataFrame\n",
    "# YOUR CODE HERE\n"
   ]
  },
  {
   "cell_type": "markdown",
   "metadata": {},
   "source": [
    "## Using the `iloc[]` function, show the first `10` records of the data."
   ]
  },
  {
   "cell_type": "code",
   "execution_count": null,
   "metadata": {},
   "outputs": [],
   "source": [
    "# Retrieve rows with index 0 up to 10 (not including)\n",
    "# YOUR CODE HERE\n"
   ]
  },
  {
   "cell_type": "markdown",
   "metadata": {},
   "source": [
    "## Generate the summary statistics for all of the `loans_df` DataFrame."
   ]
  },
  {
   "cell_type": "code",
   "execution_count": null,
   "metadata": {},
   "outputs": [],
   "source": [
    "# Generate the summary statistics for the DataFrame\n",
    "# Be sure to include all the columns\n",
    "# YOUR CODE HERE\n"
   ]
  },
  {
   "cell_type": "markdown",
   "metadata": {},
   "source": [
    "## Using `iloc[]`, create a subset DataFrame `filtered_df` by selecting only the following columns:\n",
    "\n",
    "* `loan_amnt`\n",
    "* `term`\n",
    "* `int_rate`\n",
    "* `emp_title`\n",
    "* `annual_inc`\n",
    "* `purpose`"
   ]
  },
  {
   "cell_type": "code",
   "execution_count": null,
   "metadata": {},
   "outputs": [],
   "source": [
    "# Using the `iloc` function, create a DataFrame that consists of all rows of the columns:\n",
    "# loan_amnt, term, int_rate, emp_title, annual_inc and purpose\n",
    "# YOUR CODE HERE\n",
    "\n",
    "# Review the first five rows of the filtered DataFrame\n",
    "# YOUR CODE HERE"
   ]
  },
  {
   "cell_type": "markdown",
   "metadata": {},
   "source": [
    "## Using `loc[]`, filter `filtered_df` by row values where `term` is equal to `36 months` in order to focus on only three-year loan records."
   ]
  },
  {
   "cell_type": "code",
   "execution_count": null,
   "metadata": {},
   "outputs": [],
   "source": [
    "# Conditional indexing to filter DataFrame where 'term' is equal to '36 months'\n",
    "# YOUR CODE HERE\n",
    "\n",
    "# Review the first five rows of the term_df DataFrame\n",
    "# YOUR CODE HERE\n"
   ]
  },
  {
   "cell_type": "markdown",
   "metadata": {},
   "source": [
    "## Modify rows with `term` values equal to `36 months` to be `3 years`."
   ]
  },
  {
   "cell_type": "code",
   "execution_count": null,
   "metadata": {},
   "outputs": [],
   "source": [
    "# Change row values within the 'term' column from '36 months' to '3 Years'\n",
    "# YOUR CODE HERE\n",
    "\n",
    "# Review the first five rows of the term_df DataFrame\n",
    "# YOUR CODE HERE\n"
   ]
  },
  {
   "cell_type": "markdown",
   "metadata": {},
   "source": [
    "## Use the `isnull` and `sum` function to evaluate the number of missing values in the `term_df` DataFramerame. Use the `fillna` function to replace the NaN values with 'Unknown'. Review the first five rows of the new DataFrame "
   ]
  },
  {
   "cell_type": "code",
   "execution_count": null,
   "metadata": {},
   "outputs": [],
   "source": [
    "# Use the isnaull and sum functions to evaluate the number of missing values in the `term_df` DataFramerame.\n",
    "# YOUR CODE HERE\n"
   ]
  },
  {
   "cell_type": "code",
   "execution_count": null,
   "metadata": {},
   "outputs": [],
   "source": [
    "#  Use the `fillna` function to replace the NaN values with 'Unknown'\n",
    "# YOUR CODE HERE\n",
    "\n",
    "# Review the first five rows of the cleaned term_df DataFrame\n",
    "# YOUR CODE HERE\n"
   ]
  },
  {
   "cell_type": "markdown",
   "metadata": {},
   "source": [
    "### Generate the summary statistics for `term_df` after all modifications."
   ]
  },
  {
   "cell_type": "code",
   "execution_count": null,
   "metadata": {},
   "outputs": [],
   "source": [
    "# Describe summary statistics for three-year loans\n",
    "# YOUR CODE HERE\n"
   ]
  },
  {
   "cell_type": "markdown",
   "metadata": {},
   "source": [
    "## Use the `value_counts()` function on the `emp_title` column of the `term_df` DataFrame to see the unique value counts for employee titles of three-year loan customers."
   ]
  },
  {
   "cell_type": "code",
   "execution_count": null,
   "metadata": {},
   "outputs": [],
   "source": [
    "# Calculate unique values and counts for employee titles of 3 year customer loans\n",
    "# YOUR CODE HERE\n"
   ]
  },
  {
   "cell_type": "markdown",
   "metadata": {},
   "source": [
    "## Use the `value_counts()` function on the `purpose` column of the `term_df` DataFrame to see the unique value counts for loan purposes of three-year loan customers."
   ]
  },
  {
   "cell_type": "code",
   "execution_count": null,
   "metadata": {},
   "outputs": [],
   "source": [
    "# Calculate unique values and counts for loan purposes of 3 year customer loans\n",
    "# YOUR CODE HERE\n"
   ]
  },
  {
   "cell_type": "markdown",
   "metadata": {},
   "source": [
    "## Filter `term_df` by rows with `annual_inc` greater than `80000`. Use the `describe` function to see the mean `int_rate` of three-year loan customers with annual incomes greater than $80,000."
   ]
  },
  {
   "cell_type": "code",
   "execution_count": null,
   "metadata": {},
   "outputs": [],
   "source": [
    "# Display summary statistics where annual income is greater than $80,000 to find count and mean\n",
    "# YOUR CODE HERE\n"
   ]
  },
  {
   "cell_type": "markdown",
   "metadata": {},
   "source": [
    "## Filter `term_df` by rows with `annual_inc` less than `80000`. Use the `describe` function to see the average `int_rate` of three-year loan customers with annual incomes less than $80,000."
   ]
  },
  {
   "cell_type": "code",
   "execution_count": null,
   "metadata": {},
   "outputs": [],
   "source": [
    "# Display summary statistics where annual income is less than $80,000 to find count and mean\n",
    "# YOUR CODE HERE\n"
   ]
  },
  {
   "cell_type": "markdown",
   "metadata": {},
   "source": [
    "## Answer the following questions about individuals taking out 3 year loans:\n",
    "\n",
    "1. What kind of customers (employee title) seem to ask for three-year loans most frequently?\n",
    "2. What are three-year loans generally used for?\n",
    "3. What is the difference in count of three-year loan customers with annual incomes greater than 80,000 compared to those with annual incomes less than 80,000?\n",
    "4. What is the difference in interest rates of three-year loan customers with annual incomes greater than 80,000 compared to those with annual incomes less than 80,000? "
   ]
  },
  {
   "cell_type": "markdown",
   "metadata": {},
   "source": [
    "# YOUR ANSWERS HERE"
   ]
  },
  {
   "cell_type": "code",
   "execution_count": null,
   "metadata": {},
   "outputs": [],
   "source": []
  }
 ],
 "metadata": {
  "kernelspec": {
   "display_name": "Python 3",
   "language": "python",
   "name": "python3"
  },
  "language_info": {
   "codemirror_mode": {
    "name": "ipython",
    "version": 3
   },
   "file_extension": ".py",
   "mimetype": "text/x-python",
   "name": "python",
   "nbconvert_exporter": "python",
   "pygments_lexer": "ipython3",
   "version": "3.7.3"
  }
 },
 "nbformat": 4,
 "nbformat_minor": 4
}
