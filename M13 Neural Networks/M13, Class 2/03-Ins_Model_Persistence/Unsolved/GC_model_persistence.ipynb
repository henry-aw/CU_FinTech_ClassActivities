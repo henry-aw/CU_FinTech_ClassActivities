{
  "nbformat": 4,
  "nbformat_minor": 0,
  "metadata": {
    "file_extension": ".py",
    "kernelspec": {
      "display_name": "Python 3",
      "language": "python",
      "name": "python3"
    },
    "language_info": {
      "codemirror_mode": {
        "name": "ipython",
        "version": 3
      },
      "file_extension": ".py",
      "mimetype": "text/x-python",
      "name": "python",
      "nbconvert_exporter": "python",
      "pygments_lexer": "ipython3",
      "version": "3.7.7"
    },
    "mimetype": "text/x-python",
    "name": "python",
    "npconvert_exporter": "python",
    "pygments_lexer": "ipython3",
    "version": 3,
    "colab": {
      "name": "model_persistence.ipynb",
      "provenance": []
    }
  },
  "cells": [
    {
      "cell_type": "markdown",
      "metadata": {
        "id": "lGhmGAlcrEj4"
      },
      "source": [
        "# Model Persistence"
      ]
    },
    {
      "cell_type": "code",
      "metadata": {
        "id": "vcq-4NNprEj5"
      },
      "source": [
        "# Initial imports\n",
        "from tensorflow.keras.models import Sequential\n",
        "from tensorflow.keras.layers import Dense\n",
        "import pandas as pd"
      ],
      "execution_count": null,
      "outputs": []
    },
    {
      "cell_type": "code",
      "metadata": {
        "id": "GEsfAf3vrHHm"
      },
      "source": [
        "# Upload winequality.csv to Colab\n",
        "from google.colab import files\n",
        "\n",
        "csv_file = files.upload()"
      ],
      "execution_count": null,
      "outputs": []
    },
    {
      "cell_type": "code",
      "metadata": {
        "id": "GR8YHqHxrEj6"
      },
      "source": [
        "# Read in data\n",
        "df = pd.read_csv(\"winequality.csv\", delimiter=\";\")\n",
        "df.head()"
      ],
      "execution_count": null,
      "outputs": []
    },
    {
      "cell_type": "markdown",
      "metadata": {
        "id": "vNN7zawtrEj6"
      },
      "source": [
        "## Prepare the data"
      ]
    },
    {
      "cell_type": "code",
      "metadata": {
        "id": "oI1it7X3rEj6"
      },
      "source": [
        "# Define the features X set and the target y vector\n"
      ],
      "execution_count": null,
      "outputs": []
    },
    {
      "cell_type": "code",
      "metadata": {
        "id": "IrrkAnPxrEj7"
      },
      "source": [
        "# Scale the data\n"
      ],
      "execution_count": null,
      "outputs": []
    },
    {
      "cell_type": "markdown",
      "metadata": {
        "id": "1_r8dKD0rEj7"
      },
      "source": [
        "## Create the shallow neural network model"
      ]
    },
    {
      "cell_type": "code",
      "metadata": {
        "id": "pJ9qInUOrEj7"
      },
      "source": [
        "# Define the model - shallow neural network\n",
        "\n",
        "# Hidden layer\n",
        "\n",
        "# Output layer\n"
      ],
      "execution_count": null,
      "outputs": []
    },
    {
      "cell_type": "code",
      "metadata": {
        "id": "-zf3lTGLrEj7"
      },
      "source": [
        "# Compile the model\n",
        "\n",
        "# Fit the model\n"
      ],
      "execution_count": null,
      "outputs": []
    },
    {
      "cell_type": "markdown",
      "metadata": {
        "id": "2MqB67cFrEj7"
      },
      "source": [
        "## Save the model as JSON to a file"
      ]
    },
    {
      "cell_type": "code",
      "metadata": {
        "id": "dnlUKb9WrEj7"
      },
      "source": [
        "# Create file path for model as JSON\n",
        "file_path = \"model.json\"\n",
        "\n",
        "# Save model as JSON\n"
      ],
      "execution_count": null,
      "outputs": []
    },
    {
      "cell_type": "markdown",
      "metadata": {
        "id": "moil8NLfrEj8"
      },
      "source": [
        "## Save the model weights"
      ]
    },
    {
      "cell_type": "code",
      "metadata": {
        "id": "9vvri9QtrEj8"
      },
      "source": [
        "# Create file path for weights\n",
        "file_path = \"model.h5\"\n",
        "\n",
        "# Save weights\n"
      ],
      "execution_count": null,
      "outputs": []
    },
    {
      "cell_type": "markdown",
      "metadata": {
        "id": "uKjMUtderEj8"
      },
      "source": [
        "## Load the model and weights"
      ]
    },
    {
      "cell_type": "code",
      "metadata": {
        "id": "HzTBB9MKrEj8"
      },
      "source": [
        "# Load the saved model to make predictions\n",
        "\n",
        "# Imports\n",
        "\n",
        "# Create file path for model as JSON\n",
        "file_path = \"model.json\"\n",
        "\n",
        "# load json and create model\n",
        "\n",
        "\n",
        "# Create file path for model\n",
        "file_path = \"model.h5\"\n",
        "\n",
        "# load weights into new model\n",
        "\n"
      ],
      "execution_count": null,
      "outputs": []
    },
    {
      "cell_type": "markdown",
      "metadata": {
        "id": "G3Xduk9-rEj8"
      },
      "source": [
        "## Make predictions with the model"
      ]
    },
    {
      "cell_type": "code",
      "metadata": {
        "id": "BcWVMWAbrEj8"
      },
      "source": [
        "# Make some predictions with the loaded model\n"
      ],
      "execution_count": null,
      "outputs": []
    }
  ]
}